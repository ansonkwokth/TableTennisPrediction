{
  "nbformat": 4,
  "nbformat_minor": 0,
  "metadata": {
    "colab": {
      "provenance": [],
      "include_colab_link": true
    },
    "kernelspec": {
      "name": "python3",
      "display_name": "Python 3"
    },
    "language_info": {
      "name": "python"
    }
  },
  "cells": [
    {
      "cell_type": "markdown",
      "metadata": {
        "id": "view-in-github",
        "colab_type": "text"
      },
      "source": [
        "<a href=\"https://colab.research.google.com/github/ansonkwokth/TableTennisPrediction/blob/main/example.ipynb\" target=\"_parent\"><img src=\"https://colab.research.google.com/assets/colab-badge.svg\" alt=\"Open In Colab\"/></a>"
      ]
    },
    {
      "cell_type": "code",
      "source": [
        "!git clone https://github.com/ansonkwokth/TableTennisPrediction.git\n",
        "%cd TableTennisPrediction"
      ],
      "metadata": {
        "id": "1qbWxax1nF6X",
        "outputId": "f1259376-f90c-4c25-dd45-87e9344851fb",
        "colab": {
          "base_uri": "https://localhost:8080/"
        }
      },
      "execution_count": 4,
      "outputs": [
        {
          "output_type": "stream",
          "name": "stdout",
          "text": [
            "fatal: destination path 'TableTennisPrediction' already exists and is not an empty directory.\n",
            "/content/TableTennisPrediction\n"
          ]
        }
      ]
    },
    {
      "cell_type": "code",
      "execution_count": 5,
      "metadata": {
        "id": "whRJbYkb6JTI"
      },
      "outputs": [],
      "source": [
        "import pandas as pd\n",
        "from utils import data_loader as dl\n",
        "\n",
        "import numpy as np\n",
        "from model.Elo import Elo\n",
        "from model.ModifiedElo import ModifiedElo\n",
        "from model.ensemble import BaggingRatingSystem\n",
        "\n",
        "import matplotlib.pyplot as plt\n",
        "import seaborn as sns\n",
        "\n",
        "from tqdm import tqdm\n",
        "\n",
        "import copy\n",
        "\n",
        "import warnings\n",
        "warnings.filterwarnings('ignore')"
      ]
    },
    {
      "cell_type": "markdown",
      "source": [
        "# Data"
      ],
      "metadata": {
        "id": "zL9XnSNXVA-e"
      }
    },
    {
      "cell_type": "code",
      "source": [
        "# GAME = 'TTStar'\n",
        "# GAME = 'TTCup'\n",
        "# GAME = 'SetkaCup'\n",
        "GAME = 'SetkaCupWomen'\n",
        "# GAME = 'LigaPro'\n"
      ],
      "metadata": {
        "id": "vEfGED5M7Pa2"
      },
      "execution_count": 6,
      "outputs": []
    },
    {
      "cell_type": "code",
      "source": [
        "match GAME:\n",
        "    case 'TTStar':\n",
        "        years = [2020, 2021, 2022, 2023, 2024]\n",
        "    case 'TTCup':\n",
        "        years = [2020, 2021, 2022, 2023, 2024]\n",
        "    case 'SetkaCup':\n",
        "        years = [2020, 2021, 2022, 2023, 2024]\n",
        "    case 'SetkaCupWomen':\n",
        "        years = [2020, 2021, 2022, 2023, 2024]\n",
        "    case 'LigaPro':\n",
        "        years = [2022, 2023, 2024]\n",
        "    case _:\n",
        "        raise ValueError(\"Invalid game selected.\")\n",
        "\n",
        "\n",
        "text_data_game = dl.load_game_data(GAME, years, '../')\n",
        "text_data = {\n",
        "    year: text_data_game[year] for year in years\n",
        "}\n",
        "df = dl.create_game_dfs(GAME, years, text_data)"
      ],
      "metadata": {
        "colab": {
          "base_uri": "https://localhost:8080/"
        },
        "id": "LYKKHO267cRc",
        "outputId": "369ec55b-73aa-4572-ee19-06487f6c3bd9"
      },
      "execution_count": 7,
      "outputs": [
        {
          "output_type": "stream",
          "name": "stdout",
          "text": [
            "Loading ..//SetkaCupWomen2020.txt\n",
            "Loading ..//SetkaCupWomen2021.txt\n",
            "Loading ..//SetkaCupWomen2022.txt\n",
            "Loading ..//SetkaCupWomen2023.txt\n",
            "Loading ..//SetkaCupWomen2024.txt\n"
          ]
        }
      ]
    },
    {
      "cell_type": "code",
      "source": [
        "# Generate ID indices for each pair of rows in the DataFrame\n",
        "idx_lt = [i for i in range(len(df) // 2) for _ in range(2)]\n",
        "df['ID'] = idx_lt  # Assign to the 'ID' column\n",
        "\n",
        "# Reset the DataFrame index to ensure it's sequential\n",
        "df.reset_index(drop=True, inplace=True)\n",
        "\n",
        "# Get unique players and store them in player_lt\n",
        "player_lt = df['Player'].unique()\n",
        "\n"
      ],
      "metadata": {
        "id": "L8oBW_wk7uvM"
      },
      "execution_count": 8,
      "outputs": []
    },
    {
      "cell_type": "code",
      "source": [
        "year_val = years[-2]\n",
        "year_test = years[-1]\n",
        "\n",
        "df_train = df.loc[pd.DatetimeIndex(df['Date']).year < year_val]\n",
        "df_val = df.loc[pd.DatetimeIndex(df['Date']).year == year_val]\n",
        "df_test = df.loc[pd.DatetimeIndex(df['Date']).year == year_test]"
      ],
      "metadata": {
        "id": "tC-31F8o7dPX"
      },
      "execution_count": 9,
      "outputs": []
    },
    {
      "cell_type": "code",
      "source": [
        "def format_to_array(df: pd.DataFrame) -> np.ndarray:\n",
        "\n",
        "    # info_col = ['ID', 'Round', 'Datetime', 'Game', 'Date', 'Time']\n",
        "    info_col = ['Round', 'Datetime', 'Game', 'Date', 'Time']\n",
        "    col = [item for item in df.columns if item not in info_col]\n",
        "\n",
        "    df[[c for c in col if \"Set\" in c]] = df[[c for c in col if \"Set\" in c]].astype(float)\n",
        "    X = df[col].values.reshape(-1, 2, len(col))\n",
        "    return X"
      ],
      "metadata": {
        "id": "SoUKN9X77sQb"
      },
      "execution_count": 10,
      "outputs": []
    },
    {
      "cell_type": "code",
      "source": [
        "X_train = format_to_array(df_train)\n",
        "X_val = format_to_array(df_val)\n",
        "X_test = format_to_array(df_test)"
      ],
      "metadata": {
        "id": "vG2lv7psPyjG"
      },
      "execution_count": 11,
      "outputs": []
    },
    {
      "cell_type": "code",
      "source": [
        "X_all = format_to_array(df)"
      ],
      "metadata": {
        "id": "ZP-HZHKKfijU"
      },
      "execution_count": 26,
      "outputs": []
    },
    {
      "cell_type": "markdown",
      "source": [
        "# Train and Evaluate"
      ],
      "metadata": {
        "id": "2hpL0yo0VEWX"
      }
    },
    {
      "cell_type": "code",
      "source": [
        "# traditional Elo\n",
        "modelElo = Elo()\n",
        "# modified Elo\n",
        "modelMElo = ModifiedElo()\n",
        "\n",
        "# traing model with only training set\n",
        "modelElo.fit(X_train)\n",
        "modelMElo.fit(X_train)\n"
      ],
      "metadata": {
        "colab": {
          "base_uri": "https://localhost:8080/"
        },
        "id": "VZccLMORQCJo",
        "outputId": "36e5c30a-f365-4aea-cf97-836595e12cbd"
      },
      "execution_count": 12,
      "outputs": [
        {
          "output_type": "stream",
          "name": "stderr",
          "text": [
            "Training model: 100%|██████████| 26120/26120 [00:00<00:00, 37272.31it/s]\n",
            "Training model: 100%|██████████| 26120/26120 [00:01<00:00, 19225.62it/s]\n"
          ]
        }
      ]
    },
    {
      "cell_type": "code",
      "source": [
        "# ensembleElo = BaggingRatingSystem(estimator=Elo(), n_models=10, sample_ratio=0.5)\n",
        "# ensembleElo.fit(X_train)"
      ],
      "metadata": {
        "id": "rV1pdLpz3lKj"
      },
      "execution_count": 13,
      "outputs": []
    },
    {
      "cell_type": "code",
      "source": [
        "# ensembleMElo = BaggingRatingSystem(estimator=ModifiedElo(), n_models=10, sample_ratio=0.5)\n",
        "# ensembleMElo.fit(X_train)"
      ],
      "metadata": {
        "id": "heDoyD5j3qqz"
      },
      "execution_count": 14,
      "outputs": []
    },
    {
      "cell_type": "code",
      "source": [
        "def evaluate(model, dataset):\n",
        "    print(f\"Evaluate model: {repr(model)}\")\n",
        "    _model = copy.deepcopy(model)\n",
        "    _model.verbose = False\n",
        "    correct = 0\n",
        "    n_matches = 0\n",
        "\n",
        "    history = []\n",
        "    predictions = []\n",
        "    for matchi in tqdm(dataset, desc=\"Evaluating matches\"):\n",
        "        matchi = matchi.T\n",
        "        player1, player2 = matchi[1]\n",
        "\n",
        "        found_p1, found_p2, p = _model.predict_game(player1, player2)\n",
        "        if not (found_p1 and found_p2): continue\n",
        "        if p == 0.5: continue\n",
        "        whowillwin = 0 if p > 0.5 else 1\n",
        "\n",
        "        win1 = sum(matchi[2:, 0]>matchi[2:, 1])\n",
        "        win2 = sum(matchi[2:, 0]<matchi[2:, 1])\n",
        "        whowon = 0 if win1 > win2 else 1\n",
        "\n",
        "        history.append(win1/(win1 + win2))\n",
        "        predictions.append(p)\n",
        "\n",
        "        n_matches += 1\n",
        "        if (whowon == whowillwin): correct += 1\n",
        "\n",
        "    acc = correct / n_matches\n",
        "    print(f'\\n === Accuracy: {acc} === \\n\\n')\n",
        "    return acc, np.array(history), np.array(predictions)\n",
        "\n"
      ],
      "metadata": {
        "id": "xzabwGZLRDzD"
      },
      "execution_count": 15,
      "outputs": []
    },
    {
      "cell_type": "code",
      "source": [
        "# evaluate the model with the training set\n",
        "evaluate(modelElo, X_train);\n",
        "evaluate(modelMElo, X_train);\n",
        "# evaluate(ensembleElo, X_train);\n",
        "# evaluate(ensembleMElo, X_train);\n"
      ],
      "metadata": {
        "id": "x7r1vQV3dVIA",
        "outputId": "3a88f3e7-be43-4032-a80d-d4ea4bb707a2",
        "colab": {
          "base_uri": "https://localhost:8080/"
        }
      },
      "execution_count": 16,
      "outputs": [
        {
          "output_type": "stream",
          "name": "stdout",
          "text": [
            "Evaluate model: Elo(learning_rate=32, base_rate=1000, verbose=False)\n"
          ]
        },
        {
          "output_type": "stream",
          "name": "stderr",
          "text": [
            "Evaluating matches: 100%|██████████| 26120/26120 [00:00<00:00, 31492.17it/s]\n"
          ]
        },
        {
          "output_type": "stream",
          "name": "stdout",
          "text": [
            "\n",
            " === Accuracy: 0.5256891271056662 === \n",
            "\n",
            "\n",
            "Evaluate model: ModifiedElo(learning_rate=0.1, base_param=(0, 1), update_sigma=True, verbose=False)\n"
          ]
        },
        {
          "output_type": "stream",
          "name": "stderr",
          "text": [
            "Evaluating matches: 100%|██████████| 26120/26120 [00:00<00:00, 26636.51it/s]"
          ]
        },
        {
          "output_type": "stream",
          "name": "stdout",
          "text": [
            "\n",
            " === Accuracy: 0.6153905053598775 === \n",
            "\n",
            "\n"
          ]
        },
        {
          "output_type": "stream",
          "name": "stderr",
          "text": [
            "\n"
          ]
        }
      ]
    },
    {
      "cell_type": "code",
      "source": [
        "# evaluate the model with the evaluating set\n",
        "evaluate(modelElo, X_val);\n",
        "evaluate(modelMElo, X_val);\n",
        "# evaluate(ensembleElo, X_val);\n",
        "# evaluate(ensembleMElo, X_val);\n"
      ],
      "metadata": {
        "id": "jb3wex6KVG5I",
        "colab": {
          "base_uri": "https://localhost:8080/"
        },
        "outputId": "b50208b8-324e-42ef-f0ff-85ffd445be8e"
      },
      "execution_count": 17,
      "outputs": [
        {
          "output_type": "stream",
          "name": "stdout",
          "text": [
            "Evaluate model: Elo(learning_rate=32, base_rate=1000, verbose=False)\n"
          ]
        },
        {
          "output_type": "stream",
          "name": "stderr",
          "text": [
            "Evaluating matches: 100%|██████████| 6490/6490 [00:00<00:00, 18753.79it/s]\n"
          ]
        },
        {
          "output_type": "stream",
          "name": "stdout",
          "text": [
            "\n",
            " === Accuracy: 0.5358906190657046 === \n",
            "\n",
            "\n",
            "Evaluate model: ModifiedElo(learning_rate=0.1, base_param=(0, 1), update_sigma=True, verbose=False)\n"
          ]
        },
        {
          "output_type": "stream",
          "name": "stderr",
          "text": [
            "Evaluating matches: 100%|██████████| 6490/6490 [00:00<00:00, 23143.91it/s]"
          ]
        },
        {
          "output_type": "stream",
          "name": "stdout",
          "text": [
            "\n",
            " === Accuracy: 0.5818458032662363 === \n",
            "\n",
            "\n"
          ]
        },
        {
          "output_type": "stream",
          "name": "stderr",
          "text": [
            "\n"
          ]
        }
      ]
    },
    {
      "cell_type": "code",
      "source": [
        "\n",
        "# define a new model, and import the pre-trained params from the training set\n",
        "modelElo_test = Elo(learning_rate=modelElo.learning_rate)\n",
        "modelElo_test.params = modelElo.params\n",
        "\n",
        "# training the model again with the evaluating set, on top of the pre-trained params\n",
        "modelElo_test.fit(X_val)"
      ],
      "metadata": {
        "id": "rR3vwm1gJ1Y_",
        "outputId": "addf8cd1-4c36-4f4e-f177-a6f6051a1bb5",
        "colab": {
          "base_uri": "https://localhost:8080/"
        }
      },
      "execution_count": 18,
      "outputs": [
        {
          "output_type": "stream",
          "name": "stderr",
          "text": [
            "Training model: 100%|██████████| 6490/6490 [00:00<00:00, 37539.42it/s]\n"
          ]
        }
      ]
    },
    {
      "cell_type": "code",
      "source": [
        "# define a new model, and import the pre-trained params from the training set\n",
        "modelMElo_test = ModifiedElo(learning_rate=modelMElo.learning_rate)\n",
        "modelMElo_test.params = modelMElo.params\n",
        "\n",
        "# training the model again with the evaluating set, on top of the pre-trained params\n",
        "modelMElo_test.fit(X_val)"
      ],
      "metadata": {
        "id": "r5aVe_cNd2OX",
        "outputId": "b363cb70-39e0-4be5-e6cd-0c58d9a2e841",
        "colab": {
          "base_uri": "https://localhost:8080/"
        }
      },
      "execution_count": 19,
      "outputs": [
        {
          "output_type": "stream",
          "name": "stderr",
          "text": [
            "Training model: 100%|██████████| 6490/6490 [00:00<00:00, 19509.75it/s]\n"
          ]
        }
      ]
    },
    {
      "cell_type": "code",
      "source": [
        "# X_train_val = np.append(X_train, X_val, axis=0)\n",
        "\n",
        "# ensembleElo_test = BaggingRatingSystem(estimator=Elo(), n_models=10, sample_ratio=0.5)\n",
        "# ensembleElo_test.fit(X_train_val)"
      ],
      "metadata": {
        "id": "n1dA-vCGkF9H"
      },
      "execution_count": 20,
      "outputs": []
    },
    {
      "cell_type": "code",
      "source": [
        "# ensembleMElo_test = BaggingRatingSystem(estimator=ModifiedElo(), n_models=10, sample_ratio=0.5)\n",
        "# ensembleMElo_test.fit(X_train_val)"
      ],
      "metadata": {
        "id": "atm7pf_0kPTB"
      },
      "execution_count": 21,
      "outputs": []
    },
    {
      "cell_type": "code",
      "source": [
        "# evaluate the model with the testing set\n",
        "evaluate(modelElo_test, X_val);\n",
        "evaluate(modelMElo_test, X_val);\n",
        "# evaluate(ensembleElo_test, X_val);\n",
        "# evaluate(ensembleMElo_test, X_val);"
      ],
      "metadata": {
        "id": "JhCn1sdZTZfy",
        "outputId": "2e5c002d-651a-479b-beaf-06489d9228d1",
        "colab": {
          "base_uri": "https://localhost:8080/"
        }
      },
      "execution_count": 22,
      "outputs": [
        {
          "output_type": "stream",
          "name": "stdout",
          "text": [
            "Evaluate model: Elo(learning_rate=32, base_rate=1000, verbose=False)\n"
          ]
        },
        {
          "output_type": "stream",
          "name": "stderr",
          "text": [
            "Evaluating matches: 100%|██████████| 6490/6490 [00:00<00:00, 18974.03it/s]\n"
          ]
        },
        {
          "output_type": "stream",
          "name": "stdout",
          "text": [
            "\n",
            " === Accuracy: 0.5359013867488444 === \n",
            "\n",
            "\n",
            "Evaluate model: ModifiedElo(learning_rate=0.1, base_param=(0, 1), update_sigma=True, verbose=False)\n"
          ]
        },
        {
          "output_type": "stream",
          "name": "stderr",
          "text": [
            "Evaluating matches: 100%|██████████| 6490/6490 [00:00<00:00, 26336.11it/s]"
          ]
        },
        {
          "output_type": "stream",
          "name": "stdout",
          "text": [
            "\n",
            " === Accuracy: 0.6220338983050847 === \n",
            "\n",
            "\n"
          ]
        },
        {
          "output_type": "stream",
          "name": "stderr",
          "text": [
            "\n"
          ]
        }
      ]
    },
    {
      "cell_type": "code",
      "source": [
        "# evaluate the model with the testing set\n",
        "accElo, historyElo, predictionsElo = evaluate(modelElo_test, X_test)\n",
        "accMElo, historyMElo, predictionsMElo = evaluate(modelMElo_test, X_test)\n",
        "# accenElo, historyenElo, predictionsenElo = evaluate(ensembleElo_test, X_test);\n",
        "# accenMElo, historyenMElo, predictionsenMElo = evaluate(ensembleMElo_test, X_test);"
      ],
      "metadata": {
        "id": "achgwFGKeGtN",
        "outputId": "4a4e0db7-4f55-4b40-fa0a-e8c50989b93a",
        "colab": {
          "base_uri": "https://localhost:8080/"
        }
      },
      "execution_count": 23,
      "outputs": [
        {
          "output_type": "stream",
          "name": "stdout",
          "text": [
            "Evaluate model: Elo(learning_rate=32, base_rate=1000, verbose=False)\n"
          ]
        },
        {
          "output_type": "stream",
          "name": "stderr",
          "text": [
            "Evaluating matches: 100%|██████████| 1969/1969 [00:00<00:00, 9056.31it/s]\n"
          ]
        },
        {
          "output_type": "stream",
          "name": "stdout",
          "text": [
            "\n",
            " === Accuracy: 0.569060773480663 === \n",
            "\n",
            "\n",
            "Evaluate model: ModifiedElo(learning_rate=0.1, base_param=(0, 1), update_sigma=True, verbose=False)\n"
          ]
        },
        {
          "output_type": "stream",
          "name": "stderr",
          "text": [
            "Evaluating matches: 100%|██████████| 1969/1969 [00:00<00:00, 6653.02it/s] "
          ]
        },
        {
          "output_type": "stream",
          "name": "stdout",
          "text": [
            "\n",
            " === Accuracy: 0.6519337016574586 === \n",
            "\n",
            "\n"
          ]
        },
        {
          "output_type": "stream",
          "name": "stderr",
          "text": [
            "\n"
          ]
        }
      ]
    },
    {
      "cell_type": "code",
      "source": [
        "# plt.scatter(historyElo, predictionsElo, alpha=0.05)\n",
        "plt.scatter(historyMElo, predictionsMElo, alpha=0.05)\n",
        "# plt.scatter(historyenMElo, predictionsenMElo, alpha=0.05)\n",
        "plt.xlabel(\"True\")\n",
        "plt.ylabel(\"Pred\")"
      ],
      "metadata": {
        "colab": {
          "base_uri": "https://localhost:8080/",
          "height": 466
        },
        "id": "Yi6Yw88vc5wp",
        "outputId": "f420a0e3-6b90-4d89-8ced-ed64e99ce90a"
      },
      "execution_count": 24,
      "outputs": [
        {
          "output_type": "execute_result",
          "data": {
            "text/plain": [
              "Text(0, 0.5, 'Pred')"
            ]
          },
          "metadata": {},
          "execution_count": 24
        },
        {
          "output_type": "display_data",
          "data": {
            "text/plain": [
              "<Figure size 640x480 with 1 Axes>"
            ],
            "image/png": "[encoded data removed]"
          },
          "metadata": {}
        }
      ]
    },
    {
      "cell_type": "code",
      "source": [
        "bins_=10\n",
        "history_p = [0, 0.25, 0.4, 0.6, 0.75, 1]\n",
        "for p in history_p[:3]:\n",
        "    plt.hist(predictionsMElo[historyMElo == p], range=[0, 1], bins=bins_, histtype='step', density=True, label=f\"Truth={p}\");\n",
        "\n",
        "plt.legend();\n",
        "plt.show()\n",
        "\n",
        "for p in history_p[3:]:\n",
        "    plt.hist(predictionsMElo[historyMElo == p], range=[0, 1], bins=bins_, histtype='step', density=True, label=f\"Truth={p}\");\n",
        "\n",
        "plt.legend();\n",
        "plt.show()"
      ],
      "metadata": {
        "colab": {
          "base_uri": "https://localhost:8080/",
          "height": 848
        },
        "id": "cGKloWhcc8rF",
        "outputId": "2e9db5be-add8-4e7a-b12f-119a4f3e7b4f"
      },
      "execution_count": 25,
      "outputs": [
        {
          "output_type": "display_data",
          "data": {
            "text/plain": [
              "<Figure size 640x480 with 1 Axes>"
            ],
            "image/png": "[encoded data removed]"
          },
          "metadata": {}
        },
        {
          "output_type": "display_data",
          "data": {
            "text/plain": [
              "<Figure size 640x480 with 1 Axes>"
            ],
            "image/png": "[encoded data removed]"
          },
          "metadata": {}
        }
      ]
    },
    {
      "cell_type": "markdown",
      "source": [
        "# Inference"
      ],
      "metadata": {
        "id": "APb1pnGvDni7"
      }
    },
    {
      "cell_type": "code",
      "source": [
        "player1 = 'Folwarski J.'\n",
        "player2 = 'Brossier B.'\n",
        "\n",
        "found_p1, found_p2, p_point = modelMElo_test.predict_point(player1, player2)\n",
        "found_p1, found_p2, p_set = modelMElo_test.predict_set(player1, player2)\n",
        "found_p1, found_p2, p_game = modelMElo_test.predict_game(player1, player2)"
      ],
      "metadata": {
        "id": "XuxUpl5KDcbI"
      },
      "execution_count": null,
      "outputs": []
    },
    {
      "cell_type": "code",
      "source": [
        "print(f\"p({player1} wins a point)  = {p_point:.4f}\")\n",
        "print(f\"p({player1} wins a set)    = {p_set:.4f}\")\n",
        "print(f\"p({player1} wins the game) = {p_game:.4f}\")"
      ],
      "metadata": {
        "id": "6LHuDForDNdY",
        "outputId": "ab680abb-67b2-4bfa-a565-429da899eb08",
        "colab": {
          "base_uri": "https://localhost:8080/"
        }
      },
      "execution_count": null,
      "outputs": [
        {
          "output_type": "stream",
          "name": "stdout",
          "text": [
            "p(Folwarski J. wins a point)  = 0.5318\n",
            "p(Folwarski J. wins a set)    = 0.6215\n",
            "p(Folwarski J. wins the game) = 0.7191\n"
          ]
        }
      ]
    },
    {
      "cell_type": "code",
      "source": [
        "found_p1, found_p2, ps_set = modelMElo_test.predict_set_config(player1, player2)\n",
        "\n",
        "for points, p in ps_set.items():\n",
        "    print(f\"p({player1} wins a set with total points={points}) = {p:.4f}\")"
      ],
      "metadata": {
        "id": "alTolY_ZEHco",
        "outputId": "04a728ef-8233-47ac-bbec-138fcd90b81c",
        "colab": {
          "base_uri": "https://localhost:8080/"
        }
      },
      "execution_count": null,
      "outputs": [
        {
          "output_type": "stream",
          "name": "stdout",
          "text": [
            "p(Folwarski J. wins a set with total points=11) = 0.0010\n",
            "p(Folwarski J. wins a set with total points=12) = 0.0050\n",
            "p(Folwarski J. wins a set with total points=13) = 0.0139\n",
            "p(Folwarski J. wins a set with total points=14) = 0.0283\n",
            "p(Folwarski J. wins a set with total points=15) = 0.0463\n",
            "p(Folwarski J. wins a set with total points=16) = 0.0650\n",
            "p(Folwarski J. wins a set with total points=17) = 0.0812\n",
            "p(Folwarski J. wins a set with total points=18) = 0.0923\n",
            "p(Folwarski J. wins a set with total points=19) = 0.0972\n",
            "p(Folwarski J. wins a set with total points=20) = 0.0961\n",
            "p(Folwarski J. wins a set with total points=22) = 0.0953\n"
          ]
        }
      ]
    },
    {
      "cell_type": "code",
      "source": [
        "# by defalt, who wins 3 sets will win the game\n",
        "found_p1, found_p2, ps_game = modelMElo_test.predict_game_config(player1, player2)\n",
        "\n",
        "for points, p in ps_game.items():\n",
        "    print(f\"p({player1} wins the game with total sets={points}) = {p:.4f}\")"
      ],
      "metadata": {
        "id": "Am-RLoMzEhgf",
        "outputId": "730e157e-3634-4676-dd88-a6c9e692f76a",
        "colab": {
          "base_uri": "https://localhost:8080/"
        }
      },
      "execution_count": null,
      "outputs": [
        {
          "output_type": "stream",
          "name": "stdout",
          "text": [
            "p(Folwarski J. wins the game with total sets=3) = 0.2401\n",
            "p(Folwarski J. wins the game with total sets=4) = 0.2726\n",
            "p(Folwarski J. wins the game with total sets=5) = 0.2063\n"
          ]
        }
      ]
    },
    {
      "cell_type": "code",
      "source": [
        "# if the rule of the game is: who wins 5 sets will win the game\n",
        "n_win_sets = 5\n",
        "found_p1, found_p2, ps_game = modelMElo_test.predict_game_config(player1, player2, n_win_sets)\n",
        "\n",
        "for points, p in ps_game.items():\n",
        "    print(f\"p({player1} wins the game with total sets={points}) = {p:.4f}\")"
      ],
      "metadata": {
        "id": "DASmGx-mEoPc",
        "outputId": "58215827-8c94-4b8a-afa6-0b4c8678dd84",
        "colab": {
          "base_uri": "https://localhost:8080/"
        }
      },
      "execution_count": null,
      "outputs": [
        {
          "output_type": "stream",
          "name": "stdout",
          "text": [
            "p(Folwarski J. wins the game with total sets=5) = 0.0928\n",
            "p(Folwarski J. wins the game with total sets=6) = 0.1755\n",
            "p(Folwarski J. wins the game with total sets=7) = 0.1993\n",
            "p(Folwarski J. wins the game with total sets=8) = 0.1760\n",
            "p(Folwarski J. wins the game with total sets=9) = 0.1332\n"
          ]
        }
      ]
    },
    {
      "cell_type": "code",
      "source": [],
      "metadata": {
        "id": "PLDkeW3ZpbSi"
      },
      "execution_count": null,
      "outputs": []
    },
    {
      "cell_type": "code",
      "source": [],
      "metadata": {
        "id": "VvJXL-uxNb4y"
      },
      "execution_count": null,
      "outputs": []
    },
    {
      "cell_type": "code",
      "source": [],
      "metadata": {
        "id": "FoglSHKANb71"
      },
      "execution_count": null,
      "outputs": []
    },
    {
      "cell_type": "code",
      "source": [],
      "metadata": {
        "id": "hEJMvwp4Nb-j"
      },
      "execution_count": null,
      "outputs": []
    },
    {
      "cell_type": "code",
      "source": [],
      "metadata": {
        "id": "dI8jjjWQOedg"
      },
      "execution_count": null,
      "outputs": []
    },
    {
      "cell_type": "code",
      "source": [],
      "metadata": {
        "id": "kpm5Y8B2RZDQ"
      },
      "execution_count": null,
      "outputs": []
    },
    {
      "cell_type": "code",
      "source": [
        "# traditional Elo\n",
        "modelMElo_all = ModifiedElo()\n",
        "\n",
        "# traing model with only training set\n",
        "modelMElo_all.fit(X_all)\n"
      ],
      "metadata": {
        "id": "UxQ1FNAZ7xTN",
        "outputId": "afad6bd9-b46f-40a7-e108-09682f06258f",
        "colab": {
          "base_uri": "https://localhost:8080/"
        }
      },
      "execution_count": 27,
      "outputs": [
        {
          "output_type": "stream",
          "name": "stderr",
          "text": [
            "Training model: 100%|██████████| 34579/34579 [00:02<00:00, 14734.24it/s]\n"
          ]
        }
      ]
    },
    {
      "cell_type": "code",
      "source": [
        "player1 = 'Severina Y.'\n",
        "player2 = 'Ivchenko O.'\n",
        "o1 = 4.5\n",
        "o2 = 1.16\n",
        "\n",
        "found_p1, found_p2, p_game = modelMElo_all.predict_game(player1, player2)\n",
        "if (found_p1 and found_p2):\n",
        "    print(p_game, 1-p_game, p_game*o1, (1-p_game)*o2)"
      ],
      "metadata": {
        "id": "wh0aNg7IwfFh",
        "outputId": "0b3e1cc3-4351-4a4e-a954-1b2535a28e77",
        "colab": {
          "base_uri": "https://localhost:8080/"
        }
      },
      "execution_count": 89,
      "outputs": [
        {
          "output_type": "stream",
          "name": "stdout",
          "text": [
            "0.2183756553768238 0.7816243446231762 0.9826904491957071 0.9066842397628844\n"
          ]
        }
      ]
    },
    {
      "cell_type": "code",
      "source": [
        "f\"{player1} v {player2} -    {player1 if p_game>0.5 else player2}\"\n",
        "\n",
        "\n",
        "# Jan 24, 8:35 - Hordynska-Sheiko A. v Ivchenko O. -    Ivchenko O.\n",
        "# Jan 24: 9:35 - Severina Y. v Gordeets M. -    Gordeets M.\n",
        "# Jan 24: 10:35 - Gordeets M. v Ivchenko O. -    Ivchenko O.\n",
        "# Jan 24: 11:05 - Lifanova O. v Severina Y. -    Lifanova O.\n",
        "# Jan 24: 11:35 - Hordynska-Sheiko A. v Gordeets M. -    Gordeets M.\n",
        "# Jan 24: 12:35 - Lifanova O. v Ivchenko O. -    Ivchenko O.\n",
        "# Jan 24: 13:05 - Hordynska-Sheiko A. v Severina Y. -    Severina Y.\n",
        "# Jan 24: 13:35 - Lifanova O. v Gordeets M. -    Lifanova O.\n",
        "# Jan 24: 14:35 - Hordynska-Sheiko A. v Lifanova O. -    Lifanova O.\n",
        "# Jan 24: 15:05 - Severina Y. v Ivchenko O. -    Ivchenko O.\n"
      ],
      "metadata": {
        "id": "dbidNcCOyRKA",
        "outputId": "f593ffff-1ad2-4da3-aac1-89322c9cf7ef",
        "colab": {
          "base_uri": "https://localhost:8080/",
          "height": 35
        }
      },
      "execution_count": 90,
      "outputs": [
        {
          "output_type": "execute_result",
          "data": {
            "text/plain": [
              "'Severina Y. v Ivchenko O. -    Ivchenko O.'"
            ],
            "application/vnd.google.colaboratory.intrinsic+json": {
              "type": "string"
            }
          },
          "metadata": {},
          "execution_count": 90
        }
      ]
    },
    {
      "cell_type": "code",
      "source": [],
      "metadata": {
        "id": "6FNNiGpmyBFr"
      },
      "execution_count": 56,
      "outputs": []
    },
    {
      "cell_type": "code",
      "source": [
        "p1_name = 'Lif'\n",
        "\n",
        "for k, v in modelMElo_all.params.items():\n",
        "    if p1_name in k:\n",
        "        print(k, v)\n",
        "        break"
      ],
      "metadata": {
        "id": "7KMJ8jnBwyYa",
        "outputId": "d9164fc0-a6ed-4eda-ebec-82da25f5a23d",
        "colab": {
          "base_uri": "https://localhost:8080/"
        }
      },
      "execution_count": 73,
      "outputs": [
        {
          "output_type": "stream",
          "name": "stdout",
          "text": [
            "Lifanova O. (0.1264305899105458, 1.0138259669332161)\n"
          ]
        }
      ]
    },
    {
      "cell_type": "code",
      "source": [],
      "metadata": {
        "id": "RcG3VlqLw5Zf"
      },
      "execution_count": null,
      "outputs": []
    }
  ]
}