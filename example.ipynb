{
  "nbformat": 4,
  "nbformat_minor": 0,
  "metadata": {
    "colab": {
      "provenance": [],
      "include_colab_link": true
    },
    "kernelspec": {
      "name": "python3",
      "display_name": "Python 3"
    },
    "language_info": {
      "name": "python"
    }
  },
  "cells": [
    {
      "cell_type": "markdown",
      "metadata": {
        "id": "view-in-github",
        "colab_type": "text"
      },
      "source": [
        "<a href=\"https://colab.research.google.com/github/ansonkwokth/TableTennisPrediction/blob/main/example.ipynb\" target=\"_parent\"><img src=\"https://colab.research.google.com/assets/colab-badge.svg\" alt=\"Open In Colab\"/></a>"
      ]
    },
    {
      "cell_type": "code",
      "source": [
        "# !git clone https://github.com/ansonkwokth/TableTennisPrediction.git\n"
      ],
      "metadata": {
        "id": "1qbWxax1nF6X"
      },
      "execution_count": 1,
      "outputs": []
    },
    {
      "cell_type": "code",
      "execution_count": 2,
      "metadata": {
        "id": "whRJbYkb6JTI"
      },
      "outputs": [],
      "source": [
        "import pandas as pd\n",
        "from utils import data_loader as dl\n",
        "\n",
        "import numpy as np\n",
        "from model.Elo import Elo\n",
        "from model.ModifiedElo import ModifiedElo\n",
        "\n",
        "import matplotlib.pyplot as plt\n",
        "import seaborn as sns\n",
        "\n",
        "from tqdm import tqdm\n",
        "\n",
        "import copy\n",
        "\n",
        "import warnings\n",
        "warnings.filterwarnings('ignore')"
      ]
    },
    {
      "cell_type": "markdown",
      "source": [
        "# Data"
      ],
      "metadata": {
        "id": "zL9XnSNXVA-e"
      }
    },
    {
      "cell_type": "code",
      "source": [
        "GAME = 'TTStar'\n",
        "# GAME = 'TTCup'\n",
        "# GAME = 'SetkaCup'\n",
        "# GAME = 'SetkaCupWomen'\n",
        "# GAME = 'LigaPro'\n"
      ],
      "metadata": {
        "id": "vEfGED5M7Pa2"
      },
      "execution_count": 3,
      "outputs": []
    },
    {
      "cell_type": "code",
      "source": [
        "match GAME:\n",
        "    case 'TTStar':\n",
        "        years = [2020, 2021, 2022, 2023, 2024]\n",
        "    case 'TTCup':\n",
        "        years = [2020, 2021, 2022, 2023, 2024]\n",
        "    case 'SetkaCup':\n",
        "        years = [2020, 2021, 2022, 2023, 2024]\n",
        "    case 'SetkaCupWomen':\n",
        "        years = [2020, 2021, 2022, 2023, 2024]\n",
        "    case 'LigaPro':\n",
        "        years = [2022, 2023, 2024]\n",
        "    case _:\n",
        "        raise ValueError(\"Invalid game selected.\")\n",
        "\n",
        "\n",
        "text_data_game = dl.load_game_data(GAME, years, './data')\n",
        "text_data = {\n",
        "    year: text_data_game[year] for year in years\n",
        "}\n",
        "df = dl.create_game_dfs(GAME, years, text_data)"
      ],
      "metadata": {
        "colab": {
          "base_uri": "https://localhost:8080/"
        },
        "id": "LYKKHO267cRc",
        "outputId": "fbdd56d7-3f23-4dc5-ae3e-b32c9ba8210c"
      },
      "execution_count": 4,
      "outputs": [
        {
          "output_type": "stream",
          "name": "stdout",
          "text": [
            "Loading ./data/TTStar2020.txt\n",
            "Loading ./data/TTStar2021.txt\n",
            "Loading ./data/TTStar2022.txt\n",
            "Loading ./data/TTStar2023.txt\n",
            "Loading ./data/TTStar2024.txt\n"
          ]
        }
      ]
    },
    {
      "cell_type": "code",
      "source": [
        "# Generate ID indices for each pair of rows in the DataFrame\n",
        "idx_lt = [i for i in range(len(df) // 2) for _ in range(2)]\n",
        "df['ID'] = idx_lt  # Assign to the 'ID' column\n",
        "\n",
        "# Reset the DataFrame index to ensure it's sequential\n",
        "df.reset_index(drop=True, inplace=True)\n",
        "\n",
        "# Get unique players and store them in player_lt\n",
        "player_lt = df['Player'].unique()\n",
        "\n"
      ],
      "metadata": {
        "id": "L8oBW_wk7uvM"
      },
      "execution_count": 5,
      "outputs": []
    },
    {
      "cell_type": "code",
      "source": [
        "year_val = years[-2]\n",
        "year_test = years[-1]\n",
        "\n",
        "df_train = df.loc[pd.DatetimeIndex(df['Date']).year < year_val]\n",
        "df_val = df.loc[pd.DatetimeIndex(df['Date']).year == year_val]\n",
        "df_test = df.loc[pd.DatetimeIndex(df['Date']).year == year_test]"
      ],
      "metadata": {
        "id": "tC-31F8o7dPX"
      },
      "execution_count": 6,
      "outputs": []
    },
    {
      "cell_type": "code",
      "source": [
        "def format_to_array(df: pd.DataFrame) -> np.ndarray:\n",
        "\n",
        "    info_col = ['ID', 'Round', 'Datetime', 'Game', 'Date', 'Time']\n",
        "    col = [item for item in df.columns if item not in info_col]\n",
        "\n",
        "    df[[c for c in col if \"Set\" in c]] = df[[c for c in col if \"Set\" in c]].astype(float)\n",
        "    X = df[col].values.reshape(-1, 2, len(col))\n",
        "    return X"
      ],
      "metadata": {
        "id": "SoUKN9X77sQb"
      },
      "execution_count": 7,
      "outputs": []
    },
    {
      "cell_type": "code",
      "source": [
        "X_train = format_to_array(df_train)\n",
        "X_val = format_to_array(df_val)\n",
        "X_test = format_to_array(df_test)"
      ],
      "metadata": {
        "id": "vG2lv7psPyjG"
      },
      "execution_count": 8,
      "outputs": []
    },
    {
      "cell_type": "markdown",
      "source": [
        "# Train and Evaluate"
      ],
      "metadata": {
        "id": "2hpL0yo0VEWX"
      }
    },
    {
      "cell_type": "code",
      "source": [
        "# traditional Elo\n",
        "modelElo = Elo()\n",
        "# modified Elo\n",
        "modelMElo = ModifiedElo()\n",
        "\n",
        "# traing model with only training set\n",
        "modelElo.fit(X_train)\n",
        "modelMElo.fit(X_train)\n"
      ],
      "metadata": {
        "colab": {
          "base_uri": "https://localhost:8080/"
        },
        "id": "VZccLMORQCJo",
        "outputId": "bb77ca89-4522-4099-8246-c252a7aa2ca0"
      },
      "execution_count": 69,
      "outputs": [
        {
          "output_type": "stream",
          "name": "stderr",
          "text": [
            "Training model: 100%|██████████| 9867/9867 [00:00<00:00, 30966.56it/s]\n",
            "Training model: 100%|██████████| 9867/9867 [00:00<00:00, 16399.56it/s]\n"
          ]
        }
      ]
    },
    {
      "cell_type": "code",
      "source": [
        "def evaluate(model, dataset):\n",
        "    print(f\"Evaluate model: {repr(model)}\")\n",
        "    _model = copy.deepcopy(model)\n",
        "    _model.verbose = False\n",
        "    correct = 0\n",
        "    n_matches = 0\n",
        "\n",
        "    history = []\n",
        "    predictions = []\n",
        "    for matchi in tqdm(dataset, desc=\"Evaluating matches\"):\n",
        "        matchi = matchi.T\n",
        "        player1, player2 = matchi[0]\n",
        "\n",
        "        found_p1, found_p2, p = _model.predict_game(player1, player2)\n",
        "        if not (found_p1 and found_p2): continue\n",
        "        if p == 0.5: continue\n",
        "        whowillwin = 0 if p > 0.5 else 1\n",
        "\n",
        "        win1 = sum(matchi[1:, 0]>matchi[1:, 1])\n",
        "        win2 = sum(matchi[1:, 0]<matchi[1:, 1])\n",
        "        whowon = 0 if win1 > win2 else 1\n",
        "\n",
        "        history.append(win1/(win1 + win2))\n",
        "        predictions.append(p)\n",
        "\n",
        "        n_matches += 1\n",
        "        if (whowon == whowillwin): correct += 1\n",
        "\n",
        "    acc = correct / n_matches\n",
        "    print(f'\\n === Accuracy: {acc} === \\n\\n')\n",
        "    return acc, np.array(history), np.array(predictions)\n",
        "\n"
      ],
      "metadata": {
        "id": "xzabwGZLRDzD"
      },
      "execution_count": 70,
      "outputs": []
    },
    {
      "cell_type": "code",
      "source": [
        "# evaluate the model with the training set\n",
        "evaluate(modelElo, X_train);\n",
        "evaluate(modelMElo, X_train);"
      ],
      "metadata": {
        "id": "x7r1vQV3dVIA",
        "outputId": "b53f2e65-e659-453c-ee3f-5978181e0311",
        "colab": {
          "base_uri": "https://localhost:8080/"
        }
      },
      "execution_count": 71,
      "outputs": [
        {
          "output_type": "stream",
          "name": "stdout",
          "text": [
            "Evaluate model: Elo(learning_rate=32, base_rate=1000, verbose=False)\n"
          ]
        },
        {
          "output_type": "stream",
          "name": "stderr",
          "text": [
            "Evaluating matches: 100%|██████████| 9867/9867 [00:00<00:00, 27982.11it/s]\n"
          ]
        },
        {
          "output_type": "stream",
          "name": "stdout",
          "text": [
            "\n",
            " === Accuracy: 0.6970710448971319 === \n",
            "\n",
            "\n",
            "Evaluate model: EloLike(learning_rate=0.1, base_param=(0, 1), update_sigma=True, verbose=False)\n"
          ]
        },
        {
          "output_type": "stream",
          "name": "stderr",
          "text": [
            "Evaluating matches: 100%|██████████| 9867/9867 [00:00<00:00, 12607.45it/s]"
          ]
        },
        {
          "output_type": "stream",
          "name": "stdout",
          "text": [
            "\n",
            " === Accuracy: 0.7429816560251343 === \n",
            "\n",
            "\n"
          ]
        },
        {
          "output_type": "stream",
          "name": "stderr",
          "text": [
            "\n"
          ]
        }
      ]
    },
    {
      "cell_type": "code",
      "source": [
        "# evaluate the model with the evaluating set\n",
        "evaluate(modelElo, X_val);\n",
        "evaluate(modelMElo, X_val);\n"
      ],
      "metadata": {
        "id": "jb3wex6KVG5I",
        "colab": {
          "base_uri": "https://localhost:8080/"
        },
        "outputId": "dc50dcfb-44ce-42c0-ee50-1bb685cbcded"
      },
      "execution_count": 72,
      "outputs": [
        {
          "output_type": "stream",
          "name": "stdout",
          "text": [
            "Evaluate model: Elo(learning_rate=32, base_rate=1000, verbose=False)\n"
          ]
        },
        {
          "output_type": "stream",
          "name": "stderr",
          "text": [
            "Evaluating matches: 100%|██████████| 4451/4451 [00:00<00:00, 18905.64it/s]\n"
          ]
        },
        {
          "output_type": "stream",
          "name": "stdout",
          "text": [
            "\n",
            " === Accuracy: 0.6481884057971015 === \n",
            "\n",
            "\n",
            "Evaluate model: EloLike(learning_rate=0.1, base_param=(0, 1), update_sigma=True, verbose=False)\n"
          ]
        },
        {
          "output_type": "stream",
          "name": "stderr",
          "text": [
            "Evaluating matches: 100%|██████████| 4451/4451 [00:00<00:00, 15649.54it/s]"
          ]
        },
        {
          "output_type": "stream",
          "name": "stdout",
          "text": [
            "\n",
            " === Accuracy: 0.6844202898550724 === \n",
            "\n",
            "\n"
          ]
        },
        {
          "output_type": "stream",
          "name": "stderr",
          "text": [
            "\n"
          ]
        }
      ]
    },
    {
      "cell_type": "code",
      "source": [
        "\n",
        "# define a new model, and import the pre-trained params from the training set\n",
        "modelElo_test = Elo(learning_rate=modelElo.learning_rate)\n",
        "modelElo_test.params = modelElo.params\n",
        "\n",
        "# training the model again with the evaluating set, on top of the pre-trained params\n",
        "modelElo_test.fit(X_val)"
      ],
      "metadata": {
        "id": "rR3vwm1gJ1Y_",
        "outputId": "bd73f297-7433-494a-f897-4fd390d4fa9b",
        "colab": {
          "base_uri": "https://localhost:8080/"
        }
      },
      "execution_count": 73,
      "outputs": [
        {
          "output_type": "stream",
          "name": "stderr",
          "text": [
            "Training model: 100%|██████████| 4451/4451 [00:00<00:00, 16337.20it/s]\n"
          ]
        }
      ]
    },
    {
      "cell_type": "code",
      "source": [
        "# define a new model, and import the pre-trained params from the training set\n",
        "modelMElo_test = ModifiedElo(learning_rate=modelMElo.learning_rate)\n",
        "modelMElo_test.params = modelMElo.params\n",
        "\n",
        "# training the model again with the evaluating set, on top of the pre-trained params\n",
        "modelMElo_test.fit(X_val)"
      ],
      "metadata": {
        "id": "r5aVe_cNd2OX",
        "outputId": "5de9b392-334f-467a-be24-0c7f9b660e1d",
        "colab": {
          "base_uri": "https://localhost:8080/"
        }
      },
      "execution_count": 74,
      "outputs": [
        {
          "output_type": "stream",
          "name": "stderr",
          "text": [
            "Training model: 100%|██████████| 4451/4451 [00:00<00:00, 9791.05it/s]\n"
          ]
        }
      ]
    },
    {
      "cell_type": "code",
      "source": [
        "# evaluate the model with the testing set\n",
        "evaluate(modelElo_test, X_val);\n",
        "evaluate(modelMElo_test, X_val);"
      ],
      "metadata": {
        "id": "JhCn1sdZTZfy",
        "outputId": "f8e4e417-45c0-476c-8f9e-e46440582375",
        "colab": {
          "base_uri": "https://localhost:8080/"
        }
      },
      "execution_count": 75,
      "outputs": [
        {
          "output_type": "stream",
          "name": "stdout",
          "text": [
            "Evaluate model: Elo(learning_rate=32, base_rate=1000, verbose=False)\n"
          ]
        },
        {
          "output_type": "stream",
          "name": "stderr",
          "text": [
            "Evaluating matches: 100%|██████████| 4451/4451 [00:00<00:00, 12887.42it/s]\n"
          ]
        },
        {
          "output_type": "stream",
          "name": "stdout",
          "text": [
            "\n",
            " === Accuracy: 0.6690631318804763 === \n",
            "\n",
            "\n",
            "Evaluate model: EloLike(learning_rate=0.1, base_param=(0, 1), update_sigma=True, verbose=False)\n"
          ]
        },
        {
          "output_type": "stream",
          "name": "stderr",
          "text": [
            "Evaluating matches: 100%|██████████| 4451/4451 [00:00<00:00, 11844.57it/s]"
          ]
        },
        {
          "output_type": "stream",
          "name": "stdout",
          "text": [
            "\n",
            " === Accuracy: 0.7317456751291844 === \n",
            "\n",
            "\n"
          ]
        },
        {
          "output_type": "stream",
          "name": "stderr",
          "text": [
            "\n"
          ]
        }
      ]
    },
    {
      "cell_type": "code",
      "source": [
        "# evaluate the model with the testing set\n",
        "accElo, historyElo, predictionsElo = evaluate(modelElo_test, X_test)\n",
        "accMElo, historyMElo, predictionsMElo = evaluate(modelMElo_test, X_test)"
      ],
      "metadata": {
        "id": "achgwFGKeGtN",
        "outputId": "f2ded9f2-b1c9-4f66-c6a9-90e8ff4c6a20",
        "colab": {
          "base_uri": "https://localhost:8080/"
        }
      },
      "execution_count": 76,
      "outputs": [
        {
          "output_type": "stream",
          "name": "stdout",
          "text": [
            "Evaluate model: Elo(learning_rate=32, base_rate=1000, verbose=False)\n"
          ]
        },
        {
          "output_type": "stream",
          "name": "stderr",
          "text": [
            "Evaluating matches: 100%|██████████| 2939/2939 [00:00<00:00, 17698.30it/s]\n"
          ]
        },
        {
          "output_type": "stream",
          "name": "stdout",
          "text": [
            "\n",
            " === Accuracy: 0.630822596630327 === \n",
            "\n",
            "\n",
            "Evaluate model: EloLike(learning_rate=0.1, base_param=(0, 1), update_sigma=True, verbose=False)\n"
          ]
        },
        {
          "output_type": "stream",
          "name": "stderr",
          "text": [
            "Evaluating matches: 100%|██████████| 2939/2939 [00:00<00:00, 13569.71it/s]"
          ]
        },
        {
          "output_type": "stream",
          "name": "stdout",
          "text": [
            "\n",
            " === Accuracy: 0.6897918731417245 === \n",
            "\n",
            "\n"
          ]
        },
        {
          "output_type": "stream",
          "name": "stderr",
          "text": [
            "\n"
          ]
        }
      ]
    },
    {
      "cell_type": "code",
      "source": [
        "# plt.scatter(historyElo, predictionsElo, alpha=0.05)\n",
        "plt.scatter(historyMElo, predictionsMElo, alpha=0.05)\n",
        "plt.xlabel(\"True\")\n",
        "plt.ylabel(\"Pred\")"
      ],
      "metadata": {
        "colab": {
          "base_uri": "https://localhost:8080/",
          "height": 466
        },
        "id": "Yi6Yw88vc5wp",
        "outputId": "3044baf5-729d-4d89-9e1a-78739923018b"
      },
      "execution_count": 77,
      "outputs": [
        {
          "output_type": "execute_result",
          "data": {
            "text/plain": [
              "Text(0, 0.5, 'Pred')"
            ]
          },
          "metadata": {},
          "execution_count": 77
        },
        {
          "output_type": "display_data",
          "data": {
            "text/plain": [
              "<Figure size 640x480 with 1 Axes>"
            ],
            "image/png": "[encoded data removed]"
          },
          "metadata": {}
        }
      ]
    },
    {
      "cell_type": "code",
      "source": [
        "bins_=10\n",
        "history_p = [0, 0.25, 0.4, 0.6, 0.75, 1]\n",
        "for p in history_p[:3]:\n",
        "    plt.hist(predictionsMElo[historyMElo == p], range=[0, 1], bins=bins_, histtype='step', density=True, label=f\"Truth={p}\");\n",
        "\n",
        "plt.legend();\n",
        "plt.show()\n",
        "\n",
        "for p in history_p[3:]:\n",
        "    plt.hist(predictionsMElo[historyMElo == p], range=[0, 1], bins=bins_, histtype='step', density=True, label=f\"Truth={p}\");\n",
        "\n",
        "plt.legend();\n",
        "plt.show()"
      ],
      "metadata": {
        "colab": {
          "base_uri": "https://localhost:8080/",
          "height": 843
        },
        "id": "cGKloWhcc8rF",
        "outputId": "718e5400-cec0-44a5-8a63-bf0a43a452f4"
      },
      "execution_count": 78,
      "outputs": [
        {
          "output_type": "display_data",
          "data": {
            "text/plain": [
              "<Figure size 640x480 with 1 Axes>"
            ],
            "image/png": "[encoded data removed]"
          },
          "metadata": {}
        },
        {
          "output_type": "display_data",
          "data": {
            "text/plain": [
              "<Figure size 640x480 with 1 Axes>"
            ],
            "image/png": "[encoded data removed]"
          },
          "metadata": {}
        }
      ]
    },
    {
      "cell_type": "markdown",
      "source": [
        "# Inference"
      ],
      "metadata": {
        "id": "APb1pnGvDni7"
      }
    },
    {
      "cell_type": "code",
      "source": [
        "player1 = 'Folwarski J.'\n",
        "player2 = 'Brossier B.'\n",
        "\n",
        "found_p1, found_p2, p_point = modelMElo_test.predict_point(player1, player2)\n",
        "found_p1, found_p2, p_set = modelMElo_test.predict_set(player1, player2)\n",
        "found_p1, found_p2, p_game = modelMElo_test.predict_game(player1, player2)"
      ],
      "metadata": {
        "id": "XuxUpl5KDcbI"
      },
      "execution_count": 79,
      "outputs": []
    },
    {
      "cell_type": "code",
      "source": [
        "print(f\"p({player1} wins a point)  = {p_point:.4f}\")\n",
        "print(f\"p({player1} wins a set)    = {p_set:.4f}\")\n",
        "print(f\"p({player1} wins the game) = {p_game:.4f}\")"
      ],
      "metadata": {
        "id": "6LHuDForDNdY",
        "outputId": "f32d01fb-e3a1-4e13-c2f4-325b2260a26b",
        "colab": {
          "base_uri": "https://localhost:8080/"
        }
      },
      "execution_count": 81,
      "outputs": [
        {
          "output_type": "stream",
          "name": "stdout",
          "text": [
            "p(Folwarski J. wins a point)  = 0.5318\n",
            "p(Folwarski J. wins a set)    = 0.6215\n",
            "p(Folwarski J. wins the game) = 0.7191\n"
          ]
        }
      ]
    },
    {
      "cell_type": "code",
      "source": [
        "found_p1, found_p2, ps_set = modelMElo_test.predict_set_config(player1, player2)\n",
        "\n",
        "for points, p in ps_set.items():\n",
        "    print(f\"p({player1} wins a set with total points={points}) = {p:.4f}\")"
      ],
      "metadata": {
        "id": "alTolY_ZEHco",
        "outputId": "bb16d899-6e4a-44c9-efaa-94ffd5d4e4f5",
        "colab": {
          "base_uri": "https://localhost:8080/"
        }
      },
      "execution_count": 83,
      "outputs": [
        {
          "output_type": "stream",
          "name": "stdout",
          "text": [
            "p(Folwarski J. wins a set with total points=11) = 0.0010\n",
            "p(Folwarski J. wins a set with total points=12) = 0.0050\n",
            "p(Folwarski J. wins a set with total points=13) = 0.0139\n",
            "p(Folwarski J. wins a set with total points=14) = 0.0283\n",
            "p(Folwarski J. wins a set with total points=15) = 0.0463\n",
            "p(Folwarski J. wins a set with total points=16) = 0.0650\n",
            "p(Folwarski J. wins a set with total points=17) = 0.0812\n",
            "p(Folwarski J. wins a set with total points=18) = 0.0923\n",
            "p(Folwarski J. wins a set with total points=19) = 0.0972\n",
            "p(Folwarski J. wins a set with total points=20) = 0.0961\n",
            "p(Folwarski J. wins a set with total points=22) = 0.0953\n"
          ]
        }
      ]
    },
    {
      "cell_type": "code",
      "source": [
        "# by defalt, who wins 3 sets will win the game\n",
        "found_p1, found_p2, ps_game = modelMElo_test.predict_game_config(player1, player2)\n",
        "\n",
        "for points, p in ps_game.items():\n",
        "    print(f\"p({player1} wins the game with total sets={points}) = {p:.4f}\")"
      ],
      "metadata": {
        "id": "Am-RLoMzEhgf",
        "outputId": "4c901b7a-6262-4daf-dc9f-06fa3f04e83e",
        "colab": {
          "base_uri": "https://localhost:8080/"
        }
      },
      "execution_count": 84,
      "outputs": [
        {
          "output_type": "stream",
          "name": "stdout",
          "text": [
            "p(Folwarski J. wins the game with total sets=3) = 0.2401\n",
            "p(Folwarski J. wins the game with total sets=4) = 0.2726\n",
            "p(Folwarski J. wins the game with total sets=5) = 0.2063\n"
          ]
        }
      ]
    },
    {
      "cell_type": "code",
      "source": [
        "# if the rule of the game is: who wins 5 sets will win the game\n",
        "n_win_sets = 5\n",
        "found_p1, found_p2, ps_game = modelMElo_test.predict_game_config(player1, player2, n_win_sets)\n",
        "\n",
        "for points, p in ps_game.items():\n",
        "    print(f\"p({player1} wins the game with total sets={points}) = {p:.4f}\")"
      ],
      "metadata": {
        "id": "DASmGx-mEoPc",
        "outputId": "c1cb07ab-a700-442d-c5b4-29f0744830df",
        "colab": {
          "base_uri": "https://localhost:8080/"
        }
      },
      "execution_count": 85,
      "outputs": [
        {
          "output_type": "stream",
          "name": "stdout",
          "text": [
            "p(Folwarski J. wins the game with total sets=5) = 0.0928\n",
            "p(Folwarski J. wins the game with total sets=6) = 0.1755\n",
            "p(Folwarski J. wins the game with total sets=7) = 0.1993\n",
            "p(Folwarski J. wins the game with total sets=8) = 0.1760\n",
            "p(Folwarski J. wins the game with total sets=9) = 0.1332\n"
          ]
        }
      ]
    },
    {
      "cell_type": "code",
      "source": [],
      "metadata": {
        "id": "PLDkeW3ZpbSi"
      },
      "execution_count": null,
      "outputs": []
    }
  ]
}