{
  "nbformat": 4,
  "nbformat_minor": 0,
  "metadata": {
    "colab": {
      "provenance": [],
      "authorship_tag": "ABX9TyMB8aIWPtn+YvefcnlbB5Wh",
      "include_colab_link": true
    },
    "kernelspec": {
      "name": "python3",
      "display_name": "Python 3"
    },
    "language_info": {
      "name": "python"
    }
  },
  "cells": [
    {
      "cell_type": "markdown",
      "metadata": {
        "id": "view-in-github",
        "colab_type": "text"
      },
      "source": [
        "<a href=\"https://colab.research.google.com/github/ansonkwokth/TableTennisPrediction/blob/main/example.ipynb\" target=\"_parent\"><img src=\"https://colab.research.google.com/assets/colab-badge.svg\" alt=\"Open In Colab\"/></a>"
      ]
    },
    {
      "cell_type": "markdown",
      "source": [
        "# Model"
      ],
      "metadata": {
        "id": "8DykrG-7U-Sp"
      }
    },
    {
      "cell_type": "code",
      "execution_count": 2,
      "metadata": {
        "id": "whRJbYkb6JTI"
      },
      "outputs": [],
      "source": [
        "import numpy as np\n",
        "from tqdm import tqdm\n",
        "\n",
        "class RatingSystem:\n",
        "    def __init__(self, params=None, learning_rate=0.01, base_param=(0, 1), update_sigma=True, verbose=False):\n",
        "        \"\"\"\n",
        "        Initialize the rating system.\n",
        "\n",
        "        :param params: Parameters for the players.\n",
        "        :param learning_rate: Learning rate.\n",
        "        \"\"\"\n",
        "        self.params = {} if params is None else params\n",
        "        self.learning_rate = learning_rate\n",
        "        self.base_param = base_param\n",
        "        self.verbose = verbose\n",
        "        self.update_sigma = update_sigma\n",
        "\n",
        "\n",
        "\n",
        "    def get_params(self, player):\n",
        "        \"\"\"\n",
        "        Retrieve the current rating of a player. If the player does not exist, raise an error.\n",
        "\n",
        "        :param player: The player's name or identifier.\n",
        "        :return: Current rating of the player.\n",
        "        \"\"\"\n",
        "        return self.params.get(player, self.base_param)\n",
        "\n",
        "\n",
        "\n",
        "    def _add_sigma(self, sigma1, sigma2):\n",
        "        return np.sqrt(sigma1**2 + sigma2**2)\n",
        "\n",
        "\n",
        "\n",
        "    def expected_prob(self, param1, param2):\n",
        "        \"\"\"\n",
        "        Calculate the expected prob. for Player A against Player B.\n",
        "\n",
        "        :param param1: Parameters of Player 1.\n",
        "        :param param2: Parameters of Player 2.\n",
        "        :return: Expected prob for Player 1.\n",
        "        \"\"\"\n",
        "\n",
        "        # Calculate the combined sigma and the difference in mu values\n",
        "        sigma_tot = self._add_sigma(param1[1], param2[1])\n",
        "        mu_diff = param1[0] - param2[0]\n",
        "        z = mu_diff / sigma_tot\n",
        "\n",
        "        # Calculate the predicted probability using the logistic function\n",
        "        return 1 / (1 + np.exp(-z))\n",
        "\n",
        "\n",
        "\n",
        "    def predict_point(self, player1, player2):\n",
        "        \"\"\"\n",
        "        Predict the probability of Player 1 winning against Player 2 in a set.\n",
        "\n",
        "        :param player1: Name or identifier of Player 1.\n",
        "        :param player2: Name or identifier of Player 2.\n",
        "        :return: Probability of Player A winning.\n",
        "        \"\"\"\n",
        "        if self.verbose:\n",
        "            for player in [player1, player2]:\n",
        "                if player not in self.params: print(f'Player \"{player}\" not found. initialize param: {self.base_param}')\n",
        "\n",
        "        param1 = self.get_params(player1)\n",
        "        param2 = self.get_params(player2)\n",
        "        return self.expected_prob(param1, param2)\n",
        "\n",
        "\n",
        "\n",
        "    def predict_set_config(self, player1, player2):\n",
        "\n",
        "        p = self.predict_point(player1, player2)\n",
        "        q = 1 - p\n",
        "        dt = {}\n",
        "\n",
        "        # Calculate probabilities for the first 10+ points won by player 1\n",
        "        for i in range(10):\n",
        "            prob = comb(10 + i, 10) * p**11 * q**i\n",
        "            dt[10 + i + 1] = prob  # Store probability for player 1 winning 11, 12, ... points\n",
        "        # Calculate probability for the special case of winning exactly 22 points\n",
        "        dt[22] = (1 / (1 - 2 * q * p)) * comb(20, 10) * p**12 * q**10\n",
        "\n",
        "        return dt\n",
        "\n",
        "\n",
        "\n",
        "    def predict_set(self, player1, player2):\n",
        "        return sum(self.predict_set_config(player1, player2).values())\n",
        "\n",
        "\n",
        "\n",
        "    def predict_game_config(self, player1, player2, n_win_sets=3):\n",
        "        p = self.predict_set(player1, player2)\n",
        "        q = 1 - p\n",
        "        dt = {}\n",
        "\n",
        "        # Calculate probabilities for winning n_win_sets, n_win_sets+1, ...\n",
        "        for i in range(n_win_sets):\n",
        "            prob = comb(n_win_sets - 1 + i, n_win_sets - 1) * p**n_win_sets * q**i\n",
        "            dt[n_win_sets + i] = prob  # Store probability for winning sets\n",
        "\n",
        "        return dt\n",
        "\n",
        "\n",
        "    def predict_game(self, player1, player2):\n",
        "        return sum(self.predict_game_config(player1, player2).values())\n",
        "\n",
        "\n",
        "\n",
        "\n",
        "    def add_player(self, player, param=None):\n",
        "        \"\"\"\n",
        "        Add a new player with an optional custom rating.\n",
        "\n",
        "        :param player: Name or identifier of the player.\n",
        "        :param rating: Custom initial rating (defaults to base_rating if not provided).\n",
        "        \"\"\"\n",
        "        if player not in self.params:\n",
        "            self.params[player] = param if param is not None else self.base_param\n",
        "\n",
        "\n",
        "\n",
        "    def display_params(self, round_digits=2):\n",
        "        \"\"\"\n",
        "        Display the current ratings of all players, rounded to the specified number of digits.\n",
        "\n",
        "        :param round_digits: Number of decimal places to round the parameters. Default is 2.\n",
        "        \"\"\"\n",
        "        sorted_params = sorted(self.params.items(), key=lambda x: x[1][0], reverse=True)\n",
        "\n",
        "        for player, param in sorted_params:\n",
        "            rounded_param = tuple(round(value, round_digits) for value in param)\n",
        "            print(f\"{player}: {rounded_param}\")\n",
        "\n",
        "\n",
        "\n",
        "\n",
        "\n",
        "    def update_params(self, player1, player2, result1):\n",
        "        \"\"\"\n",
        "        Update ratings for two players after a match.\n",
        "\n",
        "        :param player1: Name or identifier of Player 1.\n",
        "        :param player2: Name or identifier of Player 2.\n",
        "        :param result1: Result for Player 1 (points1 / points_tot).\n",
        "        \"\"\"\n",
        "        param1 = self.get_params(player1)\n",
        "        param2 = self.get_params(player2)  # Fixed to get params for player2 instead of player1\n",
        "\n",
        "        expected1 = self.expected_prob(param1, param2)\n",
        "        mu_diff = param1[0] - param2[0]\n",
        "        sigma_tot = self._add_sigma(param1[1], param2[1])\n",
        "\n",
        "        # Calculate updates\n",
        "        mu1_update = (expected1 - result1) / sigma_tot\n",
        "        mu2_update = - (expected1 - result1) / sigma_tot\n",
        "        sigma1_update = sigma2_update = 0\n",
        "        if self.update_sigma:\n",
        "            sigma1_update = (-mu_diff * param1[1]) / sigma_tot**3 * (expected1 - result1)\n",
        "            sigma2_update = (-mu_diff * param2[1]) / sigma_tot**3 * (expected1 - result1)\n",
        "\n",
        "        # Update ratings and assign new tuples\n",
        "        self.params[player1] = (\n",
        "            param1[0] - self.learning_rate * mu1_update,\n",
        "            param1[1] - self.learning_rate * sigma1_update\n",
        "        )\n",
        "        self.params[player2] = (\n",
        "            param2[0] - self.learning_rate * mu2_update,\n",
        "            param2[1] - self.learning_rate * sigma2_update\n",
        "        )\n",
        "\n",
        "\n",
        "    def fit(self, dataset):\n",
        "        \"\"\"\n",
        "        Fit the model to a dataset of matches.\n",
        "\n",
        "        :param dataset: A list of dictionaries or a DataFrame-like object with columns:\n",
        "                        - 'player_a': Name or ID of Player A\n",
        "                        - 'player_b': Name or ID of Player B\n",
        "                        - 'result_a': Result for Player A (1 for win, 0.5 for draw, 0 for loss)\n",
        "        \"\"\"\n",
        "        for matchi in tqdm(dataset):\n",
        "            matchi = matchi.T\n",
        "\n",
        "            player1, player2 = matchi[0]\n",
        "\n",
        "\n",
        "            for seti in matchi[1:]:\n",
        "                # seti = [int(si) for si in seti]\n",
        "                points1, points2 = seti\n",
        "                if np.isnan(points1) or np.isnan(points2): continue\n",
        "                points_sum = points1 + points2\n",
        "                if points_sum == 0: continue\n",
        "\n",
        "                result1 = points1 / points_sum\n",
        "\n",
        "                # # Add players to the system if they are not already in\n",
        "                self.add_player(player1)\n",
        "                self.add_player(player2)\n",
        "\n",
        "                # # Update ratings based on the match result\n",
        "                self.update_params(player1, player2, result1)\n",
        "\n",
        "\n",
        "\n",
        "\n",
        "    def evaluate(self, dataset):\n",
        "        verbose_ = self.verbose\n",
        "        self.verbose = False\n",
        "        correct = 0\n",
        "        n_matches = 0\n",
        "\n",
        "        history = []\n",
        "        predictions = []\n",
        "        for matchi in tqdm(dataset):\n",
        "            matchi = matchi.T\n",
        "            player1, player2 = matchi[0]\n",
        "\n",
        "            p = self.predict_game(player1, player2)\n",
        "            if p == 0.5: continue\n",
        "            whowillwin = 0 if p > 0.5 else 1\n",
        "\n",
        "            win1 = sum(matchi[1:, 0]>matchi[1:, 1])\n",
        "            win2 = sum(matchi[1:, 0]<matchi[1:, 1])\n",
        "            whowon = 0 if win1 > win2 else 1\n",
        "\n",
        "            history.append(win1/(win1 + win2))\n",
        "            predictions.append(p)\n",
        "\n",
        "            n_matches += 1\n",
        "            if (whowon == whowillwin): correct += 1\n",
        "        self.verbose = verbose_\n",
        "\n",
        "        acc = correct / n_matches\n",
        "        print(f'\\n === Accuracy: {acc} === \\n')\n",
        "        return acc, np.array(history), np.array(predictions)"
      ]
    },
    {
      "cell_type": "code",
      "source": [],
      "metadata": {
        "id": "joTTNPfI7OFi"
      },
      "execution_count": 2,
      "outputs": []
    },
    {
      "cell_type": "code",
      "source": [],
      "metadata": {
        "id": "pFEqCDtnO2MV"
      },
      "execution_count": 2,
      "outputs": []
    },
    {
      "cell_type": "code",
      "source": [],
      "metadata": {
        "id": "Z4d9d-ubQJPG"
      },
      "execution_count": 2,
      "outputs": []
    },
    {
      "cell_type": "code",
      "source": [],
      "metadata": {
        "id": "TF_jvjDMQKtU"
      },
      "execution_count": 2,
      "outputs": []
    },
    {
      "cell_type": "code",
      "source": [],
      "metadata": {
        "id": "G_hGOO7NQJMB"
      },
      "execution_count": 2,
      "outputs": []
    },
    {
      "cell_type": "code",
      "source": [],
      "metadata": {
        "id": "sPdLbXaLIdGj"
      },
      "execution_count": 2,
      "outputs": []
    },
    {
      "cell_type": "markdown",
      "source": [
        "# Data"
      ],
      "metadata": {
        "id": "zL9XnSNXVA-e"
      }
    },
    {
      "cell_type": "code",
      "source": [
        "import numpy as np\n",
        "import pandas as pd\n",
        "from math import comb\n",
        "from tqdm import tqdm\n",
        "import matplotlib.pyplot as plt\n",
        "import seaborn as sns\n",
        "from typing import *\n",
        "from datetime import datetime, timedelta\n",
        "\n",
        "from sklearn.linear_model import LinearRegression\n",
        "\n",
        "import warnings\n",
        "warnings.filterwarnings('ignore')"
      ],
      "metadata": {
        "id": "dhH-FiS67OTL"
      },
      "execution_count": 3,
      "outputs": []
    },
    {
      "cell_type": "code",
      "source": [
        "GAME = 'TTStar'    # <-\n",
        "# GAME = 'TTCup'\n",
        "# GAME = 'SetkaCup'\n",
        "# GAME = 'SetkaCupWomen'\n",
        "# GAME = 'LigaPro'\n",
        "\n",
        "SPECIAL_NAME = ['Cho Seungmin', 'Wong Chun Ting', 'Lam Siu Hang', 'Xu Yingbin', 'Wang Lichen', 'Cho Ki Jeong']\n",
        "INFO_COL = ['ID', 'Round', 'Datetime', 'Player', 'Game']"
      ],
      "metadata": {
        "id": "vEfGED5M7Pa2"
      },
      "execution_count": 75,
      "outputs": []
    },
    {
      "cell_type": "code",
      "source": [
        "def find_round_title_idx(text_split: List[str]) -> Tuple[List[int], List[str]]:\n",
        "\n",
        "    unique_names = ['-', 'WO', '', 'Awrd'] + SPECIAL_NAME\n",
        "    round_indices = []\n",
        "    titles = []\n",
        "\n",
        "    for i, text in enumerate(text_split):\n",
        "        if isinstance(text, str):\n",
        "            try:\n",
        "                int(text)  # Attempt to convert text to an integer\n",
        "            except ValueError:\n",
        "                # Only append if text has no '.' and is not in unique_names\n",
        "                if '.' not in text and text not in unique_names:\n",
        "                    print(f\"Found title: {text}\")\n",
        "                    round_indices.append(i)\n",
        "                    titles.append(text)\n",
        "\n",
        "    print()\n",
        "    return round_indices, titles\n"
      ],
      "metadata": {
        "id": "Mn1rDyxf7QyP"
      },
      "execution_count": 76,
      "outputs": []
    },
    {
      "cell_type": "code",
      "source": [
        "def put_to_dt(text_split: List[str], idx: List[int]) -> Dict[int, List[str]]:\n",
        "    \"\"\"\n",
        "    Extracts segments of text between specified indices and stores them in a dictionary.\n",
        "\n",
        "    Args:\n",
        "        text_split (List[str]): List of text items to extract segments from.\n",
        "        idx (List[int]): List of indices marking the start of each segment.\n",
        "\n",
        "    Returns:\n",
        "        Dict[int, List[str]]: Dictionary where each key is an index and each value is a list of text items between indices.\n",
        "    \"\"\"\n",
        "    dt = {}\n",
        "\n",
        "    for i, index in enumerate(idx):\n",
        "        if i != len(idx) - 1:\n",
        "            dt[index] = text_split[index + 1:idx[i + 1]]\n",
        "        else:\n",
        "            dt[index] = text_split[index + 1:]\n",
        "\n",
        "    return dt"
      ],
      "metadata": {
        "id": "bztlI6257SHg"
      },
      "execution_count": 77,
      "outputs": []
    },
    {
      "cell_type": "code",
      "source": [
        "def find_time_idx(text_split: List[str]) -> List[int]:\n",
        "  \"\"\"\n",
        "  Finds indices in a list where the items contain a colon (':'),\n",
        "  indicating a potential time entry.\n",
        "\n",
        "  Args:\n",
        "      text_split (List[str]): List of text items to search.\n",
        "\n",
        "  Returns:\n",
        "      List[int]: List of indices where items contain a colon.\n",
        "  \"\"\"\n",
        "  time_indices = []\n",
        "\n",
        "  for i, text in enumerate(text_split):\n",
        "      if text and ':' in text:\n",
        "          time_indices.append(i)\n",
        "\n",
        "  return time_indices\n"
      ],
      "metadata": {
        "id": "H8b3LBkB7TKQ"
      },
      "execution_count": 78,
      "outputs": []
    },
    {
      "cell_type": "code",
      "source": [
        "def find_players_idx(text_split: List[str]) -> List[int]:\n",
        "    \"\"\"\n",
        "    Finds indices in a list that correspond to player names, excluding empty strings,\n",
        "    items containing colons, or items that can be converted to integers.\n",
        "\n",
        "    Args:\n",
        "        text_split (List[str]): List of text items to search.\n",
        "\n",
        "    Returns:\n",
        "        List[int]: List of indices where player names are found.\n",
        "\n",
        "    Raises:\n",
        "        Exception: If an odd number of player indices are found.\n",
        "    \"\"\"\n",
        "    player_indices = []\n",
        "\n",
        "    for i, text in enumerate(text_split):\n",
        "        if text and ':' not in text:\n",
        "            try:\n",
        "                int(text)  # Skip if text can be converted to an integer\n",
        "            except ValueError:\n",
        "                player_indices.append(i)\n",
        "\n",
        "    # Ensure the count of player indices is even\n",
        "    if len(player_indices) % 2 != 0:\n",
        "        raise Exception(f'There are {len(player_indices)} players not found, expected an even count.')\n",
        "\n",
        "    return player_indices\n"
      ],
      "metadata": {
        "id": "cOr636dX7UHo"
      },
      "execution_count": 79,
      "outputs": []
    },
    {
      "cell_type": "code",
      "source": [
        "def change_scores(text_split: List[str], time_idx: List[int], player_idx: List[int]) -> np.ndarray:\n",
        "    \"\"\"\n",
        "    Extracts and reshapes scores from a list of text items, ignoring items at specified indices.\n",
        "\n",
        "    Args:\n",
        "        text_split (List[str]): List of text items to process.\n",
        "        time_idx (List[int]): List of indices corresponding to time entries.\n",
        "        player_idx (List[int]): List of indices corresponding to player entries.\n",
        "\n",
        "    Returns:\n",
        "        np.ndarray: 2D array of extracted scores, reshaped with 2 rows.\n",
        "    \"\"\"\n",
        "    scores = []\n",
        "\n",
        "    for i, text in enumerate(text_split):\n",
        "        if text and i not in time_idx and i not in player_idx:\n",
        "            scores.append(int(text))\n",
        "\n",
        "    return np.array(scores).reshape(2, -1)"
      ],
      "metadata": {
        "id": "ubWoauuf7VUG"
      },
      "execution_count": 80,
      "outputs": []
    },
    {
      "cell_type": "code",
      "source": [
        "def create_all_lt(dt_title: Dict[int, List[str]], text_split: List[str], year: int) -> List[List[Any]]:\n",
        "    \"\"\"\n",
        "    Generates a list of game data entries based on provided title sections, split text, and a specified year.\n",
        "\n",
        "    Args:\n",
        "        dt_title (Dict[int, List[str]]): Dictionary with indices as keys and lists of text entries as values.\n",
        "        text_split (List[str]): Original list of text items.\n",
        "        year (int): Year for timestamp formatting.\n",
        "\n",
        "    Returns:\n",
        "        List[List[Any]]: List of game data entries, each containing game ID, title, time, and scores.\n",
        "    \"\"\"\n",
        "    game_id = 0\n",
        "    all_games = []\n",
        "\n",
        "    for k, text_section in dt_title.items():\n",
        "        # Find indices of time markers and split the section into time intervals\n",
        "        time_indices = find_time_idx(text_section)\n",
        "        dt_time = put_to_dt(text_section, time_indices)\n",
        "\n",
        "        for kt, vt in dt_time.items():\n",
        "            vt_array = np.array(vt)\n",
        "\n",
        "            # Skip if any special markers are present\n",
        "            if \"WO\" in vt_array or \"Awrd\" in vt_array:\n",
        "                continue\n",
        "\n",
        "            # Reshape and transpose scores\n",
        "            score = vt_array.reshape(-1, 2).T\n",
        "            timestamp = f\"{year}.{text_section[kt]}\"\n",
        "\n",
        "            # Prepare two rows for each game\n",
        "            row1 = [game_id, text_split[k], timestamp] + list(score[0, :])\n",
        "            row2 = [game_id, text_split[k], timestamp] + list(score[1, :])\n",
        "\n",
        "            # Skip games with exactly two score columns\n",
        "            if score.shape[1] == 2:\n",
        "                continue\n",
        "\n",
        "            # Append rows to the list\n",
        "            all_games.append(row1)\n",
        "            all_games.append(row2)\n",
        "            game_id += 1\n",
        "\n",
        "    return all_games"
      ],
      "metadata": {
        "id": "g22HXQyq7WQK"
      },
      "execution_count": 81,
      "outputs": []
    },
    {
      "cell_type": "code",
      "source": [
        "def create_df(all_lt: List[List[Any]]) -> pd.DataFrame:\n",
        "    \"\"\"\n",
        "    Converts a list of game data into a DataFrame with appropriately labeled columns.\n",
        "\n",
        "    Args:\n",
        "        all_lt (List[List[Any]]): List of game data entries.\n",
        "\n",
        "    Returns:\n",
        "        pd.DataFrame: DataFrame with labeled columns, including 'Date' and 'Time' derived from 'Datetime'.\n",
        "    \"\"\"\n",
        "\n",
        "    # Determine the maximum length of rows to create the correct number of columns\n",
        "    max_length = max(len(row) for row in all_lt)\n",
        "\n",
        "    # Generate column names for sets based on the difference between max_length and INFO_COL length\n",
        "    set_column_names = [f'Set{i + 1}' for i in range(max_length - len(INFO_COL))]\n",
        "\n",
        "    # Create DataFrame with dynamic columns\n",
        "    df = pd.DataFrame(all_lt, columns=INFO_COL + set_column_names)\n",
        "\n",
        "    # Reverse the DataFrame for desired ordering\n",
        "    df = df.iloc[::-1].reset_index(drop=True)\n",
        "\n",
        "    # Convert 'Datetime' column to separate 'Date' and 'Time' columns\n",
        "    df['Date'] = pd.to_datetime(df['Datetime'], format=\"%Y.%d.%m. %H:%M\", errors='coerce').dt.date\n",
        "    df['Time'] = pd.to_datetime(df['Datetime'], format=\"%Y.%d.%m. %H:%M\", errors='coerce').dt.time\n",
        "\n",
        "    return df[INFO_COL + ['Date', 'Time'] + set_column_names]"
      ],
      "metadata": {
        "id": "7xJh_CLN7XM5"
      },
      "execution_count": 82,
      "outputs": []
    },
    {
      "cell_type": "code",
      "source": [
        "def create_df_from_text(text: str, year: int) -> pd.DataFrame:\n",
        "    \"\"\"\n",
        "    Processes a text input to create a DataFrame with game data for a given year.\n",
        "\n",
        "    Args:\n",
        "        text (str): Raw text data containing game information.\n",
        "        year (int): Year to use in date formatting.\n",
        "\n",
        "    Returns:\n",
        "        pd.DataFrame: DataFrame with structured game data.\n",
        "    \"\"\"\n",
        "\n",
        "    # Split text by lines and remove any empty entries\n",
        "    text_split = [line for line in text.split('\\n') if line]\n",
        "\n",
        "    # Find indices and titles for each round\n",
        "    round_idx, titles_lt = find_round_title_idx(text_split)\n",
        "    dt_title = put_to_dt(text_split, round_idx)\n",
        "\n",
        "    # Create list of all game data entries and convert to DataFrame\n",
        "    all_lt = create_all_lt(dt_title, text_split, year)\n",
        "    df = create_df(all_lt)\n",
        "    df = df.replace({None: np.nan})\n",
        "\n",
        "    return df"
      ],
      "metadata": {
        "id": "WG1LxBcg7YaL"
      },
      "execution_count": 83,
      "outputs": []
    },
    {
      "cell_type": "code",
      "source": [],
      "metadata": {
        "id": "xG9Fpujo7a7O"
      },
      "execution_count": 83,
      "outputs": []
    },
    {
      "cell_type": "code",
      "source": [],
      "metadata": {
        "id": "ZEmn84Km7a2A"
      },
      "execution_count": 83,
      "outputs": []
    },
    {
      "cell_type": "code",
      "source": [
        "def read_file(file_path: str) -> str:\n",
        "    \"\"\"Reads the entire contents of a file and returns it as a string.\"\"\"\n",
        "    with open(file_path, 'r') as file:\n",
        "        return file.read()\n",
        "\n",
        "def load_game_data(game: str, years: list) -> dict:\n",
        "    \"\"\"Loads game data for the specified game and years into a dictionary.\"\"\"\n",
        "    text_data = {}\n",
        "    for year in years:\n",
        "        file_path = f'./{game}{year}.txt'\n",
        "        text_data[year] = read_file(file_path)\n",
        "\n",
        "    return text_data\n",
        "\n"
      ],
      "metadata": {
        "id": "UHID2sGk7Za-"
      },
      "execution_count": 84,
      "outputs": []
    },
    {
      "cell_type": "code",
      "source": [
        "def create_game_dfs(game: str, years: list, text_data: dict) -> pd.DataFrame:\n",
        "    \"\"\"Creates DataFrames for each year based on the game type and concatenates them into a single DataFrame.\"\"\"\n",
        "    dfs = []\n",
        "    for year in years:\n",
        "        df = create_df_from_text(text_data[year], year)\n",
        "        dfs.append(df)\n",
        "    df_tot = pd.concat(dfs, ignore_index=True)\n",
        "    df_tot.sort_values(by=['Date', 'Time'], inplace=True)\n",
        "    df_tot.reset_index(drop=True, inplace=True)\n",
        "    return df_tot"
      ],
      "metadata": {
        "id": "AqM8gIZQ7ag8"
      },
      "execution_count": 85,
      "outputs": []
    },
    {
      "cell_type": "code",
      "source": [
        "\n",
        "\n",
        "if GAME == 'TTStar':\n",
        "    years = [2020, 2021, 2022, 2023, 2024]\n",
        "    # years = [2020, 2021, 2022, 2023]\n",
        "elif GAME == 'TTCup':\n",
        "    years = [2020, 2021, 2022, 2023, 2024]\n",
        "elif GAME == 'SetkaCup':\n",
        "    years = [2020, 2021, 2022, 2023, 2024]\n",
        "elif GAME == 'SetkaCupWomen':\n",
        "    years = [2020, 2021, 2022, 2023, 2024]\n",
        "    # years = [2020, 2021, 2022, 2023]\n",
        "elif GAME == 'LigaPro':\n",
        "    years = [2022, 2023, 2024]\n",
        "else:\n",
        "    raise ValueError(\"Invalid game selected.\")\n",
        "\n",
        "\n",
        "text_data_game = load_game_data(GAME, years)\n",
        "text_data = {\n",
        "    year: text_data_game[year] for year in years\n",
        "}\n",
        "df = create_game_dfs(GAME, years, text_data)"
      ],
      "metadata": {
        "colab": {
          "base_uri": "https://localhost:8080/"
        },
        "id": "LYKKHO267cRc",
        "outputId": "51a092fd-0357-482f-f53c-873bfaa33c68"
      },
      "execution_count": 87,
      "outputs": [
        {
          "output_type": "stream",
          "name": "stdout",
          "text": [
            "Found title: OTHERS - MEN\n",
            "Found title: : \n",
            "Found title: TT Star Series (Czech Republic)\n",
            "\n",
            "Found title: OTHERS - MEN\n",
            "Found title: : \n",
            "Found title: TT Star Series (Czech Republic)\n",
            "\n",
            "Found title: OTHERS - MEN\n",
            "Found title: : \n",
            "Found title: TT Star Series (Czech Republic)\n",
            "\n",
            "Found title: OTHERS - MEN\n",
            "Found title: : \n",
            "Found title: TT Star Series (Czech Republic)\n",
            "\n",
            "Found title: OTHERS - MEN\n",
            "Found title: : \n",
            "Found title: TT Star Series (Czech Republic)\n",
            "\n"
          ]
        }
      ]
    },
    {
      "cell_type": "code",
      "source": [
        "# Generate ID indices for each pair of rows in the DataFrame\n",
        "idx_lt = [i for i in range(len(df) // 2) for _ in range(2)]\n",
        "df['ID'] = idx_lt  # Assign to the 'ID' column\n",
        "\n",
        "# Reset the DataFrame index to ensure it's sequential\n",
        "df.reset_index(drop=True, inplace=True)\n",
        "\n",
        "# Get unique players and store them in player_lt\n",
        "player_lt = df['Player'].unique()\n",
        "\n"
      ],
      "metadata": {
        "id": "L8oBW_wk7uvM"
      },
      "execution_count": 88,
      "outputs": []
    },
    {
      "cell_type": "code",
      "source": [
        "year_val = years[-2]\n",
        "year_test = years[-1]\n",
        "\n",
        "df_train = df.loc[pd.DatetimeIndex(df['Date']).year < year_val]\n",
        "df_val = df.loc[pd.DatetimeIndex(df['Date']).year == year_val]\n",
        "df_test = df.loc[pd.DatetimeIndex(df['Date']).year == year_test]"
      ],
      "metadata": {
        "id": "tC-31F8o7dPX"
      },
      "execution_count": 89,
      "outputs": []
    },
    {
      "cell_type": "code",
      "source": [
        "def format_to_array(df: pd.DataFrame) -> np.ndarray:\n",
        "\n",
        "    info_col = ['ID', 'Round', 'Datetime', 'Game', 'Date', 'Time']\n",
        "    col = [item for item in df.columns if item not in info_col]\n",
        "\n",
        "    df[[c for c in col if \"Set\" in c]] = df[[c for c in col if \"Set\" in c]].astype(float)\n",
        "    X = df[col].values.reshape(-1, 2, len(col))\n",
        "    return X"
      ],
      "metadata": {
        "id": "SoUKN9X77sQb"
      },
      "execution_count": 90,
      "outputs": []
    },
    {
      "cell_type": "code",
      "source": [
        "X_train = format_to_array(df_train)\n",
        "X_val = format_to_array(df_val)\n",
        "X_test = format_to_array(df_test)"
      ],
      "metadata": {
        "id": "vG2lv7psPyjG"
      },
      "execution_count": 91,
      "outputs": []
    },
    {
      "cell_type": "markdown",
      "source": [
        "# Train and Evaluate"
      ],
      "metadata": {
        "id": "2hpL0yo0VEWX"
      }
    },
    {
      "cell_type": "code",
      "source": [
        "model = RatingSystem(learning_rate=0.1)\n",
        "# model = RatingSystem(learning_rate=0.01, base_param=(0, 0.1))\n",
        "# model = RatingSystem(learning_rate=0.01, base_param=(0, 0.1), update_sigma=False)\n",
        "# model = RatingSystem(learning_rate=0.1, base_param=(0, 0.1), update_sigma=False)\n",
        "model.fit(X_train)\n"
      ],
      "metadata": {
        "colab": {
          "base_uri": "https://localhost:8080/"
        },
        "id": "VZccLMORQCJo",
        "outputId": "306c0729-0b89-4640-aaf4-43bb2073a099"
      },
      "execution_count": 92,
      "outputs": [
        {
          "output_type": "stream",
          "name": "stderr",
          "text": [
            "100%|██████████| 9867/9867 [00:00<00:00, 17733.37it/s]\n"
          ]
        }
      ]
    },
    {
      "cell_type": "code",
      "source": [
        "model.evaluate(X_train);\n",
        "model.evaluate(X_val);\n",
        "model.evaluate(X_test);\n"
      ],
      "metadata": {
        "id": "jb3wex6KVG5I",
        "colab": {
          "base_uri": "https://localhost:8080/"
        },
        "outputId": "27c7eb4f-3d29-4076-cdd9-14b5ff9ab7a0"
      },
      "execution_count": 101,
      "outputs": [
        {
          "output_type": "stream",
          "name": "stderr",
          "text": [
            "100%|██████████| 9867/9867 [00:00<00:00, 13095.31it/s]\n"
          ]
        },
        {
          "output_type": "stream",
          "name": "stdout",
          "text": [
            "\n",
            " === Accuracy: 0.7429816560251343 === \n",
            "\n"
          ]
        },
        {
          "output_type": "stream",
          "name": "stderr",
          "text": [
            "100%|██████████| 4451/4451 [00:00<00:00, 13686.99it/s]\n"
          ]
        },
        {
          "output_type": "stream",
          "name": "stdout",
          "text": [
            "\n",
            " === Accuracy: 0.670345151444001 === \n",
            "\n"
          ]
        },
        {
          "output_type": "stream",
          "name": "stderr",
          "text": [
            "100%|██████████| 2939/2939 [00:00<00:00, 13765.96it/s]"
          ]
        },
        {
          "output_type": "stream",
          "name": "stdout",
          "text": [
            "\n",
            " === Accuracy: 0.6572104018912529 === \n",
            "\n"
          ]
        },
        {
          "output_type": "stream",
          "name": "stderr",
          "text": [
            "\n"
          ]
        }
      ]
    },
    {
      "cell_type": "code",
      "source": [
        "model_test = RatingSystem(params=model.params, learning_rate=0.1)\n",
        "model_test.fit(X_val)\n",
        "model_test.evaluate(X_test);"
      ],
      "metadata": {
        "id": "rR3vwm1gJ1Y_",
        "outputId": "242e7523-8994-4708-cd75-ee935d8f92bb",
        "colab": {
          "base_uri": "https://localhost:8080/"
        }
      },
      "execution_count": 102,
      "outputs": [
        {
          "output_type": "stream",
          "name": "stderr",
          "text": [
            "100%|██████████| 4451/4451 [00:00<00:00, 17667.69it/s]\n",
            "100%|██████████| 2939/2939 [00:00<00:00, 24650.42it/s]"
          ]
        },
        {
          "output_type": "stream",
          "name": "stdout",
          "text": [
            "\n",
            " === Accuracy: 0.6908383445348426 === \n",
            "\n"
          ]
        },
        {
          "output_type": "stream",
          "name": "stderr",
          "text": [
            "\n"
          ]
        }
      ]
    },
    {
      "cell_type": "code",
      "source": [
        "aacc, history, predictions = model_test.evaluate(X_test)"
      ],
      "metadata": {
        "colab": {
          "base_uri": "https://localhost:8080/"
        },
        "id": "Zzm8hQrPaZ_T",
        "outputId": "bcaeface-5422-4596-93cc-c0cf3a3f6f0b"
      },
      "execution_count": 104,
      "outputs": [
        {
          "output_type": "stream",
          "name": "stderr",
          "text": [
            "100%|██████████| 2939/2939 [00:00<00:00, 23930.74it/s]"
          ]
        },
        {
          "output_type": "stream",
          "name": "stdout",
          "text": [
            "\n",
            " === Accuracy: 0.6908383445348426 === \n",
            "\n"
          ]
        },
        {
          "output_type": "stream",
          "name": "stderr",
          "text": [
            "\n"
          ]
        }
      ]
    },
    {
      "cell_type": "code",
      "source": [
        "plt.scatter(history, predictions, alpha=0.1)"
      ],
      "metadata": {
        "colab": {
          "base_uri": "https://localhost:8080/",
          "height": 447
        },
        "id": "Yi6Yw88vc5wp",
        "outputId": "008c7d29-8321-4f10-c678-2a1e986ebb27"
      },
      "execution_count": 105,
      "outputs": [
        {
          "output_type": "execute_result",
          "data": {
            "text/plain": [
              "<matplotlib.collections.PathCollection at 0x795337357a30>"
            ]
          },
          "metadata": {},
          "execution_count": 105
        },
        {
          "output_type": "display_data",
          "data": {
            "text/plain": [
              "<Figure size 640x480 with 1 Axes>"
            ],
            "image/png": "[encoded data removed]"
          },
          "metadata": {}
        }
      ]
    },
    {
      "cell_type": "code",
      "source": [
        "bins_=10\n",
        "plt.hist(predictions[history == 0], range=[0, 1], bins=bins_, histtype='step', density=True);\n",
        "plt.hist(predictions[history == 0.25], range=[0, 1], bins=bins_, histtype='step', density=True);\n",
        "plt.hist(predictions[history == 0.4], range=[0, 1], bins=bins_, histtype='step', density=True);\n",
        "plt.hist(predictions[history == 0.6], range=[0, 1], bins=bins_, histtype='step', density=True);\n",
        "plt.hist(predictions[history == 0.75], range=[0, 1], bins=bins_, histtype='step', density=True);\n",
        "plt.hist(predictions[history == 1], range=[0, 1], bins=bins_, histtype='step', density=True);"
      ],
      "metadata": {
        "colab": {
          "base_uri": "https://localhost:8080/",
          "height": 430
        },
        "id": "cGKloWhcc8rF",
        "outputId": "2732fb1e-da2d-484b-8032-ed3647fa9e16"
      },
      "execution_count": 106,
      "outputs": [
        {
          "output_type": "display_data",
          "data": {
            "text/plain": [
              "<Figure size 640x480 with 1 Axes>"
            ],
            "image/png": "[encoded data removed]"
          },
          "metadata": {}
        }
      ]
    },
    {
      "cell_type": "code",
      "source": [
        "np.unique(history)"
      ],
      "metadata": {
        "colab": {
          "base_uri": "https://localhost:8080/"
        },
        "id": "3sKii_nUdAqb",
        "outputId": "2629d446-774e-42d6-dac5-67b7611d082b"
      },
      "execution_count": 107,
      "outputs": [
        {
          "output_type": "execute_result",
          "data": {
            "text/plain": [
              "array([0.        , 0.25      , 0.33333333, 0.4       , 0.6       ,\n",
              "       0.75      , 1.        ])"
            ]
          },
          "metadata": {},
          "execution_count": 107
        }
      ]
    },
    {
      "cell_type": "code",
      "source": [
        "2/5"
      ],
      "metadata": {
        "colab": {
          "base_uri": "https://localhost:8080/"
        },
        "id": "qWqOGW0Wdnig",
        "outputId": "b97a7649-8a2b-4631-b8c6-a47c08cf2aba"
      },
      "execution_count": 108,
      "outputs": [
        {
          "output_type": "execute_result",
          "data": {
            "text/plain": [
              "0.4"
            ]
          },
          "metadata": {},
          "execution_count": 108
        }
      ]
    },
    {
      "cell_type": "code",
      "source": [],
      "metadata": {
        "id": "dCPxYpW5dxrU"
      },
      "execution_count": 98,
      "outputs": []
    }
  ]
}