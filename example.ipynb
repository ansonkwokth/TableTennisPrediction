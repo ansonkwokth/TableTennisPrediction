{
  "nbformat": 4,
  "nbformat_minor": 0,
  "metadata": {
    "colab": {
      "provenance": [],
      "include_colab_link": true
    },
    "kernelspec": {
      "name": "python3",
      "display_name": "Python 3"
    },
    "language_info": {
      "name": "python"
    }
  },
  "cells": [
    {
      "cell_type": "markdown",
      "metadata": {
        "id": "view-in-github",
        "colab_type": "text"
      },
      "source": [
        "<a href=\"https://colab.research.google.com/github/ansonkwokth/TableTennisPrediction/blob/main/example.ipynb\" target=\"_parent\"><img src=\"https://colab.research.google.com/assets/colab-badge.svg\" alt=\"Open In Colab\"/></a>"
      ]
    },
    {
      "cell_type": "code",
      "source": [
        "!git clone https://github.com/ansonkwokth/TableTennisPrediction.git\n",
        "%cd TableTennisPrediction"
      ],
      "metadata": {
        "id": "1qbWxax1nF6X",
        "colab": {
          "base_uri": "https://localhost:8080/"
        },
        "outputId": "538af3ad-8acd-4921-b605-643ea96896bc"
      },
      "execution_count": 1,
      "outputs": [
        {
          "output_type": "stream",
          "name": "stdout",
          "text": [
            "Cloning into 'TableTennisPrediction'...\n",
            "remote: Enumerating objects: 217, done.\u001b[K\n",
            "remote: Counting objects: 100% (56/56), done.\u001b[K\n",
            "remote: Compressing objects: 100% (41/41), done.\u001b[K\n",
            "remote: Total 217 (delta 37), reused 15 (delta 15), pack-reused 161 (from 1)\u001b[K\n",
            "Receiving objects: 100% (217/217), 1.62 MiB | 5.78 MiB/s, done.\n",
            "Resolving deltas: 100% (105/105), done.\n",
            "/content/TableTennisPrediction\n"
          ]
        }
      ]
    },
    {
      "cell_type": "code",
      "execution_count": 2,
      "metadata": {
        "id": "whRJbYkb6JTI"
      },
      "outputs": [],
      "source": [
        "\n",
        "import pandas as pd\n",
        "from utils import data_loader as dl\n",
        "\n",
        "import numpy as np\n",
        "from model.Elo import Elo\n",
        "from model.ModifiedElo import ModifiedElo\n",
        "from model.ensemble import BaggingRatingSystem\n",
        "\n",
        "import matplotlib.pyplot as plt\n",
        "import seaborn as sns\n",
        "\n",
        "from tqdm import tqdm\n",
        "\n",
        "import copy\n",
        "from scipy.interpolate import interp1d\n",
        "\n",
        "import warnings\n",
        "warnings.filterwarnings('ignore')"
      ]
    },
    {
      "cell_type": "markdown",
      "source": [
        "# Data"
      ],
      "metadata": {
        "id": "zL9XnSNXVA-e"
      }
    },
    {
      "cell_type": "code",
      "source": [
        "# GAME = 'TTStar'\n",
        "# GAME = 'TTCup'\n",
        "# GAME = 'SetkaCup'\n",
        "GAME = 'SetkaCupWomen'\n",
        "# GAME = 'LigaPro'\n"
      ],
      "metadata": {
        "id": "vEfGED5M7Pa2"
      },
      "execution_count": 3,
      "outputs": []
    },
    {
      "cell_type": "code",
      "source": [
        "match GAME:\n",
        "    case 'TTStar':\n",
        "        years = [2020, 2021, 2022, 2023, 2024]\n",
        "    case 'TTCup':\n",
        "        years = [2020, 2021, 2022, 2023, 2024]\n",
        "    case 'SetkaCup':\n",
        "        years = [2020, 2021, 2022, 2023, 2024]\n",
        "    case 'SetkaCupWomen':\n",
        "        years = [2020, 2021, 2022, 2023, 2024]\n",
        "    case 'LigaPro':\n",
        "        years = [2022, 2023, 2024]\n",
        "    case _:\n",
        "        raise ValueError(\"Invalid game selected.\")\n",
        "\n",
        "\n",
        "text_data_game = dl.load_game_data(GAME, years, '../')\n",
        "text_data = {\n",
        "    year: text_data_game[year] for year in years\n",
        "}\n",
        "df = dl.create_game_dfs(GAME, years, text_data)"
      ],
      "metadata": {
        "colab": {
          "base_uri": "https://localhost:8080/"
        },
        "id": "LYKKHO267cRc",
        "outputId": "5169d735-8eb1-485e-e43b-b1a7a813b421"
      },
      "execution_count": 6,
      "outputs": [
        {
          "output_type": "stream",
          "name": "stdout",
          "text": [
            "Loading ..//SetkaCupWomen2020.txt\n",
            "Loading ..//SetkaCupWomen2021.txt\n",
            "Loading ..//SetkaCupWomen2022.txt\n",
            "Loading ..//SetkaCupWomen2023.txt\n",
            "Loading ..//SetkaCupWomen2024.txt\n"
          ]
        }
      ]
    },
    {
      "cell_type": "code",
      "source": [
        "# Generate ID indices for each pair of rows in the DataFrame\n",
        "idx_lt = [i for i in range(len(df) // 2) for _ in range(2)]\n",
        "df['ID'] = idx_lt  # Assign to the 'ID' column\n",
        "\n",
        "# Reset the DataFrame index to ensure it's sequential\n",
        "df.reset_index(drop=True, inplace=True)\n",
        "\n",
        "# Get unique players and store them in player_lt\n",
        "player_lt = df['Player'].unique()\n",
        "\n"
      ],
      "metadata": {
        "id": "L8oBW_wk7uvM"
      },
      "execution_count": 7,
      "outputs": []
    },
    {
      "cell_type": "code",
      "source": [
        "year_val = years[-2]\n",
        "year_test = years[-1]\n",
        "\n",
        "df_train = df.loc[pd.DatetimeIndex(df['Date']).year < year_val]\n",
        "df_val = df.loc[pd.DatetimeIndex(df['Date']).year == year_val]\n",
        "df_test = df.loc[pd.DatetimeIndex(df['Date']).year == year_test]"
      ],
      "metadata": {
        "id": "tC-31F8o7dPX"
      },
      "execution_count": 8,
      "outputs": []
    },
    {
      "cell_type": "code",
      "source": [
        "def format_to_array(df: pd.DataFrame) -> np.ndarray:\n",
        "\n",
        "    # info_col = ['ID', 'Round', 'Datetime', 'Game', 'Date', 'Time']\n",
        "    info_col = ['Round', 'Datetime', 'Game', 'Date', 'Time']\n",
        "    col = [item for item in df.columns if item not in info_col]\n",
        "\n",
        "    df[[c for c in col if \"Set\" in c]] = df[[c for c in col if \"Set\" in c]].astype(float)\n",
        "    X = df[col].values.reshape(-1, 2, len(col))\n",
        "    return X"
      ],
      "metadata": {
        "id": "SoUKN9X77sQb"
      },
      "execution_count": 9,
      "outputs": []
    },
    {
      "cell_type": "code",
      "source": [
        "X_train = format_to_array(df_train)\n",
        "X_val = format_to_array(df_val)\n",
        "X_test = format_to_array(df_test)"
      ],
      "metadata": {
        "id": "vG2lv7psPyjG"
      },
      "execution_count": 10,
      "outputs": []
    },
    {
      "cell_type": "code",
      "source": [
        "X_all = format_to_array(df)"
      ],
      "metadata": {
        "id": "ZP-HZHKKfijU"
      },
      "execution_count": 11,
      "outputs": []
    },
    {
      "cell_type": "markdown",
      "source": [
        "# Train and Evaluate"
      ],
      "metadata": {
        "id": "2hpL0yo0VEWX"
      }
    },
    {
      "cell_type": "code",
      "source": [
        "# traditional Elo\n",
        "modelElo = Elo()\n",
        "# modified Elo\n",
        "modelMElo = ModifiedElo()\n",
        "modelMElo0p1 = ModifiedElo(base_param=(0, 0.1))\n",
        "\n",
        "# traing model with only training set\n",
        "modelElo.fit(X_train)\n",
        "modelMElo.fit(X_train)\n",
        "modelMElo0p1.fit(X_train)\n"
      ],
      "metadata": {
        "colab": {
          "base_uri": "https://localhost:8080/"
        },
        "id": "VZccLMORQCJo",
        "outputId": "bd5b6cbc-c41c-4c49-fa42-e839c3f3ca99"
      },
      "execution_count": 15,
      "outputs": [
        {
          "output_type": "stream",
          "name": "stderr",
          "text": [
            "Training model: 100%|██████████| 26120/26120 [00:00<00:00, 34714.51it/s]\n",
            "Training model: 100%|██████████| 26120/26120 [00:01<00:00, 13218.92it/s]\n",
            "Training model: 100%|██████████| 26120/26120 [00:02<00:00, 11107.14it/s]\n"
          ]
        }
      ]
    },
    {
      "cell_type": "code",
      "source": [
        "# ensembleElo = BaggingRatingSystem(estimator=Elo(), n_models=10, sample_ratio=0.5)\n",
        "# ensembleElo.fit(X_train)"
      ],
      "metadata": {
        "id": "rV1pdLpz3lKj"
      },
      "execution_count": 16,
      "outputs": []
    },
    {
      "cell_type": "code",
      "source": [
        "# ensembleMElo = BaggingRatingSystem(estimator=ModifiedElo(), n_models=10, sample_ratio=0.5)\n",
        "# ensembleMElo.fit(X_train)"
      ],
      "metadata": {
        "id": "heDoyD5j3qqz"
      },
      "execution_count": 17,
      "outputs": []
    },
    {
      "cell_type": "code",
      "source": [
        "def evaluate(model, dataset):\n",
        "    print(f\"Evaluate model: {repr(model)}\")\n",
        "    _model = copy.deepcopy(model)\n",
        "    _model.verbose = False\n",
        "    correct = 0\n",
        "    n_matches = 0\n",
        "\n",
        "    history = []\n",
        "    predictions = []\n",
        "    for matchi in tqdm(dataset, desc=\"Evaluating matches\"):\n",
        "        matchi = matchi.T\n",
        "        player1, player2 = matchi[1]\n",
        "\n",
        "        found_p1, found_p2, p = _model.predict_game(player1, player2)\n",
        "        if not (found_p1 and found_p2): continue\n",
        "        if p == 0.5: continue\n",
        "        whowillwin = 0 if p > 0.5 else 1\n",
        "\n",
        "        win1 = sum(matchi[2:, 0]>matchi[2:, 1])\n",
        "        win2 = sum(matchi[2:, 0]<matchi[2:, 1])\n",
        "        whowon = 0 if win1 > win2 else 1\n",
        "\n",
        "        history.append(win1/(win1 + win2))\n",
        "        predictions.append(p)\n",
        "\n",
        "        n_matches += 1\n",
        "        if (whowon == whowillwin): correct += 1\n",
        "\n",
        "    acc = correct / n_matches\n",
        "    print(f'\\n === Accuracy: {acc} === \\n\\n')\n",
        "    return acc, np.array(history), np.array(predictions)\n",
        "\n"
      ],
      "metadata": {
        "id": "xzabwGZLRDzD"
      },
      "execution_count": 18,
      "outputs": []
    },
    {
      "cell_type": "code",
      "source": [
        "# evaluate the model with the training set\n",
        "evaluate(modelElo, X_train);\n",
        "evaluate(modelMElo, X_train);\n",
        "evaluate(modelMElo0p1, X_train);\n",
        "# evaluate(ensembleElo, X_train);\n",
        "# evaluate(ensembleMElo, X_train);\n"
      ],
      "metadata": {
        "id": "x7r1vQV3dVIA",
        "outputId": "bd97e5d2-acf9-4efb-8c02-acfac35515ed",
        "colab": {
          "base_uri": "https://localhost:8080/"
        }
      },
      "execution_count": 19,
      "outputs": [
        {
          "output_type": "stream",
          "name": "stdout",
          "text": [
            "Evaluate model: Elo(learning_rate=32, base_rate=1000, verbose=False)\n"
          ]
        },
        {
          "output_type": "stream",
          "name": "stderr",
          "text": [
            "Evaluating matches: 100%|██████████| 26120/26120 [00:02<00:00, 12988.18it/s]\n"
          ]
        },
        {
          "output_type": "stream",
          "name": "stdout",
          "text": [
            "\n",
            " === Accuracy: 0.5256891271056662 === \n",
            "\n",
            "\n",
            "Evaluate model: ModifiedElo(learning_rate=0.1, base_param=(0, 1), update_sigma=True, verbose=False)\n"
          ]
        },
        {
          "output_type": "stream",
          "name": "stderr",
          "text": [
            "Evaluating matches: 100%|██████████| 26120/26120 [00:01<00:00, 15467.86it/s]\n"
          ]
        },
        {
          "output_type": "stream",
          "name": "stdout",
          "text": [
            "\n",
            " === Accuracy: 0.6153905053598775 === \n",
            "\n",
            "\n",
            "Evaluate model: ModifiedElo(learning_rate=0.1, base_param=(0, 0.1), update_sigma=True, verbose=False)\n"
          ]
        },
        {
          "output_type": "stream",
          "name": "stderr",
          "text": [
            "Evaluating matches: 100%|██████████| 26120/26120 [00:01<00:00, 17431.86it/s]"
          ]
        },
        {
          "output_type": "stream",
          "name": "stdout",
          "text": [
            "\n",
            " === Accuracy: 0.608843797856049 === \n",
            "\n",
            "\n"
          ]
        },
        {
          "output_type": "stream",
          "name": "stderr",
          "text": [
            "\n"
          ]
        }
      ]
    },
    {
      "cell_type": "code",
      "source": [
        "# evaluate the model with the evaluating set\n",
        "evaluate(modelElo, X_val);\n",
        "evaluate(modelMElo, X_val);\n",
        "evaluate(modelMElo0p1, X_val);\n",
        "# evaluate(ensembleElo, X_val);\n",
        "# evaluate(ensembleMElo, X_val);\n"
      ],
      "metadata": {
        "id": "jb3wex6KVG5I",
        "colab": {
          "base_uri": "https://localhost:8080/"
        },
        "outputId": "1a7e84f4-4954-497b-cc40-dd6cd4c79d6e"
      },
      "execution_count": 20,
      "outputs": [
        {
          "output_type": "stream",
          "name": "stdout",
          "text": [
            "Evaluate model: Elo(learning_rate=32, base_rate=1000, verbose=False)\n"
          ]
        },
        {
          "output_type": "stream",
          "name": "stderr",
          "text": [
            "Evaluating matches: 100%|██████████| 6490/6490 [00:00<00:00, 15682.42it/s]\n"
          ]
        },
        {
          "output_type": "stream",
          "name": "stdout",
          "text": [
            "\n",
            " === Accuracy: 0.5358906190657046 === \n",
            "\n",
            "\n",
            "Evaluate model: ModifiedElo(learning_rate=0.1, base_param=(0, 1), update_sigma=True, verbose=False)\n"
          ]
        },
        {
          "output_type": "stream",
          "name": "stderr",
          "text": [
            "Evaluating matches: 100%|██████████| 6490/6490 [00:00<00:00, 14400.56it/s]\n"
          ]
        },
        {
          "output_type": "stream",
          "name": "stdout",
          "text": [
            "\n",
            " === Accuracy: 0.5818458032662363 === \n",
            "\n",
            "\n",
            "Evaluate model: ModifiedElo(learning_rate=0.1, base_param=(0, 0.1), update_sigma=True, verbose=False)\n"
          ]
        },
        {
          "output_type": "stream",
          "name": "stderr",
          "text": [
            "Evaluating matches: 100%|██████████| 6490/6490 [00:00<00:00, 13490.08it/s]"
          ]
        },
        {
          "output_type": "stream",
          "name": "stdout",
          "text": [
            "\n",
            " === Accuracy: 0.5801367261678694 === \n",
            "\n",
            "\n"
          ]
        },
        {
          "output_type": "stream",
          "name": "stderr",
          "text": [
            "\n"
          ]
        }
      ]
    },
    {
      "cell_type": "code",
      "source": [
        "\n",
        "# define a new model, and import the pre-trained params from the training set\n",
        "modelElo_test = Elo(learning_rate=modelElo.learning_rate)\n",
        "modelElo_test.params = modelElo.params\n",
        "\n",
        "# training the model again with the evaluating set, on top of the pre-trained params\n",
        "modelElo_test.fit(X_val)"
      ],
      "metadata": {
        "id": "rR3vwm1gJ1Y_",
        "outputId": "c94c0da3-b62b-46f5-f2b8-b7d464e26914",
        "colab": {
          "base_uri": "https://localhost:8080/"
        }
      },
      "execution_count": 21,
      "outputs": [
        {
          "output_type": "stream",
          "name": "stderr",
          "text": [
            "Training model: 100%|██████████| 6490/6490 [00:00<00:00, 20255.21it/s]\n"
          ]
        }
      ]
    },
    {
      "cell_type": "code",
      "source": [
        "# define a new model, and import the pre-trained params from the training set\n",
        "modelMElo_test = ModifiedElo(learning_rate=modelMElo.learning_rate)\n",
        "modelMElo_test.params = modelMElo.params\n",
        "\n",
        "# training the model again with the evaluating set, on top of the pre-trained params\n",
        "modelMElo_test.fit(X_val)"
      ],
      "metadata": {
        "id": "r5aVe_cNd2OX",
        "outputId": "4b4d4384-fcb1-4f65-edfe-00af959b2f49",
        "colab": {
          "base_uri": "https://localhost:8080/"
        }
      },
      "execution_count": 22,
      "outputs": [
        {
          "output_type": "stream",
          "name": "stderr",
          "text": [
            "Training model: 100%|██████████| 6490/6490 [00:00<00:00, 9836.04it/s]\n"
          ]
        }
      ]
    },
    {
      "cell_type": "code",
      "source": [
        "# define a new model, and import the pre-trained params from the training set\n",
        "modelMElo0p1_test = ModifiedElo(learning_rate=modelMElo.learning_rate, base_param=modelMElo.base_param)\n",
        "modelMElo0p1_test.params = modelMElo0p1.params\n",
        "\n",
        "# training the model again with the evaluating set, on top of the pre-trained params\n",
        "modelMElo0p1_test.fit(X_val)"
      ],
      "metadata": {
        "id": "srruBPYcGwDe",
        "outputId": "d26a8827-9fa5-4eba-b2a6-265a800dfc2f",
        "colab": {
          "base_uri": "https://localhost:8080/"
        }
      },
      "execution_count": 26,
      "outputs": [
        {
          "output_type": "stream",
          "name": "stderr",
          "text": [
            "Training model: 100%|██████████| 6490/6490 [00:01<00:00, 4546.19it/s]\n"
          ]
        }
      ]
    },
    {
      "cell_type": "code",
      "source": [
        "# X_train_val = np.append(X_train, X_val, axis=0)\n",
        "\n",
        "# ensembleElo_test = BaggingRatingSystem(estimator=Elo(), n_models=10, sample_ratio=0.5)\n",
        "# ensembleElo_test.fit(X_train_val)"
      ],
      "metadata": {
        "id": "n1dA-vCGkF9H"
      },
      "execution_count": 27,
      "outputs": []
    },
    {
      "cell_type": "code",
      "source": [
        "# ensembleMElo_test = BaggingRatingSystem(estimator=ModifiedElo(), n_models=10, sample_ratio=0.5)\n",
        "# ensembleMElo_test.fit(X_train_val)"
      ],
      "metadata": {
        "id": "atm7pf_0kPTB"
      },
      "execution_count": 28,
      "outputs": []
    },
    {
      "cell_type": "code",
      "source": [
        "# evaluate the model with the testing set\n",
        "evaluate(modelElo_test, X_val);\n",
        "evaluate(modelMElo_test, X_val);\n",
        "evaluate(modelMElo0p1_test, X_val);\n",
        "# evaluate(ensembleElo_test, X_val);\n",
        "# evaluate(ensembleMElo_test, X_val);"
      ],
      "metadata": {
        "id": "JhCn1sdZTZfy",
        "outputId": "5a8ee04f-0546-4d9b-924b-1768a49b0468",
        "colab": {
          "base_uri": "https://localhost:8080/"
        }
      },
      "execution_count": 29,
      "outputs": [
        {
          "output_type": "stream",
          "name": "stdout",
          "text": [
            "Evaluate model: Elo(learning_rate=32, base_rate=1000, verbose=False)\n"
          ]
        },
        {
          "output_type": "stream",
          "name": "stderr",
          "text": [
            "Evaluating matches: 100%|██████████| 6490/6490 [00:00<00:00, 17868.61it/s]\n"
          ]
        },
        {
          "output_type": "stream",
          "name": "stdout",
          "text": [
            "\n",
            " === Accuracy: 0.5359013867488444 === \n",
            "\n",
            "\n",
            "Evaluate model: ModifiedElo(learning_rate=0.1, base_param=(0, 1), update_sigma=True, verbose=False)\n"
          ]
        },
        {
          "output_type": "stream",
          "name": "stderr",
          "text": [
            "Evaluating matches: 100%|██████████| 6490/6490 [00:00<00:00, 14698.59it/s]\n"
          ]
        },
        {
          "output_type": "stream",
          "name": "stdout",
          "text": [
            "\n",
            " === Accuracy: 0.6220338983050847 === \n",
            "\n",
            "\n",
            "Evaluate model: ModifiedElo(learning_rate=0.1, base_param=(0, 1), update_sigma=True, verbose=False)\n"
          ]
        },
        {
          "output_type": "stream",
          "name": "stderr",
          "text": [
            "Evaluating matches: 100%|██████████| 6490/6490 [00:00<00:00, 19466.76it/s]"
          ]
        },
        {
          "output_type": "stream",
          "name": "stdout",
          "text": [
            "\n",
            " === Accuracy: 0.6175654853620955 === \n",
            "\n",
            "\n"
          ]
        },
        {
          "output_type": "stream",
          "name": "stderr",
          "text": [
            "\n"
          ]
        }
      ]
    },
    {
      "cell_type": "code",
      "source": [
        "# evaluate the model with the testing set\n",
        "accElo, historyElo, predictionsElo = evaluate(modelElo_test, X_test)\n",
        "accMElo, historyMElo, predictionsMElo = evaluate(modelMElo_test, X_test)\n",
        "accMElo0p1, historyMElo0p1, predictionsMElo0p1 = evaluate(modelMElo0p1_test, X_test)\n",
        "# accenElo, historyenElo, predictionsenElo = evaluate(ensembleElo_test, X_test);\n",
        "# accenMElo, historyenMElo, predictionsenMElo = evaluate(ensembleMElo_test, X_test);"
      ],
      "metadata": {
        "id": "achgwFGKeGtN",
        "outputId": "dbfa3d83-6b95-4530-dbdb-85ed12b9def9",
        "colab": {
          "base_uri": "https://localhost:8080/"
        }
      },
      "execution_count": 30,
      "outputs": [
        {
          "output_type": "stream",
          "name": "stdout",
          "text": [
            "Evaluate model: Elo(learning_rate=32, base_rate=1000, verbose=False)\n"
          ]
        },
        {
          "output_type": "stream",
          "name": "stderr",
          "text": [
            "Evaluating matches: 100%|██████████| 1969/1969 [00:00<00:00, 18594.22it/s]\n"
          ]
        },
        {
          "output_type": "stream",
          "name": "stdout",
          "text": [
            "\n",
            " === Accuracy: 0.569060773480663 === \n",
            "\n",
            "\n",
            "Evaluate model: ModifiedElo(learning_rate=0.1, base_param=(0, 1), update_sigma=True, verbose=False)\n"
          ]
        },
        {
          "output_type": "stream",
          "name": "stderr",
          "text": [
            "Evaluating matches: 100%|██████████| 1969/1969 [00:00<00:00, 15170.96it/s]\n"
          ]
        },
        {
          "output_type": "stream",
          "name": "stdout",
          "text": [
            "\n",
            " === Accuracy: 0.6519337016574586 === \n",
            "\n",
            "\n",
            "Evaluate model: ModifiedElo(learning_rate=0.1, base_param=(0, 1), update_sigma=True, verbose=False)\n"
          ]
        },
        {
          "output_type": "stream",
          "name": "stderr",
          "text": [
            "Evaluating matches: 100%|██████████| 1969/1969 [00:00<00:00, 13929.89it/s]"
          ]
        },
        {
          "output_type": "stream",
          "name": "stdout",
          "text": [
            "\n",
            " === Accuracy: 0.6403314917127072 === \n",
            "\n",
            "\n"
          ]
        },
        {
          "output_type": "stream",
          "name": "stderr",
          "text": [
            "\n"
          ]
        }
      ]
    },
    {
      "cell_type": "code",
      "source": [
        "# plt.scatter(historyElo, predictionsElo, alpha=0.05)\n",
        "plt.scatter(historyMElo, predictionsMElo, alpha=0.05)\n",
        "# plt.scatter(historyenMElo, predictionsenMElo, alpha=0.05)\n",
        "plt.xlabel(\"True\")\n",
        "plt.ylabel(\"Pred\")"
      ],
      "metadata": {
        "colab": {
          "base_uri": "https://localhost:8080/",
          "height": 466
        },
        "id": "Yi6Yw88vc5wp",
        "outputId": "cd7594e5-01ac-4c6d-e63b-769132d78ecb"
      },
      "execution_count": 31,
      "outputs": [
        {
          "output_type": "execute_result",
          "data": {
            "text/plain": [
              "Text(0, 0.5, 'Pred')"
            ]
          },
          "metadata": {},
          "execution_count": 31
        },
        {
          "output_type": "display_data",
          "data": {
            "text/plain": [
              "<Figure size 640x480 with 1 Axes>"
            ],
            "image/png": "[encoded data removed]"
          },
          "metadata": {}
        }
      ]
    },
    {
      "cell_type": "code",
      "source": [
        "bins_=10\n",
        "history_p = [0, 0.25, 0.4, 0.6, 0.75, 1]\n",
        "for p in history_p[:3]:\n",
        "    plt.hist(predictionsMElo[historyMElo == p], range=[0, 1], bins=bins_, histtype='step', density=True, label=f\"Truth={p}\");\n",
        "\n",
        "plt.legend();\n",
        "plt.show()\n",
        "\n",
        "for p in history_p[3:]:\n",
        "    plt.hist(predictionsMElo[historyMElo == p], range=[0, 1], bins=bins_, histtype='step', density=True, label=f\"Truth={p}\");\n",
        "\n",
        "plt.legend();\n",
        "plt.show()"
      ],
      "metadata": {
        "colab": {
          "base_uri": "https://localhost:8080/",
          "height": 851
        },
        "id": "cGKloWhcc8rF",
        "outputId": "1d385798-9c7c-41bc-d1b7-60081b33f116"
      },
      "execution_count": null,
      "outputs": [
        {
          "output_type": "display_data",
          "data": {
            "text/plain": [
              "<Figure size 640x480 with 1 Axes>"
            ],
            "image/png": "[encoded data removed]"
          },
          "metadata": {}
        },
        {
          "output_type": "display_data",
          "data": {
            "text/plain": [
              "<Figure size 640x480 with 1 Axes>"
            ],
            "image/png": "[encoded data removed]"
          },
          "metadata": {}
        }
      ]
    },
    {
      "cell_type": "markdown",
      "source": [
        "# Inference"
      ],
      "metadata": {
        "id": "APb1pnGvDni7"
      }
    },
    {
      "cell_type": "code",
      "source": [
        "player1 = 'Folwarski J.'\n",
        "player2 = 'Brossier B.'\n",
        "\n",
        "found_p1, found_p2, p_point = modelMElo_test.predict_point(player1, player2)\n",
        "found_p1, found_p2, p_set = modelMElo_test.predict_set(player1, player2)\n",
        "found_p1, found_p2, p_game = modelMElo_test.predict_game(player1, player2)"
      ],
      "metadata": {
        "id": "XuxUpl5KDcbI"
      },
      "execution_count": null,
      "outputs": []
    },
    {
      "cell_type": "code",
      "source": [
        "print(f\"p({player1} wins a point)  = {p_point:.4f}\")\n",
        "print(f\"p({player1} wins a set)    = {p_set:.4f}\")\n",
        "print(f\"p({player1} wins the game) = {p_game:.4f}\")"
      ],
      "metadata": {
        "id": "6LHuDForDNdY",
        "outputId": "7bf6b915-2688-480e-feeb-da57171f4fb6",
        "colab": {
          "base_uri": "https://localhost:8080/"
        }
      },
      "execution_count": null,
      "outputs": [
        {
          "output_type": "stream",
          "name": "stdout",
          "text": [
            "p(Folwarski J. wins a point)  = 0.5318\n",
            "p(Folwarski J. wins a set)    = 0.6215\n",
            "p(Folwarski J. wins the game) = 0.7191\n"
          ]
        }
      ]
    },
    {
      "cell_type": "code",
      "source": [
        "found_p1, found_p2, ps_set = modelMElo_test.predict_set_config(player1, player2)\n",
        "\n",
        "for points, p in ps_set.items():\n",
        "    print(f\"p({player1} wins a set with total points={points}) = {p:.4f}\")"
      ],
      "metadata": {
        "id": "alTolY_ZEHco",
        "outputId": "b2a6162b-30d6-433b-cb18-1a35bc6d8df4",
        "colab": {
          "base_uri": "https://localhost:8080/"
        }
      },
      "execution_count": null,
      "outputs": [
        {
          "output_type": "stream",
          "name": "stdout",
          "text": [
            "p(Folwarski J. wins a set with total points=11) = 0.0010\n",
            "p(Folwarski J. wins a set with total points=12) = 0.0050\n",
            "p(Folwarski J. wins a set with total points=13) = 0.0139\n",
            "p(Folwarski J. wins a set with total points=14) = 0.0283\n",
            "p(Folwarski J. wins a set with total points=15) = 0.0463\n",
            "p(Folwarski J. wins a set with total points=16) = 0.0650\n",
            "p(Folwarski J. wins a set with total points=17) = 0.0812\n",
            "p(Folwarski J. wins a set with total points=18) = 0.0923\n",
            "p(Folwarski J. wins a set with total points=19) = 0.0972\n",
            "p(Folwarski J. wins a set with total points=20) = 0.0961\n",
            "p(Folwarski J. wins a set with total points=22) = 0.0953\n"
          ]
        }
      ]
    },
    {
      "cell_type": "code",
      "source": [
        "# by defalt, who wins 3 sets will win the game\n",
        "found_p1, found_p2, ps_game = modelMElo_test.predict_game_config(player1, player2)\n",
        "\n",
        "for points, p in ps_game.items():\n",
        "    print(f\"p({player1} wins the game with total sets={points}) = {p:.4f}\")"
      ],
      "metadata": {
        "id": "Am-RLoMzEhgf",
        "outputId": "5decfa8d-a7e0-416e-dadf-d0968d44948c",
        "colab": {
          "base_uri": "https://localhost:8080/"
        }
      },
      "execution_count": null,
      "outputs": [
        {
          "output_type": "stream",
          "name": "stdout",
          "text": [
            "p(Folwarski J. wins the game with total sets=3) = 0.2401\n",
            "p(Folwarski J. wins the game with total sets=4) = 0.2726\n",
            "p(Folwarski J. wins the game with total sets=5) = 0.2063\n"
          ]
        }
      ]
    },
    {
      "cell_type": "code",
      "source": [
        "# if the rule of the game is: who wins 5 sets will win the game\n",
        "n_win_sets = 5\n",
        "found_p1, found_p2, ps_game = modelMElo_test.predict_game_config(player1, player2, n_win_sets)\n",
        "\n",
        "for points, p in ps_game.items():\n",
        "    print(f\"p({player1} wins the game with total sets={points}) = {p:.4f}\")"
      ],
      "metadata": {
        "id": "DASmGx-mEoPc",
        "outputId": "0704620d-d1b8-4c30-a725-c444fec13616",
        "colab": {
          "base_uri": "https://localhost:8080/"
        }
      },
      "execution_count": null,
      "outputs": [
        {
          "output_type": "stream",
          "name": "stdout",
          "text": [
            "p(Folwarski J. wins the game with total sets=5) = 0.0928\n",
            "p(Folwarski J. wins the game with total sets=6) = 0.1755\n",
            "p(Folwarski J. wins the game with total sets=7) = 0.1993\n",
            "p(Folwarski J. wins the game with total sets=8) = 0.1760\n",
            "p(Folwarski J. wins the game with total sets=9) = 0.1332\n"
          ]
        }
      ]
    },
    {
      "cell_type": "code",
      "source": [],
      "metadata": {
        "id": "PLDkeW3ZpbSi"
      },
      "execution_count": null,
      "outputs": []
    },
    {
      "cell_type": "code",
      "source": [],
      "metadata": {
        "id": "VvJXL-uxNb4y"
      },
      "execution_count": null,
      "outputs": []
    },
    {
      "cell_type": "code",
      "source": [],
      "metadata": {
        "id": "FoglSHKANb71"
      },
      "execution_count": null,
      "outputs": []
    },
    {
      "cell_type": "code",
      "source": [],
      "metadata": {
        "id": "hEJMvwp4Nb-j"
      },
      "execution_count": null,
      "outputs": []
    },
    {
      "cell_type": "code",
      "source": [],
      "metadata": {
        "id": "dI8jjjWQOedg"
      },
      "execution_count": null,
      "outputs": []
    },
    {
      "cell_type": "code",
      "source": [
        "# traditional Elo\n",
        "modelMElo_all = ModifiedElo()\n",
        "\n",
        "# traing model with only training set\n",
        "modelMElo_all.fit(X_all)\n"
      ],
      "metadata": {
        "id": "UxQ1FNAZ7xTN",
        "colab": {
          "base_uri": "https://localhost:8080/"
        },
        "outputId": "d7d80ed6-6814-40c8-900d-7a1285eb0f56"
      },
      "execution_count": null,
      "outputs": [
        {
          "output_type": "stream",
          "name": "stderr",
          "text": [
            "Training model: 100%|██████████| 17257/17257 [00:01<00:00, 16767.48it/s]\n"
          ]
        }
      ]
    },
    {
      "cell_type": "code",
      "source": [
        "player1 = 'Nalepa K.'\n",
        "player2 = 'Tymofeev O.'\n",
        "o1 = 4.\n",
        "o2 = 1.22\n",
        "\n",
        "found_p1, found_p2, p_game = modelMElo_all.predict_game(player1, player2)\n",
        "if (found_p1 and found_p2):\n",
        "    print(p_game, 1-p_game, p_game*o1, (1-p_game)*o2)"
      ],
      "metadata": {
        "colab": {
          "base_uri": "https://localhost:8080/"
        },
        "id": "wh0aNg7IwfFh",
        "outputId": "93e6aa4c-8296-4238-d69b-9b802616c1b5"
      },
      "execution_count": null,
      "outputs": [
        {
          "output_type": "stream",
          "name": "stdout",
          "text": [
            "0.4263657401346591 0.5736342598653409 1.7054629605386364 0.6998337970357159\n"
          ]
        }
      ]
    },
    {
      "cell_type": "code",
      "source": [
        "f\"{player1} v {player2} -    {player1 if p_game>0.5 else player2}\"\n",
        "\n",
        "\n",
        "# Jan 24, 8:35 - Hordynska-Sheiko A. v Ivchenko O. -    Ivchenko O.    (Ivchenko O. 1.011)\n",
        "# Jan 24: 9:35 - Severina Y. v Gordeets M. -    Gordeets M.    (Severina Y. 1.04)\n",
        "# Jan 24: 10:35 - Gordeets M. v Ivchenko O. -    Ivchenko O.\n",
        "# Jan 24: 11:05 - Lifanova O. v Severina Y. -    Lifanova O.    (Severina Y. 1.14)\n",
        "# Jan 24: 11:35 - Hordynska-Sheiko A. v Gordeets M. -    Gordeets M.\n",
        "# Jan 24: 12:35 - Lifanova O. v Ivchenko O. -    Ivchenko O.    (Ivchenko O. 1.097)\n",
        "# Jan 24: 13:05 - Hordynska-Sheiko A. v Severina Y. -    Severina Y.\n",
        "# Jan 24: 13:35 - Lifanova O. v Gordeets M. -    Lifanova O.\n",
        "# Jan 24: 14:35 - Hordynska-Sheiko A. v Lifanova O. -    Lifanova O.    (Hordynska-Sheiko A. 1.248)\n",
        "# Jan 24: 15:05 - Severina Y. v Ivchenko O. -    Ivchenko O.    (Ivchenko O. 1.063)\n"
      ],
      "metadata": {
        "colab": {
          "base_uri": "https://localhost:8080/",
          "height": 35
        },
        "id": "dbidNcCOyRKA",
        "outputId": "6019dd39-c788-4934-cce2-7f77b55af51a"
      },
      "execution_count": null,
      "outputs": [
        {
          "output_type": "execute_result",
          "data": {
            "text/plain": [
              "'Nalepa K. v Tymofeev O. -    Tymofeev O.'"
            ],
            "application/vnd.google.colaboratory.intrinsic+json": {
              "type": "string"
            }
          },
          "metadata": {},
          "execution_count": 372
        }
      ]
    },
    {
      "cell_type": "code",
      "source": [],
      "metadata": {
        "id": "6FNNiGpmyBFr"
      },
      "execution_count": null,
      "outputs": []
    },
    {
      "cell_type": "code",
      "source": [
        "p1_name = 'Lif'\n",
        "\n",
        "for k, v in modelMElo_all.params.items():\n",
        "    if p1_name in k:\n",
        "        print(k, v)\n",
        "        break"
      ],
      "metadata": {
        "id": "7KMJ8jnBwyYa"
      },
      "execution_count": null,
      "outputs": []
    },
    {
      "cell_type": "code",
      "source": [],
      "metadata": {
        "id": "_a-YMnDBFZcz"
      },
      "execution_count": null,
      "outputs": []
    },
    {
      "cell_type": "code",
      "source": [],
      "metadata": {
        "id": "4p-Ess5yFZa3"
      },
      "execution_count": null,
      "outputs": []
    },
    {
      "cell_type": "code",
      "source": [],
      "metadata": {
        "id": "RRhq1L7GFZY9"
      },
      "execution_count": null,
      "outputs": []
    },
    {
      "cell_type": "code",
      "source": [],
      "metadata": {
        "id": "XgUmL6fTFZXC"
      },
      "execution_count": null,
      "outputs": []
    },
    {
      "cell_type": "markdown",
      "source": [
        "## Plots"
      ],
      "metadata": {
        "id": "Z0Dpgwq4SJub"
      }
    },
    {
      "cell_type": "code",
      "source": [
        "df_data = pd.DataFrame([historyMElo, predictionsMElo]).T\n",
        "\n",
        "df_data.columns = ['g', 'x']\n",
        "df_data = df_data[df_data.g != 1/3]"
      ],
      "metadata": {
        "id": "V9-CjffqJ8kx"
      },
      "execution_count": null,
      "outputs": []
    },
    {
      "cell_type": "code",
      "source": [],
      "metadata": {
        "id": "7OuoLVbMcgSd"
      },
      "execution_count": null,
      "outputs": []
    },
    {
      "cell_type": "code",
      "source": [
        "import numpy as np\n",
        "import pandas as pd\n",
        "import seaborn as sns\n",
        "import matplotlib.pyplot as plt\n",
        "sns.set_theme(style=\"white\", rc={\"axes.facecolor\": (0, 0, 0, 0)})\n",
        "\n",
        "\n",
        "# Initialize the FacetGrid object\n",
        "pal = sns.cubehelix_palette(10, rot=-.25, light=.7)\n",
        "g = sns.FacetGrid(df_data, row=\"g\", hue=\"g\", aspect=15, height=.5, palette=pal)\n",
        "\n",
        "bw_adjust = 2\n",
        "# Draw the densities in a few steps\n",
        "g.map(sns.kdeplot, \"x\",\n",
        "      bw_adjust=bw_adjust, clip_on=False,\n",
        "      fill=True, alpha=1, linewidth=1.5)\n",
        "g.map(sns.kdeplot, \"x\", clip_on=False, color=\"w\", lw=2, bw_adjust=bw_adjust)\n",
        "\n",
        "# passing color=None to refline() uses the hue mapping\n",
        "g.refline(y=0, linewidth=2, linestyle=\"-\", color=None, clip_on=False)\n",
        "\n",
        "\n",
        "# Define and use a simple function to label the plot in axes coordinates\n",
        "def label(x, color, label):\n",
        "    ax = plt.gca()\n",
        "    ax.text(0, .2, label, fontweight=\"bold\", color=color,\n",
        "            ha=\"left\", va=\"center\", transform=ax.transAxes)\n",
        "\n",
        "\n",
        "g.map(label, \"x\")\n",
        "\n",
        "# Set the subplots to overlap\n",
        "g.figure.subplots_adjust(hspace=-.25)\n",
        "\n",
        "# Remove axes details that don't play well with overlap\n",
        "g.set_titles(\"\")\n",
        "g.set(yticks=[], ylabel=\"\")\n",
        "g.despine(bottom=True, left=True)\n",
        "\n",
        "# g.set(xlim=(0, 1))\n",
        "\n",
        "# Set the x-axis label\n",
        "g.set(xlabel=\"Predicted  Probability\")  # Change the x-axis label here"
      ],
      "metadata": {
        "id": "aeGOBG6UKbNe",
        "outputId": "a1262f44-1774-44e2-a982-0cb7050ee306",
        "colab": {
          "base_uri": "https://localhost:8080/",
          "height": 336
        }
      },
      "execution_count": null,
      "outputs": [
        {
          "output_type": "execute_result",
          "data": {
            "text/plain": [
              "<seaborn.axisgrid.FacetGrid at 0x79f78ebd4310>"
            ]
          },
          "metadata": {},
          "execution_count": 375
        },
        {
          "output_type": "display_data",
          "data": {
            "text/plain": [
              "<Figure size 750x300 with 6 Axes>"
            ],
            "image/png": "[encoded data removed]"
          },
          "metadata": {}
        }
      ]
    },
    {
      "cell_type": "code",
      "source": [
        "def sigmoid(x):\n",
        "  return 1 / (1 + np.exp(-x))"
      ],
      "metadata": {
        "id": "I7g_Y8aASSeX"
      },
      "execution_count": null,
      "outputs": []
    },
    {
      "cell_type": "code",
      "source": [
        "\n",
        "from scipy.stats import norm\n",
        "\n",
        "x = np.linspace(-9, 9, 1000)\n",
        "plt.plot(x, sigmoid(x))\n",
        "\n",
        "mu = 1.5\n",
        "sigma = 0.5\n",
        "y = norm.pdf(x, mu, sigma)  # Probability density function\n",
        "\n",
        "# Plot the Gaussian distribution on top of the existing plot\n",
        "y_plot = y*0.5\n",
        "line, = plt.plot(x, y_plot, 'r-', label='Gaussian Distribution')\n",
        "plt.fill_between(x, y_plot, color=line.get_color(), alpha=0.2)\n",
        "\n",
        "\n",
        "\n",
        "plt.axvline(x=mu, color='r', linestyle='-', alpha=0.75)\n",
        "plt.axvline(x=mu+sigma, color='r', linestyle='--', alpha=0.5)\n",
        "plt.axvline(x=mu-sigma, color='r', linestyle='--', alpha=0.5)\n",
        "\n",
        "# Plot the corresponding horizontal line\n",
        "plt.axhline(y=sigmoid(mu), color='b', linestyle='-', alpha=0.75)\n",
        "plt.axhline(y=sigmoid(mu+sigma), color='b', linestyle='--', alpha=0.5)\n",
        "plt.axhline(y=sigmoid(mu-sigma), color='b', linestyle='--', alpha=0.5)\n",
        "\n",
        "plt.fill_between(x, sigmoid(mu-sigma), sigmoid(mu+sigma), color='b', alpha=0.2)\n",
        "\n",
        "plt.ylim(0, 1.)\n",
        "\n",
        "plt.text(-8, .67, f\"Estimated winning probability: \\n[{sigmoid(mu-sigma)*100:.1f}%, {sigmoid(mu+sigma)*100:.1f}%]\", fontsize=10,\n",
        "        ha=\"left\", va=\"center\")\n",
        "\n",
        "# Add gridlines\n",
        "plt.grid(True, linestyle='-', alpha=0.5)\n",
        "\n",
        "plt.ylabel(\"Player1  Winning  Probability\");\n",
        "\n",
        "plt.margins(x=0)"
      ],
      "metadata": {
        "id": "Yt2HV5SUOa6m",
        "outputId": "78ac7fd2-648e-49fc-ed16-364337c2c563",
        "colab": {
          "base_uri": "https://localhost:8080/",
          "height": 440
        }
      },
      "execution_count": null,
      "outputs": [
        {
          "output_type": "display_data",
          "data": {
            "text/plain": [
              "<Figure size 640x480 with 1 Axes>"
            ],
            "image/png": "[encoded data removed]"
          },
          "metadata": {}
        }
      ]
    },
    {
      "cell_type": "code",
      "source": [
        "found_p1, found_p2, ps_set1 = modelMElo_all.predict_set_config(player1, player2)\n",
        "found_p1, found_p2, ps_set2 = modelMElo_all.predict_set_config(player2, player1)"
      ],
      "metadata": {
        "id": "TdpvdoIaQJ9R"
      },
      "execution_count": null,
      "outputs": []
    },
    {
      "cell_type": "code",
      "source": [
        "ps_set = {}\n",
        "for k, v in ps_set1.items():\n",
        "    kk = str(k)\n",
        "    if k == 22: kk = \">\" + str(k-1)\n",
        "    ps_set[kk] = v + ps_set2[k]\n",
        "\n"
      ],
      "metadata": {
        "id": "S8dt9EnLTv5-"
      },
      "execution_count": null,
      "outputs": []
    },
    {
      "cell_type": "code",
      "source": [
        "ps_set1_ = {}\n",
        "for k, v in ps_set1.items():\n",
        "    kk = str(k)\n",
        "    if k == 22: kk = \">\" + str(k-1)\n",
        "    ps_set1_[kk] = v\n",
        "\n",
        "ps_set2_ = {}\n",
        "for k, v in ps_set2.items():\n",
        "    kk = str(k)\n",
        "    if k == 22: kk = \">\" + str(k-1)\n",
        "    ps_set2_[kk] = v\n",
        "\n"
      ],
      "metadata": {
        "id": "FewugpF8Xmfe"
      },
      "execution_count": null,
      "outputs": []
    },
    {
      "cell_type": "code",
      "source": [
        "keys = list(ps_set.keys())\n",
        "values = list(ps_set.values())\n",
        "\n",
        "# Create a barplot using seaborn\n",
        "sns.barplot(x=keys, y=values, palette='viridis');\n",
        "\n",
        "plt.xlabel(\"Total  Points  of  the  Set\")\n",
        "plt.ylabel(\"Probability\")\n",
        "plt.grid(True, linestyle='-', alpha=0.5)"
      ],
      "metadata": {
        "id": "X8jjHCZ-TM42",
        "outputId": "2ab9c6c6-5c39-41ef-df37-61b608fa6fd4",
        "colab": {
          "base_uri": "https://localhost:8080/",
          "height": 458
        }
      },
      "execution_count": null,
      "outputs": [
        {
          "output_type": "display_data",
          "data": {
            "text/plain": [
              "<Figure size 640x480 with 1 Axes>"
            ],
            "image/png": "[encoded data removed]"
          },
          "metadata": {}
        }
      ]
    },
    {
      "cell_type": "code",
      "source": [
        "\n",
        "# Convert dictionaries to lists\n",
        "keys1 = list(ps_set2_.keys())\n",
        "values1 = list(ps_set2_.values())\n",
        "\n",
        "keys2 = list(ps_set1_.keys())\n",
        "values2 = list(ps_set1_.values())\n",
        "\n",
        "# Create the figure\n",
        "plt.figure(figsize=(10, 6))\n",
        "\n",
        "# Define colors for each dict\n",
        "color1 = 'b'  # Color for dict1 (left)\n",
        "color2 = 'r'  # Color for dict2 (right)\n",
        "\n",
        "# Plot the first dictionary on the left (negative values)\n",
        "for i, (key, value) in enumerate(zip(keys1, values1)):\n",
        "    plt.barh(key, -value, color=color1, label='Player 1 Wins' if i == 0 else \"\")  # Negative for left side\n",
        "\n",
        "# Plot the second dictionary on the right (positive values)\n",
        "for i, (key, value) in enumerate(zip(keys2, values2)):\n",
        "    plt.barh(key, value, color=color2, label='Player 2 Wins' if i == 0 else \"\")  # Positive for right side\n",
        "\n",
        "# Customize the plot\n",
        "plt.xlabel('Probability')\n",
        "plt.ylabel('Total  Points  of  the  Set')\n",
        "legend = plt.legend()\n",
        "frame = legend.get_frame()\n",
        "frame.set_facecolor('white')\n",
        "frame.set_edgecolor('k')\n",
        "\n",
        "plt.xlim(-0.1, 0.1)\n",
        "\n",
        "xticks = plt.gca().get_xticks()  # Get the current x-axis ticks\n",
        "plt.xticks(xticks, [abs(round(tick,4)) for tick in xticks])  # Change ticks to absolute values\n",
        "\n",
        "plt.grid(True, linestyle='-', alpha=0.5)\n",
        "# Display the plot\n",
        "plt.show()\n"
      ],
      "metadata": {
        "id": "aibwtdAtVyeX",
        "outputId": "ec493a05-e4b4-465f-fae4-1612b86ef790",
        "colab": {
          "base_uri": "https://localhost:8080/",
          "height": 550
        }
      },
      "execution_count": null,
      "outputs": [
        {
          "output_type": "display_data",
          "data": {
            "text/plain": [
              "<Figure size 1000x600 with 1 Axes>"
            ],
            "image/png": "[encoded data removed]"
          },
          "metadata": {}
        }
      ]
    },
    {
      "cell_type": "code",
      "source": [],
      "metadata": {
        "id": "u1A0NJPrYMGM"
      },
      "execution_count": null,
      "outputs": []
    }
  ]
}