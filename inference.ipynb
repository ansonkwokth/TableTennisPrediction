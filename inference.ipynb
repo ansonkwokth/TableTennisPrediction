{
  "nbformat": 4,
  "nbformat_minor": 0,
  "metadata": {
    "colab": {
      "provenance": [],
      "authorship_tag": "ABX9TyPkUcdAB1VHE7UJhshE1jkx",
      "include_colab_link": true
    },
    "kernelspec": {
      "name": "python3",
      "display_name": "Python 3"
    },
    "language_info": {
      "name": "python"
    }
  },
  "cells": [
    {
      "cell_type": "markdown",
      "metadata": {
        "id": "view-in-github",
        "colab_type": "text"
      },
      "source": [
        "<a href=\"https://colab.research.google.com/github/ansonkwokth/TableTennisPrediction/blob/main/inference.ipynb\" target=\"_parent\"><img src=\"https://colab.research.google.com/assets/colab-badge.svg\" alt=\"Open In Colab\"/></a>"
      ]
    },
    {
      "cell_type": "code",
      "execution_count": 1,
      "metadata": {
        "colab": {
          "base_uri": "https://localhost:8080/"
        },
        "id": "e-BRH4yO0LYy",
        "outputId": "d1e46475-1f45-4030-b642-13f1782b2b2c"
      },
      "outputs": [
        {
          "output_type": "stream",
          "name": "stdout",
          "text": [
            "Cloning into 'TableTennisPrediction'...\n",
            "remote: Enumerating objects: 163, done.\u001b[K\n",
            "remote: Counting objects: 100% (163/163), done.\u001b[K\n",
            "remote: Compressing objects: 100% (139/139), done.\u001b[K\n",
            "remote: Total 163 (delta 76), reused 42 (delta 17), pack-reused 0 (from 0)\u001b[K\n",
            "Receiving objects: 100% (163/163), 677.56 KiB | 5.33 MiB/s, done.\n",
            "Resolving deltas: 100% (76/76), done.\n",
            "/content/TableTennisPrediction\n"
          ]
        }
      ],
      "source": [
        "!git clone https://github.com/ansonkwokth/TableTennisPrediction.git\n",
        "%cd TableTennisPrediction"
      ]
    },
    {
      "cell_type": "code",
      "source": [
        "import pandas as pd\n",
        "from tabulate import tabulate\n",
        "from utils import data_loader as dl\n",
        "\n",
        "import numpy as np\n",
        "from model.Elo import Elo\n",
        "from model.ModifiedElo import ModifiedElo\n",
        "from model.ensemble import BaggingRatingSystem\n",
        "\n",
        "import matplotlib.pyplot as plt\n",
        "import seaborn as sns\n",
        "\n",
        "from tqdm import tqdm\n",
        "\n",
        "import copy\n",
        "\n",
        "import warnings\n",
        "warnings.filterwarnings('ignore')"
      ],
      "metadata": {
        "id": "7eUfcESp0gkR"
      },
      "execution_count": 2,
      "outputs": []
    },
    {
      "cell_type": "code",
      "source": [
        "# GAME = 'TTStar'\n",
        "# GAME = 'TTCup'\n",
        "# GAME = 'SetkaCup'\n",
        "GAME = 'SetkaCupWomen'\n",
        "# GAME = 'LigaPro'\n"
      ],
      "metadata": {
        "id": "9suPrUva0iVv"
      },
      "execution_count": 3,
      "outputs": []
    },
    {
      "cell_type": "code",
      "source": [
        "match GAME:\n",
        "    case 'TTStar':\n",
        "        years = [2020, 2021, 2022, 2023, 2024]\n",
        "    case 'TTCup':\n",
        "        years = [2020, 2021, 2022, 2023, 2024]\n",
        "    case 'SetkaCup':\n",
        "        years = [2020, 2021, 2022, 2023, 2024]\n",
        "    case 'SetkaCupWomen':\n",
        "        years = [2020, 2021, 2022, 2023, 2024]\n",
        "    case 'LigaPro':\n",
        "        years = [2022, 2023, 2024]\n",
        "    case _:\n",
        "        raise ValueError(\"Invalid game selected.\")\n",
        "\n",
        "\n",
        "text_data_game = dl.load_game_data(GAME, years, '../')\n",
        "text_data = {\n",
        "    year: text_data_game[year] for year in years\n",
        "}\n",
        "df = dl.create_game_dfs(GAME, years, text_data)"
      ],
      "metadata": {
        "colab": {
          "base_uri": "https://localhost:8080/"
        },
        "id": "8AQcfdRr0ms6",
        "outputId": "82175496-d07e-48ad-e29c-b18c22a078ce"
      },
      "execution_count": 4,
      "outputs": [
        {
          "output_type": "stream",
          "name": "stdout",
          "text": [
            "Loading ..//SetkaCupWomen2020.txt\n",
            "Loading ..//SetkaCupWomen2021.txt\n",
            "Loading ..//SetkaCupWomen2022.txt\n",
            "Loading ..//SetkaCupWomen2023.txt\n",
            "Loading ..//SetkaCupWomen2024.txt\n"
          ]
        }
      ]
    },
    {
      "cell_type": "code",
      "source": [
        "# Generate ID indices for each pair of rows in the DataFrame\n",
        "idx_lt = [i for i in range(len(df) // 2) for _ in range(2)]\n",
        "df['ID'] = idx_lt  # Assign to the 'ID' column\n",
        "\n",
        "# Reset the DataFrame index to ensure it's sequential\n",
        "df.reset_index(drop=True, inplace=True)\n",
        "\n",
        "# Get unique players and store them in player_lt\n",
        "player_lt = df['Player'].unique()\n",
        "\n"
      ],
      "metadata": {
        "id": "4_X2xgEY0nV5"
      },
      "execution_count": 5,
      "outputs": []
    },
    {
      "cell_type": "code",
      "source": [
        "def format_to_array(df: pd.DataFrame) -> np.ndarray:\n",
        "\n",
        "    # info_col = ['ID', 'Round', 'Datetime', 'Game', 'Date', 'Time']\n",
        "    info_col = ['Round', 'Datetime', 'Game', 'Date', 'Time']\n",
        "    col = [item for item in df.columns if item not in info_col]\n",
        "\n",
        "    df[[c for c in col if \"Set\" in c]] = df[[c for c in col if \"Set\" in c]].astype(float)\n",
        "    X = df[col].values.reshape(-1, 2, len(col))\n",
        "    return X"
      ],
      "metadata": {
        "id": "oG5xsRDN0oY1"
      },
      "execution_count": 6,
      "outputs": []
    },
    {
      "cell_type": "code",
      "source": [
        "X_all = format_to_array(df)"
      ],
      "metadata": {
        "id": "6jNSfuyH0prI"
      },
      "execution_count": 7,
      "outputs": []
    },
    {
      "cell_type": "code",
      "source": [
        "modelMElo = ModifiedElo()\n",
        "modelMElo.fit(X_all)\n"
      ],
      "metadata": {
        "colab": {
          "base_uri": "https://localhost:8080/"
        },
        "id": "5rcEKKAA0qck",
        "outputId": "0a4f55fa-f3f4-49aa-8f92-16e463dd8291"
      },
      "execution_count": 8,
      "outputs": [
        {
          "output_type": "stream",
          "name": "stderr",
          "text": [
            "Training model: 100%|██████████| 34579/34579 [00:04<00:00, 7609.82it/s]\n"
          ]
        }
      ]
    },
    {
      "cell_type": "markdown",
      "source": [
        "# Print"
      ],
      "metadata": {
        "id": "LELJk_1L-XEN"
      }
    },
    {
      "cell_type": "code",
      "source": [
        "def find_player(name):\n",
        "    p_lt = []\n",
        "    for k, v in modelMElo.params.items():\n",
        "        if name in k:\n",
        "            print(k)\n",
        "            p_lt.append(k)\n",
        "    return p_lt"
      ],
      "metadata": {
        "id": "hL7_Wq000x4e"
      },
      "execution_count": 9,
      "outputs": []
    },
    {
      "cell_type": "code",
      "source": [
        "def find_OU(player1, player2):\n",
        "    set1_dt = modelMElo.predict_set_config(player1, player2)[-1]\n",
        "    set2_dt = modelMElo.predict_set_config(player2, player1)[-1]\n",
        "\n",
        "    set_sum_dt = {}\n",
        "    for k1, v1 in set1_dt.items():\n",
        "        v2 = set2_dt[k1]\n",
        "        set_sum_dt[k1] = v1 + v2\n",
        "\n",
        "\n",
        "\n",
        "    p_O = 0\n",
        "    p_U = 0\n",
        "    for k, v in set_sum_dt.items():\n",
        "        if k > line:\n",
        "            p_O += v\n",
        "        else:\n",
        "            p_U += v\n",
        "    return p_O, p_U"
      ],
      "metadata": {
        "id": "vaDyXucH1LgB"
      },
      "execution_count": 10,
      "outputs": []
    },
    {
      "cell_type": "code",
      "source": [
        "df_lt = []"
      ],
      "metadata": {
        "id": "9Buhl0PD-WjC"
      },
      "execution_count": 19,
      "outputs": []
    },
    {
      "cell_type": "code",
      "source": [
        "p1_lt = find_player(\"Andr\")\n",
        "print(\"-\"*30)\n",
        "p2_lt = find_player(\"Yur\")"
      ],
      "metadata": {
        "colab": {
          "base_uri": "https://localhost:8080/"
        },
        "id": "fPbsucAV03ZP",
        "outputId": "ce3e6ba3-9cdd-43f9-a44d-862998c7eefa"
      },
      "execution_count": 123,
      "outputs": [
        {
          "output_type": "stream",
          "name": "stdout",
          "text": [
            "Andreeva L.\n",
            "Andryushchenko V.\n",
            "------------------------------\n",
            "Yureneva S.\n",
            "Yureneva O.\n"
          ]
        }
      ]
    },
    {
      "cell_type": "code",
      "source": [
        "player1 = p1_lt[1]\n",
        "player2 = p2_lt[0]\n",
        "player1, player2"
      ],
      "metadata": {
        "id": "JqEDG-uB3B-y",
        "outputId": "7990ca22-45ee-480f-e333-3a3043799267",
        "colab": {
          "base_uri": "https://localhost:8080/"
        }
      },
      "execution_count": 124,
      "outputs": [
        {
          "output_type": "execute_result",
          "data": {
            "text/plain": [
              "('Andryushchenko V.', 'Yureneva S.')"
            ]
          },
          "metadata": {},
          "execution_count": 124
        }
      ]
    },
    {
      "cell_type": "code",
      "source": [
        "\n",
        "date = \"Jan 27\"\n",
        "\n",
        "\n",
        "line = 17.5\n",
        "time = \"14:50\"\n",
        "\n",
        "\n",
        "found_p1, found_p2, p_game = modelMElo.predict_game(player1, player2)\n",
        "found_p1, found_p2, p_set = modelMElo.predict_set(player1, player2)\n",
        "p_O, p_U = find_OU(player1, player2)\n",
        "winner = player1 if p_game > 0.5 else player2\n",
        "p_set_win = p_set if winner == player1 else 1 - p_set\n",
        "p_game_win = p_game if winner == player1 else 1 - p_game\n",
        "p_OU = p_O if p_O > p_U else p_U\n",
        "OU = \"O\" if p_O > p_U else \"U\""
      ],
      "metadata": {
        "id": "AY8NqxQT0stX"
      },
      "execution_count": 126,
      "outputs": []
    },
    {
      "cell_type": "code",
      "source": [
        "if (found_p1 and found_p2):\n",
        "    df_row = pd.DataFrame({\n",
        "                         \"Time\": [time],\n",
        "                         \"Player1\": [player1], \"Player2\": [player2], \"Winner\": [winner],\n",
        "                         \"Set\": [f\"{p_set_win*100:.1f}%\"], \"Game\": [f\"{p_game_win*100:.1f}%\"],\n",
        "                         \"O/U\": [f\"{OU} {line}: {p_OU*100:.1f}%\"]})\n",
        "\n",
        "    print(tabulate(df_row, headers = 'keys', tablefmt = 'psql', showindex=False))\n"
      ],
      "metadata": {
        "colab": {
          "base_uri": "https://localhost:8080/"
        },
        "id": "epjETA3T1PGH",
        "outputId": "313e1b6e-6fea-4d17-9a3e-926579baecc4"
      },
      "execution_count": 127,
      "outputs": [
        {
          "output_type": "stream",
          "name": "stdout",
          "text": [
            "+--------+-------------------+-------------+-------------------+-------+--------+---------------+\n",
            "| Time   | Player1           | Player2     | Winner            | Set   | Game   | O/U           |\n",
            "|--------+-------------------+-------------+-------------------+-------+--------+---------------|\n",
            "| 14:50  | Andryushchenko V. | Yureneva S. | Andryushchenko V. | 70.5% | 84.4%  | O 17.5: 61.8% |\n",
            "+--------+-------------------+-------------+-------------------+-------+--------+---------------+\n"
          ]
        }
      ]
    },
    {
      "cell_type": "code",
      "source": [
        "p_U, p_O"
      ],
      "metadata": {
        "id": "3gtvuj_o0lHc",
        "outputId": "6fc29230-255c-4523-b466-45499bbd4932",
        "colab": {
          "base_uri": "https://localhost:8080/"
        }
      },
      "execution_count": 128,
      "outputs": [
        {
          "output_type": "execute_result",
          "data": {
            "text/plain": [
              "(0.381832399282307, 0.6181676007176926)"
            ]
          },
          "metadata": {},
          "execution_count": 128
        }
      ]
    },
    {
      "cell_type": "code",
      "source": [
        "df_lt.append(df_row)"
      ],
      "metadata": {
        "id": "Q93nsOwk5cRc"
      },
      "execution_count": 129,
      "outputs": []
    },
    {
      "cell_type": "code",
      "source": [
        "df_print = pd.concat(df_lt)\n",
        "df_print.index = range(len(df_lt))\n",
        "print(tabulate(df_print, headers = 'keys', tablefmt = 'psql', showindex=False))\n",
        "# print(tabulate(df_print, headers = 'keys', tablefmt = 'psql'))"
      ],
      "metadata": {
        "colab": {
          "base_uri": "https://localhost:8080/"
        },
        "id": "Ue_9uArY874S",
        "outputId": "16501bcc-c89c-4354-c223-1bb3c726f153"
      },
      "execution_count": 130,
      "outputs": [
        {
          "output_type": "stream",
          "name": "stdout",
          "text": [
            "+--------+-------------------+-------------------+-------------------+-------+--------+---------------+\n",
            "| Time   | Player1           | Player2           | Winner            | Set   | Game   | O/U           |\n",
            "|--------+-------------------+-------------------+-------------------+-------+--------+---------------|\n",
            "| 07:50  | Kurtenko V.       | Mykhailyk Y.      | Kurtenko V.       | 70.1% | 83.8%  | U 18.5: 52.6% |\n",
            "| 08:20  | Yureneva O.       | Yureneva S.       | Yureneva S.       | 63.4% | 74.0%  | U 18.5: 50.0% |\n",
            "| 08:50  | Aseeva I.         | Andryushchenko V. | Andryushchenko V. | 57.7% | 64.2%  | O 18.5: 51.3% |\n",
            "| 09:20  | Kurtenko V.       | Yureneva S.       | Kurtenko V.       | 71.3% | 85.4%  | U 18.5: 53.2% |\n",
            "| 09:50  | Andryushchenko V. | Mykhailyk Y.      | Andryushchenko V. | 69.4% | 82.9%  | U 18.5: 52.3% |\n",
            "| 10:20  | Yureneva O.       | Aseeva I.         | Aseeva I.         | 69.4% | 82.9%  | U 18.5: 52.3% |\n",
            "| 10:50  | Kurtenko V.       | Andryushchenko V. | Kurtenko V.       | 50.8% | 51.4%  | O 18.5: 51.9% |\n",
            "| 11:20  | Aseeva I.         | Yureneva S.       | Aseeva I.         | 60.8% | 69.6%  | O 18.5: 50.7% |\n",
            "| 11:50  | Yureneva O.       | Mykhailyk Y.      | Mykhailyk Y.      | 59.5% | 67.3%  | O 18.5: 51.0% |\n",
            "| 12:20  | Kurtenko V.       | Aseeva I.         | Kurtenko V.       | 58.4% | 65.4%  | O 18.5: 51.2% |\n",
            "| 12:50  | Yureneva O.       | Andryushchenko V. | Andryushchenko V. | 77.2% | 91.9%  | U 18.5: 56.7% |\n",
            "| 13:20  | Yureneva S.       | Mykhailyk Y.      | Yureneva S.       | 52.3% | 54.3%  | O 18.5: 51.9% |\n",
            "| 13:50  | Kurtenko V.       | Yureneva O.       | Kurtenko V.       | 77.8% | 92.4%  | U 18.5: 57.2% |\n",
            "| 14:20  | Aseeva I.         | Mykhailyk Y.      | Aseeva I.         | 61.1% | 70.2%  | O 18.5: 50.6% |\n",
            "| 14:50  | Andryushchenko V. | Yureneva S.       | Andryushchenko V. | 70.5% | 84.4%  | O 17.5: 61.8% |\n",
            "+--------+-------------------+-------------------+-------------------+-------+--------+---------------+\n"
          ]
        }
      ]
    },
    {
      "cell_type": "code",
      "source": [],
      "metadata": {
        "id": "M-4Gok8q7-zM"
      },
      "execution_count": 122,
      "outputs": []
    },
    {
      "cell_type": "code",
      "source": [],
      "metadata": {
        "id": "ZlYLzVvw9r9V"
      },
      "execution_count": 100,
      "outputs": []
    },
    {
      "cell_type": "code",
      "source": [],
      "metadata": {
        "id": "nNjW6ijc9r7E"
      },
      "execution_count": 18,
      "outputs": []
    },
    {
      "cell_type": "code",
      "source": [],
      "metadata": {
        "id": "ltZOcZHa9r2C"
      },
      "execution_count": 18,
      "outputs": []
    },
    {
      "cell_type": "code",
      "source": [],
      "metadata": {
        "id": "BZ6ZL71w9rxk"
      },
      "execution_count": null,
      "outputs": []
    }
  ]
}