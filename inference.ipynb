{
  "nbformat": 4,
  "nbformat_minor": 0,
  "metadata": {
    "colab": {
      "provenance": [],
      "authorship_tag": "ABX9TyP3eph7Y5CVGDlVARcWDvkG",
      "include_colab_link": true
    },
    "kernelspec": {
      "name": "python3",
      "display_name": "Python 3"
    },
    "language_info": {
      "name": "python"
    }
  },
  "cells": [
    {
      "cell_type": "markdown",
      "metadata": {
        "id": "view-in-github",
        "colab_type": "text"
      },
      "source": [
        "<a href=\"https://colab.research.google.com/github/ansonkwokth/TableTennisPrediction/blob/main/inference.ipynb\" target=\"_parent\"><img src=\"https://colab.research.google.com/assets/colab-badge.svg\" alt=\"Open In Colab\"/></a>"
      ]
    },
    {
      "cell_type": "code",
      "execution_count": 3,
      "metadata": {
        "colab": {
          "base_uri": "https://localhost:8080/"
        },
        "id": "e-BRH4yO0LYy",
        "outputId": "262f5ab2-e413-41ad-938b-540ef4a63833"
      },
      "outputs": [
        {
          "output_type": "stream",
          "name": "stdout",
          "text": [
            "fatal: destination path 'TableTennisPrediction' already exists and is not an empty directory.\n",
            "/content/TableTennisPrediction\n"
          ]
        }
      ],
      "source": [
        "!git clone https://github.com/ansonkwokth/TableTennisPrediction.git\n",
        "%cd TableTennisPrediction"
      ]
    },
    {
      "cell_type": "code",
      "source": [
        "import pandas as pd\n",
        "from tabulate import tabulate\n",
        "from utils import data_loader as dl\n",
        "\n",
        "import numpy as np\n",
        "from model.Elo import Elo\n",
        "from model.ModifiedElo import ModifiedElo\n",
        "from model.ensemble import BaggingRatingSystem\n",
        "\n",
        "import matplotlib.pyplot as plt\n",
        "import seaborn as sns\n",
        "\n",
        "from tqdm import tqdm\n",
        "\n",
        "import copy\n",
        "\n",
        "import warnings\n",
        "warnings.filterwarnings('ignore')"
      ],
      "metadata": {
        "id": "7eUfcESp0gkR"
      },
      "execution_count": 179,
      "outputs": []
    },
    {
      "cell_type": "code",
      "source": [
        "GAME = 'TTStar'\n",
        "# GAME = 'TTCup'\n",
        "# GAME = 'SetkaCup'\n",
        "# GAME = 'SetkaCupWomen'\n",
        "# GAME = 'LigaPro'\n"
      ],
      "metadata": {
        "id": "9suPrUva0iVv"
      },
      "execution_count": 180,
      "outputs": []
    },
    {
      "cell_type": "code",
      "source": [
        "match GAME:\n",
        "    case 'TTStar':\n",
        "        years = [2020, 2021, 2022, 2023, 2024]\n",
        "    case 'TTCup':\n",
        "        years = [2020, 2021, 2022, 2023, 2024]\n",
        "    case 'SetkaCup':\n",
        "        years = [2020, 2021, 2022, 2023, 2024]\n",
        "    case 'SetkaCupWomen':\n",
        "        years = [2020, 2021, 2022, 2023, 2024]\n",
        "    case 'LigaPro':\n",
        "        years = [2022, 2023, 2024]\n",
        "    case _:\n",
        "        raise ValueError(\"Invalid game selected.\")\n",
        "\n",
        "\n",
        "text_data_game = dl.load_game_data(GAME, years, '../')\n",
        "text_data = {\n",
        "    year: text_data_game[year] for year in years\n",
        "}\n",
        "df = dl.create_game_dfs(GAME, years, text_data)"
      ],
      "metadata": {
        "colab": {
          "base_uri": "https://localhost:8080/"
        },
        "id": "8AQcfdRr0ms6",
        "outputId": "c59b0bc1-cee5-48a9-d43e-877d27557cfe"
      },
      "execution_count": 181,
      "outputs": [
        {
          "output_type": "stream",
          "name": "stdout",
          "text": [
            "Loading ..//TTStar2020.txt\n",
            "Loading ..//TTStar2021.txt\n",
            "Loading ..//TTStar2022.txt\n",
            "Loading ..//TTStar2023.txt\n",
            "Loading ..//TTStar2024.txt\n"
          ]
        }
      ]
    },
    {
      "cell_type": "code",
      "source": [
        "# Generate ID indices for each pair of rows in the DataFrame\n",
        "idx_lt = [i for i in range(len(df) // 2) for _ in range(2)]\n",
        "df['ID'] = idx_lt  # Assign to the 'ID' column\n",
        "\n",
        "# Reset the DataFrame index to ensure it's sequential\n",
        "df.reset_index(drop=True, inplace=True)\n",
        "\n",
        "# Get unique players and store them in player_lt\n",
        "player_lt = df['Player'].unique()\n",
        "\n"
      ],
      "metadata": {
        "id": "4_X2xgEY0nV5"
      },
      "execution_count": 182,
      "outputs": []
    },
    {
      "cell_type": "code",
      "source": [
        "def format_to_array(df: pd.DataFrame) -> np.ndarray:\n",
        "\n",
        "    # info_col = ['ID', 'Round', 'Datetime', 'Game', 'Date', 'Time']\n",
        "    info_col = ['Round', 'Datetime', 'Game', 'Date', 'Time']\n",
        "    col = [item for item in df.columns if item not in info_col]\n",
        "\n",
        "    df[[c for c in col if \"Set\" in c]] = df[[c for c in col if \"Set\" in c]].astype(float)\n",
        "    X = df[col].values.reshape(-1, 2, len(col))\n",
        "    return X"
      ],
      "metadata": {
        "id": "oG5xsRDN0oY1"
      },
      "execution_count": 183,
      "outputs": []
    },
    {
      "cell_type": "code",
      "source": [
        "X_all = format_to_array(df)"
      ],
      "metadata": {
        "id": "6jNSfuyH0prI"
      },
      "execution_count": 184,
      "outputs": []
    },
    {
      "cell_type": "code",
      "source": [
        "modelMElo = ModifiedElo()\n",
        "modelMElo.fit(X_all)\n"
      ],
      "metadata": {
        "colab": {
          "base_uri": "https://localhost:8080/"
        },
        "id": "5rcEKKAA0qck",
        "outputId": "b0b477f0-803d-4fce-c54a-8581387b525e"
      },
      "execution_count": 185,
      "outputs": [
        {
          "output_type": "stream",
          "name": "stderr",
          "text": [
            "Training model: 100%|██████████| 17257/17257 [00:00<00:00, 18400.71it/s]\n"
          ]
        }
      ]
    },
    {
      "cell_type": "markdown",
      "source": [
        "# Print"
      ],
      "metadata": {
        "id": "LELJk_1L-XEN"
      }
    },
    {
      "cell_type": "code",
      "source": [
        "def find_player(name):\n",
        "    p_lt = []\n",
        "    for k, v in modelMElo.params.items():\n",
        "        if name in k:\n",
        "            print(k)\n",
        "            p_lt.append(k)\n",
        "    return p_lt"
      ],
      "metadata": {
        "id": "hL7_Wq000x4e"
      },
      "execution_count": 186,
      "outputs": []
    },
    {
      "cell_type": "code",
      "source": [
        "def find_OU(player1, player2):\n",
        "    set1_dt = modelMElo.predict_set_config(player1, player2)[-1]\n",
        "    set2_dt = modelMElo.predict_set_config(player2, player1)[-1]\n",
        "\n",
        "    set_sum_dt = {}\n",
        "    for k1, v1 in set1_dt.items():\n",
        "        v2 = set2_dt[k1]\n",
        "        set_sum_dt[k1] = v1 + v2\n",
        "\n",
        "\n",
        "\n",
        "    p_O = 0\n",
        "    p_U = 0\n",
        "    for k, v in set_sum_dt.items():\n",
        "        if k > line:\n",
        "            p_O += v\n",
        "        else:\n",
        "            p_U += v\n",
        "    return p_O, p_U"
      ],
      "metadata": {
        "id": "vaDyXucH1LgB"
      },
      "execution_count": 187,
      "outputs": []
    },
    {
      "cell_type": "code",
      "source": [
        "df_lt = []"
      ],
      "metadata": {
        "id": "9Buhl0PD-WjC"
      },
      "execution_count": 188,
      "outputs": []
    },
    {
      "cell_type": "code",
      "source": [
        "p1_lt = find_player(\"Gio\")\n",
        "print(\"-\"*30)\n",
        "p2_lt = find_player(\"Dev\")"
      ],
      "metadata": {
        "colab": {
          "base_uri": "https://localhost:8080/"
        },
        "id": "fPbsucAV03ZP",
        "outputId": "31990f76-9bcf-4565-a9bb-a23a3ba6138a"
      },
      "execution_count": 243,
      "outputs": [
        {
          "output_type": "stream",
          "name": "stdout",
          "text": [
            "Giovannetti T.\n",
            "------------------------------\n",
            "Devos L.\n"
          ]
        }
      ]
    },
    {
      "cell_type": "code",
      "source": [
        "player1 = p1_lt[0]\n",
        "player2 = p2_lt[0]\n",
        "player1, player2"
      ],
      "metadata": {
        "id": "JqEDG-uB3B-y",
        "outputId": "a519dc2f-75b6-414c-f47c-075e1eae04c3",
        "colab": {
          "base_uri": "https://localhost:8080/"
        }
      },
      "execution_count": 244,
      "outputs": [
        {
          "output_type": "execute_result",
          "data": {
            "text/plain": [
              "('Giovannetti T.', 'Devos L.')"
            ]
          },
          "metadata": {},
          "execution_count": 244
        }
      ]
    },
    {
      "cell_type": "code",
      "source": [
        "time = \"16:30\"\n",
        "\n",
        "date = \"Feb 5\"\n",
        "\n",
        "\n",
        "line = 18.5\n",
        "\n",
        "\n",
        "found_p1, found_p2, p_game = modelMElo.predict_game(player1, player2)\n",
        "found_p1, found_p2, p_set = modelMElo.predict_set(player1, player2)\n",
        "p_O, p_U = find_OU(player1, player2)\n",
        "winner = player1 if p_game > 0.5 else player2\n",
        "p_set_win = p_set if winner == player1 else 1 - p_set\n",
        "p_game_win = p_game if winner == player1 else 1 - p_game\n",
        "p_OU = p_O if p_O > p_U else p_U\n",
        "OU = \"O\" if p_O > p_U else \"U\""
      ],
      "metadata": {
        "id": "AY8NqxQT0stX"
      },
      "execution_count": 245,
      "outputs": []
    },
    {
      "cell_type": "code",
      "source": [
        "if (found_p1 and found_p2):\n",
        "    df_row = pd.DataFrame({\n",
        "                         \"Time\": [time],\n",
        "                         \"Player1\": [player1], \"Player2\": [player2], \"Winner\": [winner],\n",
        "                         \"Set\": [f\"{p_set_win*100:.1f}%\"], \"Game\": [f\"{p_game_win*100:.1f}%\"]})\n",
        "                        #  \"O/U\": [f\"{OU} {line}: {p_OU*100:.1f}%\"]})\n",
        "\n",
        "    print(tabulate(df_row, headers = 'keys', tablefmt = 'psql', showindex=False))\n"
      ],
      "metadata": {
        "colab": {
          "base_uri": "https://localhost:8080/"
        },
        "id": "epjETA3T1PGH",
        "outputId": "c2dba39a-989e-4a77-cee0-285e87b2dd0b"
      },
      "execution_count": 246,
      "outputs": [
        {
          "output_type": "stream",
          "name": "stdout",
          "text": [
            "+--------+----------------+-----------+----------+-------+--------+\n",
            "| Time   | Player1        | Player2   | Winner   | Set   | Game   |\n",
            "|--------+----------------+-----------+----------+-------+--------|\n",
            "| 16:30  | Giovannetti T. | Devos L.  | Devos L. | 75.7% | 90.3%  |\n",
            "+--------+----------------+-----------+----------+-------+--------+\n"
          ]
        }
      ]
    },
    {
      "cell_type": "code",
      "source": [
        "p_U, p_O"
      ],
      "metadata": {
        "id": "3gtvuj_o0lHc",
        "outputId": "27c717e7-c884-4bac-ab56-14bd99210615",
        "colab": {
          "base_uri": "https://localhost:8080/"
        }
      },
      "execution_count": 247,
      "outputs": [
        {
          "output_type": "execute_result",
          "data": {
            "text/plain": [
              "(0.5567188091250238, 0.4432811908749762)"
            ]
          },
          "metadata": {},
          "execution_count": 247
        }
      ]
    },
    {
      "cell_type": "code",
      "source": [
        "df_lt.append(df_row)"
      ],
      "metadata": {
        "id": "Q93nsOwk5cRc"
      },
      "execution_count": 248,
      "outputs": []
    },
    {
      "cell_type": "code",
      "source": [
        "df_print = pd.concat(df_lt)\n",
        "df_print.index = range(len(df_lt))\n",
        "print(tabulate(df_print, headers = 'keys', tablefmt = 'psql', showindex=False))\n",
        "# print(tabulate(df_print, headers = 'keys', tablefmt = 'psql'))"
      ],
      "metadata": {
        "colab": {
          "base_uri": "https://localhost:8080/"
        },
        "id": "Ue_9uArY874S",
        "outputId": "22f4c7d1-f2df-46ea-d1ab-761304915090"
      },
      "execution_count": 249,
      "outputs": [
        {
          "output_type": "stream",
          "name": "stdout",
          "text": [
            "+--------+----------------+----------------+----------------+-------+--------+\n",
            "| Time   | Player1        | Player2        | Winner         | Set   | Game   |\n",
            "|--------+----------------+----------------+----------------+-------+--------|\n",
            "| 09:00  | Gainza A.      | Nunez Tapia M. | Nunez Tapia M. | 72.0% | 86.2%  |\n",
            "| 10:00  | Muhlbach C.    | Bhanja R.      | Bhanja R.      | 51.9% | 53.5%  |\n",
            "| 11:30  | Muhlbach C.    | Devos L.       | Devos L.       | 63.3% | 73.8%  |\n",
            "| 12:00  | Giovannetti T. | Nunez Tapia M. | Nunez Tapia M. | 56.2% | 61.4%  |\n",
            "| 13:00  | Giovannetti T. | Muhlbach C.    | Muhlbach C.    | 63.8% | 74.6%  |\n",
            "| 14:30  | Giovannetti T. | Bhanja R.      | Bhanja R.      | 65.8% | 77.7%  |\n",
            "| 16:00  | Bhanja R.      | Nunez Tapia M. | Bhanja R.      | 59.9% | 68.1%  |\n",
            "| 16:30  | Giovannetti T. | Devos L.       | Devos L.       | 75.7% | 90.3%  |\n",
            "+--------+----------------+----------------+----------------+-------+--------+\n"
          ]
        }
      ]
    },
    {
      "cell_type": "code",
      "source": [],
      "metadata": {
        "id": "ltZOcZHa9r2C"
      },
      "execution_count": 249,
      "outputs": []
    },
    {
      "cell_type": "code",
      "source": [],
      "metadata": {
        "id": "BZ6ZL71w9rxk"
      },
      "execution_count": 249,
      "outputs": []
    },
    {
      "cell_type": "code",
      "source": [],
      "metadata": {
        "id": "O5CyTK3wu8nB"
      },
      "execution_count": 249,
      "outputs": []
    },
    {
      "cell_type": "code",
      "source": [],
      "metadata": {
        "id": "e9eugIEju8km"
      },
      "execution_count": 249,
      "outputs": []
    },
    {
      "cell_type": "code",
      "source": [],
      "metadata": {
        "id": "Oib5qDHPu8gR"
      },
      "execution_count": 249,
      "outputs": []
    },
    {
      "cell_type": "code",
      "source": [],
      "metadata": {
        "id": "pPl5WsiAa864"
      },
      "execution_count": null,
      "outputs": []
    },
    {
      "cell_type": "code",
      "source": [],
      "metadata": {
        "id": "lksftjHPb22k"
      },
      "execution_count": null,
      "outputs": []
    },
    {
      "cell_type": "code",
      "source": [],
      "metadata": {
        "id": "3s1Ra7NKb2tg"
      },
      "execution_count": null,
      "outputs": []
    },
    {
      "cell_type": "code",
      "source": [],
      "metadata": {
        "id": "QnT5Surpa83S"
      },
      "execution_count": null,
      "outputs": []
    },
    {
      "cell_type": "code",
      "source": [],
      "metadata": {
        "id": "Ks-uhmUsa81o"
      },
      "execution_count": null,
      "outputs": []
    }
  ]
}