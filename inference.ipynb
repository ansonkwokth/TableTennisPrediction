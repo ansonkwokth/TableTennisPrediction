{
  "nbformat": 4,
  "nbformat_minor": 0,
  "metadata": {
    "colab": {
      "provenance": [],
      "authorship_tag": "ABX9TyN/G8+EuzmhrTPFWahxmDBB",
      "include_colab_link": true
    },
    "kernelspec": {
      "name": "python3",
      "display_name": "Python 3"
    },
    "language_info": {
      "name": "python"
    }
  },
  "cells": [
    {
      "cell_type": "markdown",
      "metadata": {
        "id": "view-in-github",
        "colab_type": "text"
      },
      "source": [
        "<a href=\"https://colab.research.google.com/github/ansonkwokth/TableTennisPrediction/blob/dev/inference.ipynb\" target=\"_parent\"><img src=\"https://colab.research.google.com/assets/colab-badge.svg\" alt=\"Open In Colab\"/></a>"
      ]
    },
    {
      "cell_type": "code",
      "execution_count": 1,
      "metadata": {
        "colab": {
          "base_uri": "https://localhost:8080/"
        },
        "id": "e-BRH4yO0LYy",
        "outputId": "3ffcaac5-b2cd-4ae5-ea33-9d07437075ae"
      },
      "outputs": [
        {
          "output_type": "stream",
          "name": "stdout",
          "text": [
            "Cloning into 'TableTennisPrediction'...\n",
            "remote: Enumerating objects: 289, done.\u001b[K\n",
            "remote: Counting objects: 100% (128/128), done.\u001b[K\n",
            "remote: Compressing objects: 100% (113/113), done.\u001b[K\n",
            "remote: Total 289 (delta 78), reused 15 (delta 15), pack-reused 161 (from 1)\u001b[K\n",
            "Receiving objects: 100% (289/289), 3.93 MiB | 9.19 MiB/s, done.\n",
            "Resolving deltas: 100% (146/146), done.\n",
            "/content/TableTennisPrediction\n"
          ]
        }
      ],
      "source": [
        "!git clone https://github.com/ansonkwokth/TableTennisPrediction.git\n",
        "%cd TableTennisPrediction"
      ]
    },
    {
      "cell_type": "code",
      "source": [
        "\n",
        "import pandas as pd\n",
        "from tabulate import tabulate\n",
        "from utils import data_loader as dl\n",
        "\n",
        "import numpy as np\n",
        "from model.Elo import Elo\n",
        "from model.ModifiedElo import ModifiedElo\n",
        "from model.ensemble import BaggingRatingSystem\n",
        "\n",
        "import matplotlib.pyplot as plt\n",
        "import seaborn as sns\n",
        "\n",
        "from tqdm import tqdm\n",
        "\n",
        "import copy\n",
        "\n",
        "import warnings\n",
        "warnings.filterwarnings('ignore')"
      ],
      "metadata": {
        "id": "7eUfcESp0gkR"
      },
      "execution_count": 2,
      "outputs": []
    },
    {
      "cell_type": "code",
      "source": [
        "GAME = 'TTStar'\n",
        "# GAME = 'TTCup'\n",
        "# GAME = 'SetkaCup'\n",
        "# GAME = 'SetkaCupWomen'\n",
        "# GAME = 'LigaPro'\n"
      ],
      "metadata": {
        "id": "9suPrUva0iVv"
      },
      "execution_count": 20,
      "outputs": []
    },
    {
      "cell_type": "code",
      "source": [
        "match GAME:\n",
        "    case 'TTStar':\n",
        "        years = [2020, 2021, 2022, 2023, 2024]\n",
        "    case 'TTCup':\n",
        "        years = [2020, 2021, 2022, 2023, 2024]\n",
        "    case 'SetkaCup':\n",
        "        years = [2020, 2021, 2022, 2023, 2024]\n",
        "    case 'SetkaCupWomen':\n",
        "        years = [2020, 2021, 2022, 2023, 2024]\n",
        "    case 'LigaPro':\n",
        "        years = [2022, 2023, 2024]\n",
        "    case _:\n",
        "        raise ValueError(\"Invalid game selected.\")\n",
        "\n",
        "\n",
        "text_data_game = dl.load_game_data(GAME, years, '../')\n",
        "text_data = {\n",
        "    year: text_data_game[year] for year in years\n",
        "}\n",
        "df = dl.create_game_dfs(GAME, years, text_data)"
      ],
      "metadata": {
        "colab": {
          "base_uri": "https://localhost:8080/"
        },
        "id": "8AQcfdRr0ms6",
        "outputId": "0157607a-3ac4-4c0c-a12e-0979fa3189cd"
      },
      "execution_count": 21,
      "outputs": [
        {
          "output_type": "stream",
          "name": "stdout",
          "text": [
            "Loading ..//TTStar2020.txt\n",
            "Loading ..//TTStar2021.txt\n",
            "Loading ..//TTStar2022.txt\n",
            "Loading ..//TTStar2023.txt\n",
            "Loading ..//TTStar2024.txt\n"
          ]
        }
      ]
    },
    {
      "cell_type": "code",
      "source": [
        "# Generate ID indices for each pair of rows in the DataFrame\n",
        "idx_lt = [i for i in range(len(df) // 2) for _ in range(2)]\n",
        "df['ID'] = idx_lt  # Assign to the 'ID' column\n",
        "\n",
        "# Reset the DataFrame index to ensure it's sequential\n",
        "df.reset_index(drop=True, inplace=True)\n",
        "\n",
        "# Get unique players and store them in player_lt\n",
        "player_lt = df['Player'].unique()\n",
        "\n"
      ],
      "metadata": {
        "id": "4_X2xgEY0nV5"
      },
      "execution_count": 22,
      "outputs": []
    },
    {
      "cell_type": "code",
      "source": [
        "def format_to_array(df: pd.DataFrame) -> np.ndarray:\n",
        "\n",
        "    # info_col = ['ID', 'Round', 'Datetime', 'Game', 'Date', 'Time']\n",
        "    info_col = ['Round', 'Datetime', 'Game', 'Date', 'Time']\n",
        "    col = [item for item in df.columns if item not in info_col]\n",
        "\n",
        "    df[[c for c in col if \"Set\" in c]] = df[[c for c in col if \"Set\" in c]].astype(float)\n",
        "    X = df[col].values.reshape(-1, 2, len(col))\n",
        "    return X"
      ],
      "metadata": {
        "id": "oG5xsRDN0oY1"
      },
      "execution_count": 23,
      "outputs": []
    },
    {
      "cell_type": "code",
      "source": [
        "X_all = format_to_array(df)"
      ],
      "metadata": {
        "id": "6jNSfuyH0prI"
      },
      "execution_count": 24,
      "outputs": []
    },
    {
      "cell_type": "code",
      "source": [
        "modelMElo = ModifiedElo()\n",
        "for _ in range(5):\n",
        "    modelMElo.fit(X_all)\n"
      ],
      "metadata": {
        "colab": {
          "base_uri": "https://localhost:8080/"
        },
        "id": "5rcEKKAA0qck",
        "outputId": "a578f1e8-16d7-4e9c-a257-a08ede596a75"
      },
      "execution_count": 25,
      "outputs": [
        {
          "output_type": "stream",
          "name": "stderr",
          "text": [
            "Training model: 100%|██████████| 17257/17257 [00:00<00:00, 20338.87it/s]\n",
            "Training model: 100%|██████████| 17257/17257 [00:00<00:00, 19493.62it/s]\n",
            "Training model: 100%|██████████| 17257/17257 [00:00<00:00, 17925.64it/s]\n",
            "Training model: 100%|██████████| 17257/17257 [00:00<00:00, 20230.83it/s]\n",
            "Training model: 100%|██████████| 17257/17257 [00:00<00:00, 19960.16it/s]\n"
          ]
        }
      ]
    },
    {
      "cell_type": "markdown",
      "source": [
        "# Print"
      ],
      "metadata": {
        "id": "LELJk_1L-XEN"
      }
    },
    {
      "cell_type": "code",
      "source": [
        "def find_player(name):\n",
        "    p_lt = []\n",
        "    for k, v in modelMElo.params.items():\n",
        "        if name in k:\n",
        "            print(k)\n",
        "            p_lt.append(k)\n",
        "    return p_lt"
      ],
      "metadata": {
        "id": "hL7_Wq000x4e"
      },
      "execution_count": 26,
      "outputs": []
    },
    {
      "cell_type": "code",
      "source": [
        "def find_OU(player1, player2):\n",
        "    set1_dt = modelMElo.predict_set_config(player1, player2)[-1]\n",
        "    set2_dt = modelMElo.predict_set_config(player2, player1)[-1]\n",
        "\n",
        "    set_sum_dt = {}\n",
        "    for k1, v1 in set1_dt.items():\n",
        "        v2 = set2_dt[k1]\n",
        "        set_sum_dt[k1] = v1 + v2\n",
        "\n",
        "\n",
        "\n",
        "    p_O = 0\n",
        "    p_U = 0\n",
        "    for k, v in set_sum_dt.items():\n",
        "        if k > line:\n",
        "            p_O += v\n",
        "        else:\n",
        "            p_U += v\n",
        "    return p_O, p_U"
      ],
      "metadata": {
        "id": "vaDyXucH1LgB"
      },
      "execution_count": 27,
      "outputs": []
    },
    {
      "cell_type": "code",
      "source": [
        "df_lt = []"
      ],
      "metadata": {
        "id": "9Buhl0PD-WjC"
      },
      "execution_count": 28,
      "outputs": []
    },
    {
      "cell_type": "code",
      "source": [
        "p1_lt = find_player(\"Kei\")\n",
        "print(\"-\"*30)\n",
        "p2_lt = find_player(\"Lin\")\n"
      ],
      "metadata": {
        "colab": {
          "base_uri": "https://localhost:8080/"
        },
        "id": "fPbsucAV03ZP",
        "outputId": "d7722b74-2f74-4f28-ed6f-e92a82bf0c66"
      },
      "execution_count": 197,
      "outputs": [
        {
          "output_type": "stream",
          "name": "stdout",
          "text": [
            "Keinath T.\n",
            "------------------------------\n",
            "Lindsoe D.\n"
          ]
        }
      ]
    },
    {
      "cell_type": "code",
      "source": [
        "player1 = p1_lt[0]\n",
        "player2 = p2_lt[0]\n",
        "player1, player2"
      ],
      "metadata": {
        "id": "JqEDG-uB3B-y",
        "outputId": "b50b07a0-3165-46a8-ca4a-195d7884d620",
        "colab": {
          "base_uri": "https://localhost:8080/"
        }
      },
      "execution_count": 198,
      "outputs": [
        {
          "output_type": "execute_result",
          "data": {
            "text/plain": [
              "('Keinath T.', 'Lindsoe D.')"
            ]
          },
          "metadata": {},
          "execution_count": 198
        }
      ]
    },
    {
      "cell_type": "code",
      "source": [
        "odd1 = 1.1\n",
        "odd2 = 6.5"
      ],
      "metadata": {
        "id": "8PNeKKlxm_IL"
      },
      "execution_count": 199,
      "outputs": []
    },
    {
      "cell_type": "code",
      "source": [
        "time = \"22:30\"\n",
        "\n",
        "date = \"Feb 8\"\n",
        "\n",
        "\n",
        "line = 18.5\n",
        "\n",
        "\n",
        "found_p1, found_p2, p_game = modelMElo.predict_game(player1, player2)\n",
        "found_p1, found_p2, p_set = modelMElo.predict_set(player1, player2)\n",
        "p_O, p_U = find_OU(player1, player2)\n",
        "winner = player1 if p_game > 0.5 else player2\n",
        "p_set_win = p_set if winner == player1 else 1 - p_set\n",
        "p_game_win = p_game if winner == player1 else 1 - p_game\n",
        "p_OU = p_O if p_O > p_U else p_U\n",
        "OU = \"O\" if p_O > p_U else \"U\"\n",
        "\n",
        "winnerOdd = odd1 if winner == player1 else odd2\n",
        "loserOdd = odd2 if winner == player1 else odd1"
      ],
      "metadata": {
        "id": "AY8NqxQT0stX"
      },
      "execution_count": 200,
      "outputs": []
    },
    {
      "cell_type": "code",
      "source": [
        "if (found_p1 and found_p2):\n",
        "    df_row = pd.DataFrame({\n",
        "                         \"Time\": [time],\n",
        "                         \"Player1\": [player1], \"Player2\": [player2], \"Winner\": [winner],\n",
        "                         \"Set\": [f\"{p_set_win*100:.1f}%\"], \"Game\": [f\"{p_game_win*100:.1f}%\"],\n",
        "                         \"pGame\": [p_game_win],\n",
        "                         \"WinnerOdd\": [winnerOdd], \"LoserOdd\": [loserOdd]\n",
        "                         })\n",
        "                        #  \"O/U\": [f\"{OU} {line}: {p_OU*100:.1f}%\"]})\n",
        "\n",
        "    print(tabulate(df_row, headers = 'keys', tablefmt = 'psql', showindex=False))\n"
      ],
      "metadata": {
        "colab": {
          "base_uri": "https://localhost:8080/"
        },
        "id": "epjETA3T1PGH",
        "outputId": "329bd47e-1f40-4d4a-c43e-23e434af97f7"
      },
      "execution_count": 201,
      "outputs": [
        {
          "output_type": "stream",
          "name": "stdout",
          "text": [
            "+--------+------------+------------+------------+-------+--------+----------+-------------+------------+\n",
            "| Time   | Player1    | Player2    | Winner     | Set   | Game   |    pGame |   WinnerOdd |   LoserOdd |\n",
            "|--------+------------+------------+------------+-------+--------+----------+-------------+------------|\n",
            "| 22:30  | Keinath T. | Lindsoe D. | Keinath T. | 89.7% | 99.1%  | 0.990577 |         1.1 |        6.5 |\n",
            "+--------+------------+------------+------------+-------+--------+----------+-------------+------------+\n"
          ]
        }
      ]
    },
    {
      "cell_type": "code",
      "source": [
        "p_U, p_O"
      ],
      "metadata": {
        "id": "3gtvuj_o0lHc",
        "outputId": "bdb06664-e4ac-44ff-d77c-730d7df1f008",
        "colab": {
          "base_uri": "https://localhost:8080/"
        }
      },
      "execution_count": 202,
      "outputs": [
        {
          "output_type": "execute_result",
          "data": {
            "text/plain": [
              "(0.6926051748208125, 0.30739482517918776)"
            ]
          },
          "metadata": {},
          "execution_count": 202
        }
      ]
    },
    {
      "cell_type": "code",
      "source": [
        "df_lt.append(df_row)"
      ],
      "metadata": {
        "id": "Q93nsOwk5cRc"
      },
      "execution_count": 203,
      "outputs": []
    },
    {
      "cell_type": "code",
      "source": [
        "df_print = pd.concat(df_lt)\n",
        "df_print.index = range(len(df_lt))\n",
        "print(tabulate(df_print, headers = 'keys', tablefmt = 'psql', showindex=False))\n",
        "# print(tabulate(df_print, headers = 'keys', tablefmt = 'psql'))"
      ],
      "metadata": {
        "colab": {
          "base_uri": "https://localhost:8080/"
        },
        "id": "Ue_9uArY874S",
        "outputId": "e635ae5c-b9af-4439-d787-bc79a84f85ea"
      },
      "execution_count": 204,
      "outputs": [
        {
          "output_type": "stream",
          "name": "stdout",
          "text": [
            "+--------+-------------+-------------+-------------+-------+--------+----------+-------------+------------+\n",
            "| Time   | Player1     | Player2     | Winner      | Set   | Game   |    pGame |   WinnerOdd |   LoserOdd |\n",
            "|--------+-------------+-------------+-------------+-------+--------+----------+-------------+------------|\n",
            "| 09:00  | Stalzer A.  | Moravek R.  | Moravek R.  | 56.8% | 62.6%  | 0.626047 |       1.53  |       2.37 |\n",
            "| 09:30  | Koldas T.   | Martinko T. | Martinko T. | 56.0% | 61.2%  | 0.611966 |       1.83  |       1.83 |\n",
            "| 11:00  | Stalzer A.  | Martinko T. | Martinko T. | 73.9% | 88.4%  | 0.884449 |       1.28  |       3.5  |\n",
            "| 11:30  | Koldas T.   | Kadlec V.   | Koldas T.   | 60.4% | 68.9%  | 0.689286 |       1.83  |       1.83 |\n",
            "| 12:00  | Skala R.    | Moravek R.  | Moravek R.  | 50.3% | 50.5%  | 0.505224 |       1.33  |       3.25 |\n",
            "| 13:00  | Stalzer A.  | Kadlec V.   | Kadlec V.   | 59.5% | 67.3%  | 0.673192 |       1.66  |       2.1  |\n",
            "| 13:30  | Skala R.    | Martinko T. | Martinko T. | 69.2% | 82.7%  | 0.826508 |       1.3   |       3.4  |\n",
            "| 17:00  | Carlsson C. | Saha S.     | Saha S.     | 63.3% | 73.8%  | 0.738098 |       1.2   |       4.33 |\n",
            "| 17:30  | Keinath T.  | Konecny T.  | Konecny T.  | 66.1% | 78.2%  | 0.781715 |       1.083 |       7    |\n",
            "| 18:00  | Baechler M. | Lindsoe D.  | Baechler M. | 84.0% | 96.8%  | 0.968121 |       1.25  |       3.75 |\n",
            "| 18:30  | Onderka F.  | Vrablik J.  | Vrablik J.  | 73.7% | 88.2%  | 0.882486 |       1.3   |       3.4  |\n",
            "| 19:00  | Carlsson C. | Konecny T.  | Konecny T.  | 79.4% | 93.7%  | 0.937253 |       1.083 |       7    |\n",
            "| 19:30  | Keinath T.  | Baechler M. | Keinath T.  | 61.8% | 71.3%  | 0.713333 |       1.44  |       2.62 |\n",
            "| 20:00  | Onderka F.  | Saha S.     | Saha S.     | 52.3% | 54.3%  | 0.543223 |       2.2   |       1.61 |\n",
            "| 20:30  | Lindsoe D.  | Vrablik J.  | Vrablik J.  | 94.7% | 99.9%  | 0.99861  |       1.03  |      10    |\n",
            "| 21:00  | Carlsson C. | Baechler M. | Baechler M. | 57.4% | 63.7%  | 0.637308 |       1.66  |       2.1  |\n",
            "| 21:30  | Onderka F.  | Konecny T.  | Konecny T.  | 71.2% | 85.3%  | 0.852679 |       1.16  |       4.5  |\n",
            "| 22:00  | Saha S.     | Vrablik J.  | Vrablik J.  | 73.4% | 87.9%  | 0.878772 |       1.16  |       4.5  |\n",
            "| 22:30  | Keinath T.  | Lindsoe D.  | Keinath T.  | 89.7% | 99.1%  | 0.990577 |       1.1   |       6.5  |\n",
            "+--------+-------------+-------------+-------------+-------+--------+----------+-------------+------------+\n"
          ]
        }
      ]
    },
    {
      "cell_type": "code",
      "source": [
        "\n",
        "\n",
        "df_print.to_csv(\"../df_print.csv\")"
      ],
      "metadata": {
        "id": "ltZOcZHa9r2C"
      },
      "execution_count": 205,
      "outputs": []
    },
    {
      "cell_type": "code",
      "source": [],
      "metadata": {
        "id": "BZ6ZL71w9rxk"
      },
      "execution_count": 205,
      "outputs": []
    },
    {
      "cell_type": "code",
      "source": [],
      "metadata": {
        "id": "O5CyTK3wu8nB"
      },
      "execution_count": 205,
      "outputs": []
    },
    {
      "cell_type": "code",
      "source": [],
      "metadata": {
        "id": "e9eugIEju8km"
      },
      "execution_count": null,
      "outputs": []
    },
    {
      "cell_type": "code",
      "source": [],
      "metadata": {
        "id": "Oib5qDHPu8gR"
      },
      "execution_count": null,
      "outputs": []
    },
    {
      "cell_type": "code",
      "source": [],
      "metadata": {
        "id": "pPl5WsiAa864"
      },
      "execution_count": null,
      "outputs": []
    },
    {
      "cell_type": "code",
      "source": [],
      "metadata": {
        "id": "lksftjHPb22k"
      },
      "execution_count": null,
      "outputs": []
    },
    {
      "cell_type": "code",
      "source": [],
      "metadata": {
        "id": "3s1Ra7NKb2tg"
      },
      "execution_count": null,
      "outputs": []
    },
    {
      "cell_type": "code",
      "source": [],
      "metadata": {
        "id": "QnT5Surpa83S"
      },
      "execution_count": null,
      "outputs": []
    },
    {
      "cell_type": "code",
      "source": [],
      "metadata": {
        "id": "Ks-uhmUsa81o"
      },
      "execution_count": null,
      "outputs": []
    }
  ]
}