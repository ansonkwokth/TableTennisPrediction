{
  "nbformat": 4,
  "nbformat_minor": 0,
  "metadata": {
    "colab": {
      "provenance": [],
      "authorship_tag": "ABX9TyPf54nzpQtQ7C++iKAKI+/f",
      "include_colab_link": true
    },
    "kernelspec": {
      "name": "python3",
      "display_name": "Python 3"
    },
    "language_info": {
      "name": "python"
    }
  },
  "cells": [
    {
      "cell_type": "markdown",
      "metadata": {
        "id": "view-in-github",
        "colab_type": "text"
      },
      "source": [
        "<a href=\"https://colab.research.google.com/github/ansonkwokth/TableTennisPrediction/blob/main/inference.ipynb\" target=\"_parent\"><img src=\"https://colab.research.google.com/assets/colab-badge.svg\" alt=\"Open In Colab\"/></a>"
      ]
    },
    {
      "cell_type": "code",
      "execution_count": null,
      "metadata": {
        "colab": {
          "base_uri": "https://localhost:8080/"
        },
        "id": "e-BRH4yO0LYy",
        "outputId": "262f5ab2-e413-41ad-938b-540ef4a63833"
      },
      "outputs": [
        {
          "output_type": "stream",
          "name": "stdout",
          "text": [
            "fatal: destination path 'TableTennisPrediction' already exists and is not an empty directory.\n",
            "/content/TableTennisPrediction\n"
          ]
        }
      ],
      "source": [
        "!git clone https://github.com/ansonkwokth/TableTennisPrediction.git\n",
        "%cd TableTennisPrediction"
      ]
    },
    {
      "cell_type": "code",
      "source": [
        "import pandas as pd\n",
        "from tabulate import tabulate\n",
        "from utils import data_loader as dl\n",
        "\n",
        "import numpy as np\n",
        "from model.Elo import Elo\n",
        "from model.ModifiedElo import ModifiedElo\n",
        "from model.ensemble import BaggingRatingSystem\n",
        "\n",
        "import matplotlib.pyplot as plt\n",
        "import seaborn as sns\n",
        "\n",
        "from tqdm import tqdm\n",
        "\n",
        "import copy\n",
        "\n",
        "import warnings\n",
        "warnings.filterwarnings('ignore')"
      ],
      "metadata": {
        "id": "7eUfcESp0gkR"
      },
      "execution_count": 18,
      "outputs": []
    },
    {
      "cell_type": "code",
      "source": [
        "# GAME = 'TTStar'\n",
        "# GAME = 'TTCup'\n",
        "# GAME = 'SetkaCup'\n",
        "GAME = 'SetkaCupWomen'\n",
        "# GAME = 'LigaPro'\n"
      ],
      "metadata": {
        "id": "9suPrUva0iVv"
      },
      "execution_count": 19,
      "outputs": []
    },
    {
      "cell_type": "code",
      "source": [
        "match GAME:\n",
        "    case 'TTStar':\n",
        "        years = [2020, 2021, 2022, 2023, 2024]\n",
        "    case 'TTCup':\n",
        "        years = [2020, 2021, 2022, 2023, 2024]\n",
        "    case 'SetkaCup':\n",
        "        years = [2020, 2021, 2022, 2023, 2024]\n",
        "    case 'SetkaCupWomen':\n",
        "        years = [2020, 2021, 2022, 2023, 2024]\n",
        "    case 'LigaPro':\n",
        "        years = [2022, 2023, 2024]\n",
        "    case _:\n",
        "        raise ValueError(\"Invalid game selected.\")\n",
        "\n",
        "\n",
        "text_data_game = dl.load_game_data(GAME, years, '../')\n",
        "text_data = {\n",
        "    year: text_data_game[year] for year in years\n",
        "}\n",
        "df = dl.create_game_dfs(GAME, years, text_data)"
      ],
      "metadata": {
        "colab": {
          "base_uri": "https://localhost:8080/"
        },
        "id": "8AQcfdRr0ms6",
        "outputId": "b9b18483-a350-4f17-81d4-ba40cdbb075a"
      },
      "execution_count": 20,
      "outputs": [
        {
          "output_type": "stream",
          "name": "stdout",
          "text": [
            "Loading ..//SetkaCupWomen2020.txt\n",
            "Loading ..//SetkaCupWomen2021.txt\n",
            "Loading ..//SetkaCupWomen2022.txt\n",
            "Loading ..//SetkaCupWomen2023.txt\n",
            "Loading ..//SetkaCupWomen2024.txt\n"
          ]
        }
      ]
    },
    {
      "cell_type": "code",
      "source": [
        "# Generate ID indices for each pair of rows in the DataFrame\n",
        "idx_lt = [i for i in range(len(df) // 2) for _ in range(2)]\n",
        "df['ID'] = idx_lt  # Assign to the 'ID' column\n",
        "\n",
        "# Reset the DataFrame index to ensure it's sequential\n",
        "df.reset_index(drop=True, inplace=True)\n",
        "\n",
        "# Get unique players and store them in player_lt\n",
        "player_lt = df['Player'].unique()\n",
        "\n"
      ],
      "metadata": {
        "id": "4_X2xgEY0nV5"
      },
      "execution_count": 21,
      "outputs": []
    },
    {
      "cell_type": "code",
      "source": [
        "def format_to_array(df: pd.DataFrame) -> np.ndarray:\n",
        "\n",
        "    # info_col = ['ID', 'Round', 'Datetime', 'Game', 'Date', 'Time']\n",
        "    info_col = ['Round', 'Datetime', 'Game', 'Date', 'Time']\n",
        "    col = [item for item in df.columns if item not in info_col]\n",
        "\n",
        "    df[[c for c in col if \"Set\" in c]] = df[[c for c in col if \"Set\" in c]].astype(float)\n",
        "    X = df[col].values.reshape(-1, 2, len(col))\n",
        "    return X"
      ],
      "metadata": {
        "id": "oG5xsRDN0oY1"
      },
      "execution_count": 22,
      "outputs": []
    },
    {
      "cell_type": "code",
      "source": [
        "X_all = format_to_array(df)"
      ],
      "metadata": {
        "id": "6jNSfuyH0prI"
      },
      "execution_count": 23,
      "outputs": []
    },
    {
      "cell_type": "code",
      "source": [
        "modelMElo = ModifiedElo()\n",
        "modelMElo.fit(X_all)\n"
      ],
      "metadata": {
        "colab": {
          "base_uri": "https://localhost:8080/"
        },
        "id": "5rcEKKAA0qck",
        "outputId": "cf8ebd1a-3c97-403f-e66a-d7f5837733fb"
      },
      "execution_count": 24,
      "outputs": [
        {
          "output_type": "stream",
          "name": "stderr",
          "text": [
            "Training model: 100%|██████████| 34579/34579 [00:02<00:00, 14113.63it/s]\n"
          ]
        }
      ]
    },
    {
      "cell_type": "markdown",
      "source": [
        "# Print"
      ],
      "metadata": {
        "id": "LELJk_1L-XEN"
      }
    },
    {
      "cell_type": "code",
      "source": [
        "def find_player(name):\n",
        "    p_lt = []\n",
        "    for k, v in modelMElo.params.items():\n",
        "        if name in k:\n",
        "            print(k)\n",
        "            p_lt.append(k)\n",
        "    return p_lt"
      ],
      "metadata": {
        "id": "hL7_Wq000x4e"
      },
      "execution_count": 25,
      "outputs": []
    },
    {
      "cell_type": "code",
      "source": [
        "def find_OU(player1, player2):\n",
        "    set1_dt = modelMElo.predict_set_config(player1, player2)[-1]\n",
        "    set2_dt = modelMElo.predict_set_config(player2, player1)[-1]\n",
        "\n",
        "    set_sum_dt = {}\n",
        "    for k1, v1 in set1_dt.items():\n",
        "        v2 = set2_dt[k1]\n",
        "        set_sum_dt[k1] = v1 + v2\n",
        "\n",
        "\n",
        "\n",
        "    p_O = 0\n",
        "    p_U = 0\n",
        "    for k, v in set_sum_dt.items():\n",
        "        if k > line:\n",
        "            p_O += v\n",
        "        else:\n",
        "            p_U += v\n",
        "    return p_O, p_U"
      ],
      "metadata": {
        "id": "vaDyXucH1LgB"
      },
      "execution_count": 26,
      "outputs": []
    },
    {
      "cell_type": "code",
      "source": [
        "df_lt = []"
      ],
      "metadata": {
        "id": "9Buhl0PD-WjC"
      },
      "execution_count": 27,
      "outputs": []
    },
    {
      "cell_type": "code",
      "source": [
        "p1_lt = find_player(\"Lif\")\n",
        "print(\"-\"*30)\n",
        "p2_lt = find_player(\"Volg\")"
      ],
      "metadata": {
        "colab": {
          "base_uri": "https://localhost:8080/"
        },
        "id": "fPbsucAV03ZP",
        "outputId": "999ccbed-2500-4ce8-a236-d55faa3226fe"
      },
      "execution_count": 91,
      "outputs": [
        {
          "output_type": "stream",
          "name": "stdout",
          "text": [
            "Lifanova O.\n",
            "------------------------------\n",
            "Volgina A.\n"
          ]
        }
      ]
    },
    {
      "cell_type": "code",
      "source": [
        "player1 = p1_lt[0]\n",
        "player2 = p2_lt[0]\n",
        "player1, player2"
      ],
      "metadata": {
        "id": "JqEDG-uB3B-y",
        "outputId": "26b7644b-01e7-4383-9fdd-e75eccc2452a",
        "colab": {
          "base_uri": "https://localhost:8080/"
        }
      },
      "execution_count": 92,
      "outputs": [
        {
          "output_type": "execute_result",
          "data": {
            "text/plain": [
              "('Lifanova O.', 'Volgina A.')"
            ]
          },
          "metadata": {},
          "execution_count": 92
        }
      ]
    },
    {
      "cell_type": "code",
      "source": [
        "time = \"22:35\"\n",
        "\n",
        "date = \"Feb 8\"\n",
        "\n",
        "\n",
        "line = 18.5\n",
        "\n",
        "\n",
        "found_p1, found_p2, p_game = modelMElo.predict_game(player1, player2)\n",
        "found_p1, found_p2, p_set = modelMElo.predict_set(player1, player2)\n",
        "p_O, p_U = find_OU(player1, player2)\n",
        "winner = player1 if p_game > 0.5 else player2\n",
        "p_set_win = p_set if winner == player1 else 1 - p_set\n",
        "p_game_win = p_game if winner == player1 else 1 - p_game\n",
        "p_OU = p_O if p_O > p_U else p_U\n",
        "OU = \"O\" if p_O > p_U else \"U\""
      ],
      "metadata": {
        "id": "AY8NqxQT0stX"
      },
      "execution_count": 93,
      "outputs": []
    },
    {
      "cell_type": "code",
      "source": [
        "if (found_p1 and found_p2):\n",
        "    df_row = pd.DataFrame({\n",
        "                         \"Time\": [time],\n",
        "                         \"Player1\": [player1], \"Player2\": [player2], \"Winner\": [winner],\n",
        "                         \"Set\": [f\"{p_set_win*100:.1f}%\"], \"Game\": [f\"{p_game_win*100:.1f}%\"]})\n",
        "                        #  \"O/U\": [f\"{OU} {line}: {p_OU*100:.1f}%\"]})\n",
        "\n",
        "    print(tabulate(df_row, headers = 'keys', tablefmt = 'psql', showindex=False))\n"
      ],
      "metadata": {
        "colab": {
          "base_uri": "https://localhost:8080/"
        },
        "id": "epjETA3T1PGH",
        "outputId": "3cc0b714-4a32-4d12-d26c-8edea8639f5d"
      },
      "execution_count": 94,
      "outputs": [
        {
          "output_type": "stream",
          "name": "stdout",
          "text": [
            "+--------+-------------+------------+-------------+-------+--------+\n",
            "| Time   | Player1     | Player2    | Winner      | Set   | Game   |\n",
            "|--------+-------------+------------+-------------+-------+--------|\n",
            "| 22:35  | Lifanova O. | Volgina A. | Lifanova O. | 53.8% | 57.1%  |\n",
            "+--------+-------------+------------+-------------+-------+--------+\n"
          ]
        }
      ]
    },
    {
      "cell_type": "code",
      "source": [
        "p_U, p_O"
      ],
      "metadata": {
        "id": "3gtvuj_o0lHc",
        "outputId": "5905a78e-9a63-43a4-9dc9-36c7c61b3089",
        "colab": {
          "base_uri": "https://localhost:8080/"
        }
      },
      "execution_count": 95,
      "outputs": [
        {
          "output_type": "execute_result",
          "data": {
            "text/plain": [
              "(0.48224735195953594, 0.5177526480404637)"
            ]
          },
          "metadata": {},
          "execution_count": 95
        }
      ]
    },
    {
      "cell_type": "code",
      "source": [
        "df_lt.append(df_row)"
      ],
      "metadata": {
        "id": "Q93nsOwk5cRc"
      },
      "execution_count": 96,
      "outputs": []
    },
    {
      "cell_type": "code",
      "source": [
        "df_print = pd.concat(df_lt)\n",
        "df_print.index = range(len(df_lt))\n",
        "print(tabulate(df_print, headers = 'keys', tablefmt = 'psql', showindex=False))\n",
        "# print(tabulate(df_print, headers = 'keys', tablefmt = 'psql'))"
      ],
      "metadata": {
        "colab": {
          "base_uri": "https://localhost:8080/"
        },
        "id": "Ue_9uArY874S",
        "outputId": "58302b3f-adea-4871-9e38-7b1533ae4c31"
      },
      "execution_count": 97,
      "outputs": [
        {
          "output_type": "stream",
          "name": "stdout",
          "text": [
            "+--------+---------------------+-------------+-------------+-------+--------+\n",
            "| Time   | Player1             | Player2     | Winner      | Set   | Game   |\n",
            "|--------+---------------------+-------------+-------------+-------+--------|\n",
            "| 16:05  | Hordynska-Sheiko A. | Volgina A.  | Volgina A.  | 65.7% | 77.6%  |\n",
            "| 16:35  | Severina Y.         | Lifanova O. | Lifanova O. | 65.4% | 77.2%  |\n",
            "| 17:35  | Lifanova O.         | Ivchenko O. | Ivchenko O. | 51.2% | 52.3%  |\n",
            "| 18:05  | Hordynska-Sheiko A. | Severina Y. | Severina Y. | 54.5% | 58.4%  |\n",
            "| 19:05  | Severina Y.         | Volgina A.  | Volgina A.  | 62.0% | 71.6%  |\n",
            "| 20:35  | Hordynska-Sheiko A. | Lifanova O. | Lifanova O. | 68.9% | 82.2%  |\n",
            "| 21:05  | Volgina A.          | Ivchenko O. | Ivchenko O. | 54.9% | 59.2%  |\n",
            "| 22:05  | Severina Y.         | Ivchenko O. | Ivchenko O. | 66.1% | 78.2%  |\n",
            "| 22:35  | Lifanova O.         | Volgina A.  | Lifanova O. | 53.8% | 57.1%  |\n",
            "+--------+---------------------+-------------+-------------+-------+--------+\n"
          ]
        }
      ]
    },
    {
      "cell_type": "code",
      "source": [],
      "metadata": {
        "id": "ltZOcZHa9r2C"
      },
      "execution_count": 97,
      "outputs": []
    },
    {
      "cell_type": "code",
      "source": [],
      "metadata": {
        "id": "BZ6ZL71w9rxk"
      },
      "execution_count": 97,
      "outputs": []
    },
    {
      "cell_type": "code",
      "source": [],
      "metadata": {
        "id": "O5CyTK3wu8nB"
      },
      "execution_count": 97,
      "outputs": []
    },
    {
      "cell_type": "code",
      "source": [],
      "metadata": {
        "id": "e9eugIEju8km"
      },
      "execution_count": null,
      "outputs": []
    },
    {
      "cell_type": "code",
      "source": [],
      "metadata": {
        "id": "Oib5qDHPu8gR"
      },
      "execution_count": null,
      "outputs": []
    },
    {
      "cell_type": "code",
      "source": [],
      "metadata": {
        "id": "pPl5WsiAa864"
      },
      "execution_count": null,
      "outputs": []
    },
    {
      "cell_type": "code",
      "source": [],
      "metadata": {
        "id": "lksftjHPb22k"
      },
      "execution_count": null,
      "outputs": []
    },
    {
      "cell_type": "code",
      "source": [],
      "metadata": {
        "id": "3s1Ra7NKb2tg"
      },
      "execution_count": null,
      "outputs": []
    },
    {
      "cell_type": "code",
      "source": [],
      "metadata": {
        "id": "QnT5Surpa83S"
      },
      "execution_count": null,
      "outputs": []
    },
    {
      "cell_type": "code",
      "source": [],
      "metadata": {
        "id": "Ks-uhmUsa81o"
      },
      "execution_count": null,
      "outputs": []
    }
  ]
}