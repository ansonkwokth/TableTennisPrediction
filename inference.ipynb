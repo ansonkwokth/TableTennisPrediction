{
  "nbformat": 4,
  "nbformat_minor": 0,
  "metadata": {
    "colab": {
      "provenance": [],
      "authorship_tag": "ABX9TyMxScY2EVmsxnBHfQNSAJjj",
      "include_colab_link": true
    },
    "kernelspec": {
      "name": "python3",
      "display_name": "Python 3"
    },
    "language_info": {
      "name": "python"
    }
  },
  "cells": [
    {
      "cell_type": "markdown",
      "metadata": {
        "id": "view-in-github",
        "colab_type": "text"
      },
      "source": [
        "<a href=\"https://colab.research.google.com/github/ansonkwokth/TableTennisPrediction/blob/main/inference.ipynb\" target=\"_parent\"><img src=\"https://colab.research.google.com/assets/colab-badge.svg\" alt=\"Open In Colab\"/></a>"
      ]
    },
    {
      "cell_type": "code",
      "execution_count": 1,
      "metadata": {
        "colab": {
          "base_uri": "https://localhost:8080/"
        },
        "id": "e-BRH4yO0LYy",
        "outputId": "382a7779-e597-404e-a5ca-7a9424afc2e3"
      },
      "outputs": [
        {
          "output_type": "stream",
          "name": "stdout",
          "text": [
            "Cloning into 'TableTennisPrediction'...\n",
            "remote: Enumerating objects: 178, done.\u001b[K\n",
            "remote: Counting objects: 100% (178/178), done.\u001b[K\n",
            "remote: Compressing objects: 100% (154/154), done.\u001b[K\n",
            "remote: Total 178 (delta 86), reused 42 (delta 17), pack-reused 0 (from 0)\u001b[K\n",
            "Receiving objects: 100% (178/178), 683.74 KiB | 5.03 MiB/s, done.\n",
            "Resolving deltas: 100% (86/86), done.\n",
            "/content/TableTennisPrediction\n"
          ]
        }
      ],
      "source": [
        "!git clone https://github.com/ansonkwokth/TableTennisPrediction.git\n",
        "%cd TableTennisPrediction"
      ]
    },
    {
      "cell_type": "code",
      "source": [
        "import pandas as pd\n",
        "from tabulate import tabulate\n",
        "from utils import data_loader as dl\n",
        "\n",
        "import numpy as np\n",
        "from model.Elo import Elo\n",
        "from model.ModifiedElo import ModifiedElo\n",
        "from model.ensemble import BaggingRatingSystem\n",
        "\n",
        "import matplotlib.pyplot as plt\n",
        "import seaborn as sns\n",
        "\n",
        "from tqdm import tqdm\n",
        "\n",
        "import copy\n",
        "\n",
        "import warnings\n",
        "warnings.filterwarnings('ignore')"
      ],
      "metadata": {
        "id": "7eUfcESp0gkR"
      },
      "execution_count": 2,
      "outputs": []
    },
    {
      "cell_type": "code",
      "source": [
        "# GAME = 'TTStar'\n",
        "# GAME = 'TTCup'\n",
        "# GAME = 'SetkaCup'\n",
        "GAME = 'SetkaCupWomen'\n",
        "# GAME = 'LigaPro'\n"
      ],
      "metadata": {
        "id": "9suPrUva0iVv"
      },
      "execution_count": 3,
      "outputs": []
    },
    {
      "cell_type": "code",
      "source": [
        "match GAME:\n",
        "    case 'TTStar':\n",
        "        years = [2020, 2021, 2022, 2023, 2024]\n",
        "    case 'TTCup':\n",
        "        years = [2020, 2021, 2022, 2023, 2024]\n",
        "    case 'SetkaCup':\n",
        "        years = [2020, 2021, 2022, 2023, 2024]\n",
        "    case 'SetkaCupWomen':\n",
        "        years = [2020, 2021, 2022, 2023, 2024]\n",
        "    case 'LigaPro':\n",
        "        years = [2022, 2023, 2024]\n",
        "    case _:\n",
        "        raise ValueError(\"Invalid game selected.\")\n",
        "\n",
        "\n",
        "text_data_game = dl.load_game_data(GAME, years, '../')\n",
        "text_data = {\n",
        "    year: text_data_game[year] for year in years\n",
        "}\n",
        "df = dl.create_game_dfs(GAME, years, text_data)"
      ],
      "metadata": {
        "colab": {
          "base_uri": "https://localhost:8080/"
        },
        "id": "8AQcfdRr0ms6",
        "outputId": "b2e8727a-7a1d-4463-8df6-ddeeadc0683f"
      },
      "execution_count": 4,
      "outputs": [
        {
          "output_type": "stream",
          "name": "stdout",
          "text": [
            "Loading ..//SetkaCupWomen2020.txt\n",
            "Loading ..//SetkaCupWomen2021.txt\n",
            "Loading ..//SetkaCupWomen2022.txt\n",
            "Loading ..//SetkaCupWomen2023.txt\n",
            "Loading ..//SetkaCupWomen2024.txt\n"
          ]
        }
      ]
    },
    {
      "cell_type": "code",
      "source": [
        "# Generate ID indices for each pair of rows in the DataFrame\n",
        "idx_lt = [i for i in range(len(df) // 2) for _ in range(2)]\n",
        "df['ID'] = idx_lt  # Assign to the 'ID' column\n",
        "\n",
        "# Reset the DataFrame index to ensure it's sequential\n",
        "df.reset_index(drop=True, inplace=True)\n",
        "\n",
        "# Get unique players and store them in player_lt\n",
        "player_lt = df['Player'].unique()\n",
        "\n"
      ],
      "metadata": {
        "id": "4_X2xgEY0nV5"
      },
      "execution_count": 5,
      "outputs": []
    },
    {
      "cell_type": "code",
      "source": [
        "def format_to_array(df: pd.DataFrame) -> np.ndarray:\n",
        "\n",
        "    # info_col = ['ID', 'Round', 'Datetime', 'Game', 'Date', 'Time']\n",
        "    info_col = ['Round', 'Datetime', 'Game', 'Date', 'Time']\n",
        "    col = [item for item in df.columns if item not in info_col]\n",
        "\n",
        "    df[[c for c in col if \"Set\" in c]] = df[[c for c in col if \"Set\" in c]].astype(float)\n",
        "    X = df[col].values.reshape(-1, 2, len(col))\n",
        "    return X"
      ],
      "metadata": {
        "id": "oG5xsRDN0oY1"
      },
      "execution_count": 6,
      "outputs": []
    },
    {
      "cell_type": "code",
      "source": [
        "X_all = format_to_array(df)"
      ],
      "metadata": {
        "id": "6jNSfuyH0prI"
      },
      "execution_count": 7,
      "outputs": []
    },
    {
      "cell_type": "code",
      "source": [
        "modelMElo = ModifiedElo()\n",
        "modelMElo.fit(X_all)\n"
      ],
      "metadata": {
        "colab": {
          "base_uri": "https://localhost:8080/"
        },
        "id": "5rcEKKAA0qck",
        "outputId": "3366e21f-0aaa-4315-e065-73c5ec7217f7"
      },
      "execution_count": 8,
      "outputs": [
        {
          "output_type": "stream",
          "name": "stderr",
          "text": [
            "Training model: 100%|██████████| 34579/34579 [00:02<00:00, 13449.70it/s]\n"
          ]
        }
      ]
    },
    {
      "cell_type": "markdown",
      "source": [
        "# Print"
      ],
      "metadata": {
        "id": "LELJk_1L-XEN"
      }
    },
    {
      "cell_type": "code",
      "source": [
        "def find_player(name):\n",
        "    p_lt = []\n",
        "    for k, v in modelMElo.params.items():\n",
        "        if name in k:\n",
        "            print(k)\n",
        "            p_lt.append(k)\n",
        "    return p_lt"
      ],
      "metadata": {
        "id": "hL7_Wq000x4e"
      },
      "execution_count": 9,
      "outputs": []
    },
    {
      "cell_type": "code",
      "source": [
        "def find_OU(player1, player2):\n",
        "    set1_dt = modelMElo.predict_set_config(player1, player2)[-1]\n",
        "    set2_dt = modelMElo.predict_set_config(player2, player1)[-1]\n",
        "\n",
        "    set_sum_dt = {}\n",
        "    for k1, v1 in set1_dt.items():\n",
        "        v2 = set2_dt[k1]\n",
        "        set_sum_dt[k1] = v1 + v2\n",
        "\n",
        "\n",
        "\n",
        "    p_O = 0\n",
        "    p_U = 0\n",
        "    for k, v in set_sum_dt.items():\n",
        "        if k > line:\n",
        "            p_O += v\n",
        "        else:\n",
        "            p_U += v\n",
        "    return p_O, p_U"
      ],
      "metadata": {
        "id": "vaDyXucH1LgB"
      },
      "execution_count": 10,
      "outputs": []
    },
    {
      "cell_type": "code",
      "source": [
        "df_lt = []"
      ],
      "metadata": {
        "id": "9Buhl0PD-WjC"
      },
      "execution_count": 29,
      "outputs": []
    },
    {
      "cell_type": "code",
      "source": [
        "p1_lt = find_player(\"Lif\")\n",
        "print(\"-\"*30)\n",
        "p2_lt = find_player(\"Gord\")"
      ],
      "metadata": {
        "colab": {
          "base_uri": "https://localhost:8080/"
        },
        "id": "fPbsucAV03ZP",
        "outputId": "c01da0e4-3e36-4c7e-98a9-06a9a669523d"
      },
      "execution_count": 95,
      "outputs": [
        {
          "output_type": "stream",
          "name": "stdout",
          "text": [
            "Lifanova O.\n",
            "------------------------------\n",
            "Gordeets M.\n"
          ]
        }
      ]
    },
    {
      "cell_type": "code",
      "source": [
        "player1 = p1_lt[0]\n",
        "player2 = p2_lt[0]\n",
        "player1, player2"
      ],
      "metadata": {
        "id": "JqEDG-uB3B-y",
        "outputId": "a750a01e-7c06-4969-ed7a-f3d5f8c91148",
        "colab": {
          "base_uri": "https://localhost:8080/"
        }
      },
      "execution_count": 96,
      "outputs": [
        {
          "output_type": "execute_result",
          "data": {
            "text/plain": [
              "('Lifanova O.', 'Gordeets M.')"
            ]
          },
          "metadata": {},
          "execution_count": 96
        }
      ]
    },
    {
      "cell_type": "code",
      "source": [
        "time = \"22:35\"\n",
        "\n",
        "date = \"Feb 1\"\n",
        "\n",
        "\n",
        "line = 18.5\n",
        "\n",
        "\n",
        "found_p1, found_p2, p_game = modelMElo.predict_game(player1, player2)\n",
        "found_p1, found_p2, p_set = modelMElo.predict_set(player1, player2)\n",
        "p_O, p_U = find_OU(player1, player2)\n",
        "winner = player1 if p_game > 0.5 else player2\n",
        "p_set_win = p_set if winner == player1 else 1 - p_set\n",
        "p_game_win = p_game if winner == player1 else 1 - p_game\n",
        "p_OU = p_O if p_O > p_U else p_U\n",
        "OU = \"O\" if p_O > p_U else \"U\""
      ],
      "metadata": {
        "id": "AY8NqxQT0stX"
      },
      "execution_count": 97,
      "outputs": []
    },
    {
      "cell_type": "code",
      "source": [
        "if (found_p1 and found_p2):\n",
        "    df_row = pd.DataFrame({\n",
        "                         \"Time\": [time],\n",
        "                         \"Player1\": [player1], \"Player2\": [player2], \"Winner\": [winner],\n",
        "                         \"Set\": [f\"{p_set_win*100:.1f}%\"], \"Game\": [f\"{p_game_win*100:.1f}%\"]})\n",
        "                        #  \"O/U\": [f\"{OU} {line}: {p_OU*100:.1f}%\"]})\n",
        "\n",
        "    print(tabulate(df_row, headers = 'keys', tablefmt = 'psql', showindex=False))\n"
      ],
      "metadata": {
        "colab": {
          "base_uri": "https://localhost:8080/"
        },
        "id": "epjETA3T1PGH",
        "outputId": "bf06ec28-9d65-46fb-a0e8-dd0ed4a0cc04"
      },
      "execution_count": 98,
      "outputs": [
        {
          "output_type": "stream",
          "name": "stdout",
          "text": [
            "+--------+-------------+-------------+-------------+-------+--------+\n",
            "| Time   | Player1     | Player2     | Winner      | Set   | Game   |\n",
            "|--------+-------------+-------------+-------------+-------+--------|\n",
            "| 22:35  | Lifanova O. | Gordeets M. | Lifanova O. | 50.3% | 50.6%  |\n",
            "+--------+-------------+-------------+-------------+-------+--------+\n"
          ]
        }
      ]
    },
    {
      "cell_type": "code",
      "source": [
        "p_U, p_O"
      ],
      "metadata": {
        "id": "3gtvuj_o0lHc",
        "outputId": "e59442c7-1570-4d87-fdd0-9f80b910a86e",
        "colab": {
          "base_uri": "https://localhost:8080/"
        }
      },
      "execution_count": 99,
      "outputs": [
        {
          "output_type": "execute_result",
          "data": {
            "text/plain": [
              "(0.4806919816384335, 0.5193080183615658)"
            ]
          },
          "metadata": {},
          "execution_count": 99
        }
      ]
    },
    {
      "cell_type": "code",
      "source": [
        "df_lt.append(df_row)"
      ],
      "metadata": {
        "id": "Q93nsOwk5cRc"
      },
      "execution_count": 100,
      "outputs": []
    },
    {
      "cell_type": "code",
      "source": [
        "df_print = pd.concat(df_lt)\n",
        "df_print.index = range(len(df_lt))\n",
        "print(tabulate(df_print, headers = 'keys', tablefmt = 'psql', showindex=False))\n",
        "# print(tabulate(df_print, headers = 'keys', tablefmt = 'psql'))"
      ],
      "metadata": {
        "colab": {
          "base_uri": "https://localhost:8080/"
        },
        "id": "Ue_9uArY874S",
        "outputId": "1f0ef929-1e4b-4740-fca6-27c1d64bf45a"
      },
      "execution_count": 101,
      "outputs": [
        {
          "output_type": "stream",
          "name": "stdout",
          "text": [
            "+--------+---------------------+-------------+-------------+-------+--------+\n",
            "| Time   | Player1             | Player2     | Winner      | Set   | Game   |\n",
            "|--------+---------------------+-------------+-------------+-------+--------|\n",
            "| 16:05  | Hordynska-Sheiko A. | Gordeets M. | Gordeets M. | 68.7% | 81.9%  |\n",
            "| 16:35  | Ivchenko O.         | Lifanova O. | Ivchenko O. | 51.2% | 52.3%  |\n",
            "| 17:35  | Lifanova O.         | Volgina A.  | Lifanova O. | 53.8% | 57.1%  |\n",
            "| 18:06  | Hordynska-Sheiko A. | Ivchenko O. | Ivchenko O. | 69.4% | 82.9%  |\n",
            "| 19:05  | Ivchenko O.         | Gordeets M. | Ivchenko O. | 51.5% | 52.8%  |\n",
            "| 19:35  | Hordynska-Sheiko A. | Volgina A.  | Volgina A.  | 65.7% | 77.6%  |\n",
            "| 20:35  | Hordynska-Sheiko A. | Lifanova O. | Lifanova O. | 68.9% | 82.2%  |\n",
            "| 21:05  | Gordeets M.         | Volgina A.  | Gordeets M. | 53.5% | 56.6%  |\n",
            "| 22:05  | Ivchenko O.         | Volgina A.  | Ivchenko O. | 54.9% | 59.2%  |\n",
            "| 22:35  | Lifanova O.         | Gordeets M. | Lifanova O. | 50.3% | 50.6%  |\n",
            "+--------+---------------------+-------------+-------------+-------+--------+\n"
          ]
        }
      ]
    },
    {
      "cell_type": "code",
      "source": [],
      "metadata": {
        "id": "M-4Gok8q7-zM"
      },
      "execution_count": 101,
      "outputs": []
    },
    {
      "cell_type": "code",
      "source": [],
      "metadata": {
        "id": "ZlYLzVvw9r9V"
      },
      "execution_count": 101,
      "outputs": []
    },
    {
      "cell_type": "code",
      "source": [],
      "metadata": {
        "id": "nNjW6ijc9r7E"
      },
      "execution_count": null,
      "outputs": []
    },
    {
      "cell_type": "code",
      "source": [],
      "metadata": {
        "id": "ltZOcZHa9r2C"
      },
      "execution_count": null,
      "outputs": []
    },
    {
      "cell_type": "code",
      "source": [],
      "metadata": {
        "id": "BZ6ZL71w9rxk"
      },
      "execution_count": null,
      "outputs": []
    },
    {
      "cell_type": "code",
      "source": [],
      "metadata": {
        "id": "O5CyTK3wu8nB"
      },
      "execution_count": null,
      "outputs": []
    },
    {
      "cell_type": "code",
      "source": [],
      "metadata": {
        "id": "e9eugIEju8km"
      },
      "execution_count": null,
      "outputs": []
    },
    {
      "cell_type": "code",
      "source": [],
      "metadata": {
        "id": "Oib5qDHPu8gR"
      },
      "execution_count": null,
      "outputs": []
    }
  ]
}