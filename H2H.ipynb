{
  "nbformat": 4,
  "nbformat_minor": 0,
  "metadata": {
    "colab": {
      "provenance": [],
      "authorship_tag": "ABX9TyP86mM4ZkorKMO1JTUFaRH7",
      "include_colab_link": true
    },
    "kernelspec": {
      "name": "python3",
      "display_name": "Python 3"
    },
    "language_info": {
      "name": "python"
    }
  },
  "cells": [
    {
      "cell_type": "markdown",
      "metadata": {
        "id": "view-in-github",
        "colab_type": "text"
      },
      "source": [
        "<a href=\"https://colab.research.google.com/github/ansonkwokth/TableTennisPrediction/blob/main/H2H.ipynb\" target=\"_parent\"><img src=\"https://colab.research.google.com/assets/colab-badge.svg\" alt=\"Open In Colab\"/></a>"
      ]
    },
    {
      "cell_type": "code",
      "execution_count": 1,
      "metadata": {
        "id": "bMA550fvMHMq",
        "outputId": "4d583a36-828b-4deb-8a1c-dfa5053c4f74",
        "colab": {
          "base_uri": "https://localhost:8080/"
        }
      },
      "outputs": [
        {
          "output_type": "stream",
          "name": "stdout",
          "text": [
            "fatal: destination path 'TableTennisPrediction' already exists and is not an empty directory.\n",
            "/content/TableTennisPrediction\n"
          ]
        }
      ],
      "source": [
        "!git clone https://github.com/ansonkwokth/TableTennisPrediction.git\n",
        "%cd TableTennisPrediction"
      ]
    },
    {
      "cell_type": "code",
      "source": [
        "import pandas as pd\n",
        "from tabulate import tabulate\n",
        "from utils import data_loader as dl\n",
        "\n",
        "import numpy as np\n",
        "# from model.Elo import Elo\n",
        "from model.ModifiedElo import ModifiedElo\n",
        "# from model.ensemble import BaggingRatingSystem\n",
        "\n",
        "import matplotlib.pyplot as plt\n",
        "import seaborn as sns\n",
        "\n",
        "from tqdm import tqdm\n",
        "\n",
        "import copy\n",
        "\n",
        "import warnings\n",
        "warnings.filterwarnings('ignore')"
      ],
      "metadata": {
        "id": "fgfuNcLqMPPO"
      },
      "execution_count": 19,
      "outputs": []
    },
    {
      "cell_type": "markdown",
      "source": [
        "# Data"
      ],
      "metadata": {
        "id": "zL9XnSNXVA-e"
      }
    },
    {
      "cell_type": "code",
      "source": [
        "GAME = 'TTStar'\n",
        "# GAME = 'TTCup'\n",
        "# GAME = 'SetkaCup'\n",
        "# GAME = 'SetkaCupWomen'\n",
        "# GAME = 'LigaPro'\n"
      ],
      "metadata": {
        "id": "vEfGED5M7Pa2"
      },
      "execution_count": 34,
      "outputs": []
    },
    {
      "cell_type": "code",
      "source": [
        "match GAME:\n",
        "    case 'TTStar':\n",
        "        years = [2020, 2021, 2022, 2023, 2024]\n",
        "    case 'TTCup':\n",
        "        years = [2020, 2021, 2022, 2023, 2024]\n",
        "    case 'SetkaCup':\n",
        "        years = [2020, 2021, 2022, 2023, 2024]\n",
        "    case 'SetkaCupWomen':\n",
        "        years = [2020, 2021, 2022, 2023, 2024]\n",
        "    case 'LigaPro':\n",
        "        years = [2022, 2023, 2024]\n",
        "    case _:\n",
        "        raise ValueError(\"Invalid game selected.\")\n",
        "\n",
        "\n",
        "text_data_game = dl.load_game_data(GAME, years, '../')\n",
        "text_data = {\n",
        "    year: text_data_game[year] for year in years\n",
        "}\n",
        "df = dl.create_game_dfs(GAME, years, text_data)"
      ],
      "metadata": {
        "colab": {
          "base_uri": "https://localhost:8080/"
        },
        "id": "LYKKHO267cRc",
        "outputId": "e931a9f6-7d17-467b-9697-d303cb14eada"
      },
      "execution_count": 35,
      "outputs": [
        {
          "output_type": "stream",
          "name": "stdout",
          "text": [
            "Loading ..//TTStar2020.txt\n",
            "Loading ..//TTStar2021.txt\n",
            "Loading ..//TTStar2022.txt\n",
            "Loading ..//TTStar2023.txt\n",
            "Loading ..//TTStar2024.txt\n"
          ]
        }
      ]
    },
    {
      "cell_type": "code",
      "source": [
        "# Generate ID indices for each pair of rows in the DataFrame\n",
        "idx_lt = [i for i in range(len(df) // 2) for _ in range(2)]\n",
        "df['ID'] = idx_lt  # Assign to the 'ID' column\n",
        "\n",
        "# Reset the DataFrame index to ensure it's sequential\n",
        "df.reset_index(drop=True, inplace=True)\n",
        "\n",
        "# Get unique players and store them in player_lt\n",
        "player_lt = df['Player'].unique()\n",
        "\n"
      ],
      "metadata": {
        "id": "L8oBW_wk7uvM"
      },
      "execution_count": 36,
      "outputs": []
    },
    {
      "cell_type": "code",
      "source": [
        "year_val = years[-2]\n",
        "year_test = years[-1]\n",
        "\n",
        "\n",
        "df = df.sort_values(['ID', 'Player'])\n",
        "df_train = df.loc[pd.DatetimeIndex(df['Date']).year < year_val]\n",
        "df_val = df.loc[pd.DatetimeIndex(df['Date']).year == year_val]\n",
        "df_train_val = df.loc[pd.DatetimeIndex(df['Date']).year <= year_val]\n",
        "df_test = df.loc[pd.DatetimeIndex(df['Date']).year == year_test]\n"
      ],
      "metadata": {
        "id": "tC-31F8o7dPX"
      },
      "execution_count": 37,
      "outputs": []
    },
    {
      "cell_type": "code",
      "source": [
        "def format_to_array(df: pd.DataFrame) -> np.ndarray:\n",
        "\n",
        "    # info_col = ['ID', 'Round', 'Datetime', 'Game', 'Date', 'Time']\n",
        "    info_col = ['Round', 'Datetime', 'Game', 'Date', 'Time']\n",
        "    col = [item for item in df.columns if item not in info_col]\n",
        "\n",
        "    df[[c for c in col if \"Set\" in c]] = df[[c for c in col if \"Set\" in c]].astype(float)\n",
        "    X = df[col].values.reshape(-1, 2, len(col))\n",
        "    return X"
      ],
      "metadata": {
        "id": "fdILJrB5Mcyj"
      },
      "execution_count": 38,
      "outputs": []
    },
    {
      "cell_type": "code",
      "source": [
        "X_train = format_to_array(df_train)\n",
        "X_val = format_to_array(df_val)\n",
        "X_train_val = format_to_array(df_train_val)\n",
        "X_test = format_to_array(df_test)"
      ],
      "metadata": {
        "id": "-gLXcFEvMePw"
      },
      "execution_count": 39,
      "outputs": []
    },
    {
      "cell_type": "code",
      "source": [
        "X_all = format_to_array(df)"
      ],
      "metadata": {
        "id": "Pzkb-m1iMe6N"
      },
      "execution_count": 40,
      "outputs": []
    },
    {
      "cell_type": "code",
      "source": [
        "# modelMElo = ModifiedElo()\n",
        "\n",
        "# # traing model with only training set\n",
        "# for _ in range(5):\n",
        "#     modelMElo.fit(X_train)\n"
      ],
      "metadata": {
        "id": "3VNdJLC6Mflz"
      },
      "execution_count": 41,
      "outputs": []
    },
    {
      "cell_type": "markdown",
      "source": [
        "\n",
        "# H2H histroy"
      ],
      "metadata": {
        "id": "XIun4YcCgT_9"
      }
    },
    {
      "cell_type": "code",
      "source": [
        "class SymmetricTable:\n",
        "    def __init__(self):\n",
        "        self.data = {}\n",
        "\n",
        "    def add(self, key1, key2, value):\n",
        "        \"\"\"Append value to the list corresponding to the symmetric key.\"\"\"\n",
        "        key = tuple(sorted([key1, key2]))\n",
        "        if key not in self.data:\n",
        "            self.data[key] = []\n",
        "        self.data[key].append(value)\n",
        "\n",
        "    def get(self, key1, key2):\n",
        "        \"\"\"Retrieve the list of values for the given symmetric key, defaulting to an empty list.\"\"\"\n",
        "        return self.data.get(tuple(sorted([key1, key2])), [])\n",
        "\n",
        "\n",
        "\n",
        "\n",
        "\n",
        "# Id and the corresponding past h2h history before this match\n",
        "h2h_rate = {}\n",
        "table = SymmetricTable()\n",
        "SETCOL = [i for i in df_train.columns if 'Set' in i]\n",
        "\n",
        "\n",
        "for id in tqdm(df.ID.unique()):\n",
        "    df_i = df[df.ID == id]\n",
        "\n",
        "    player1, player2 = df_i.Player.values\n",
        "    # all the historical sets\n",
        "    histo_rate = table.get(player1, player2)\n",
        "    # the mean of the win rate\n",
        "    histo_rate_mean = np.mean(histo_rate)\n",
        "    # add to the dict\n",
        "    h2h_rate[id] = histo_rate_mean\n",
        "\n",
        "    df_p_i = df_i.sort_values(\"Player\")\n",
        "    # the scores of the sets\n",
        "    scores = df_p_i[SETCOL].values\n",
        "    winrate_i = (scores[0] / (scores[0] + scores[1]))\n",
        "\n",
        "    # add the current set results to the history\n",
        "    for wi in winrate_i:\n",
        "        if np.isnan(wi): continue\n",
        "        table.add(player1, player2, wi)\n"
      ],
      "metadata": {
        "id": "3Pe-IdHegT3P",
        "outputId": "c47056de-02fa-4175-a01a-03822e066a6d",
        "colab": {
          "base_uri": "https://localhost:8080/"
        }
      },
      "execution_count": 42,
      "outputs": [
        {
          "output_type": "stream",
          "name": "stderr",
          "text": [
            "100%|██████████| 17257/17257 [00:19<00:00, 871.89it/s]\n"
          ]
        }
      ]
    },
    {
      "cell_type": "code",
      "source": [],
      "metadata": {
        "id": "gvSsmQEqgT0z"
      },
      "execution_count": 42,
      "outputs": []
    },
    {
      "cell_type": "code",
      "source": [],
      "metadata": {
        "id": "4rRUfIrkg2xW"
      },
      "execution_count": 42,
      "outputs": []
    },
    {
      "cell_type": "markdown",
      "source": [
        "# Look at the relation"
      ],
      "metadata": {
        "id": "GG7PKGPLqSjP"
      }
    },
    {
      "cell_type": "code",
      "source": [
        "def evaluate_point(model, dataset, h2h):\n",
        "    print(f\"Evaluate model: {repr(model)}\")\n",
        "    _model = copy.deepcopy(model)\n",
        "    _model.verbose = False\n",
        "\n",
        "    history = []\n",
        "    predictions = []\n",
        "    h2hs = []\n",
        "    for idx, matchi in tqdm(enumerate(dataset), desc=\"Evaluating matches\"):\n",
        "        id = matchi[0, 0]\n",
        "        matchi = matchi.T\n",
        "        h2hi = h2h[id]\n",
        "        player1, player2 = matchi[1]\n",
        "\n",
        "        found_p1, found_p2, p = _model.predict_point(player1, player2)\n",
        "        if not (found_p1 and found_p2): continue\n",
        "        if p == 0.5: continue\n",
        "\n",
        "        for seti in matchi[2:]:\n",
        "            if np.isnan(seti[0]) or (seti[0] + seti[1]) == 0: break\n",
        "            winrate = seti[0] / (seti[0] + seti[1])\n",
        "            history.append(winrate)\n",
        "            predictions.append(p)\n",
        "            h2hs.append(h2hi)\n",
        "\n",
        "\n",
        "    return np.array(history), np.array(predictions), np.array(h2hs)\n",
        "\n"
      ],
      "metadata": {
        "id": "1gC_QS4PiMfo"
      },
      "execution_count": 43,
      "outputs": []
    },
    {
      "cell_type": "code",
      "source": [
        "hist, pred, h2h = evaluate_point(modelMElo, X_train, h2h_rate)\n",
        "# hist, pred, h2h = evaluate_point(modelMElo, X_val, h2h_rate)\n",
        "# hist, pred, h2h = evaluate_point(modelMElo, X_test, h2h_rate)\n",
        "# hist, pred = evaluate_point(modelMElo, X_val)"
      ],
      "metadata": {
        "id": "K8JueV2biMjf",
        "outputId": "1659e8c8-000d-47ef-981c-d08fe06dbcec",
        "colab": {
          "base_uri": "https://localhost:8080/"
        }
      },
      "execution_count": 44,
      "outputs": [
        {
          "output_type": "stream",
          "name": "stdout",
          "text": [
            "Evaluate model: ModifiedElo(learning_rate=0.1, base_param=(0, 1), update_sigma=True, verbose=False)\n"
          ]
        },
        {
          "output_type": "stream",
          "name": "stderr",
          "text": [
            "Evaluating matches: 9867it [00:00, 148369.14it/s]\n"
          ]
        }
      ]
    },
    {
      "cell_type": "code",
      "source": [
        "logit_hist = np.log(hist / (1-hist))\n",
        "logit_pred = np.log(pred / (1-pred))\n",
        "residul = logit_hist - logit_pred\n",
        "residul = np.nan_to_num(residul, nan=np.nan, posinf=np.nan, neginf=np.nan)\n",
        "plt.hist(residul);\n"
      ],
      "metadata": {
        "id": "DkFkdvnriMnX",
        "outputId": "b39e416a-f99d-433d-d743-c2f0d90f4e2f",
        "colab": {
          "base_uri": "https://localhost:8080/",
          "height": 430
        }
      },
      "execution_count": 45,
      "outputs": [
        {
          "output_type": "display_data",
          "data": {
            "text/plain": [
              "<Figure size 640x480 with 1 Axes>"
            ],
            "image/png": "[encoded data removed]"
          },
          "metadata": {}
        }
      ]
    },
    {
      "cell_type": "code",
      "source": [
        "plt.scatter(logit_hist, logit_pred, alpha=0.05)\n",
        "\n"
      ],
      "metadata": {
        "id": "OpMqOLP1DRbY",
        "outputId": "aaa61b7e-1406-41e6-a53c-34409768318c",
        "colab": {
          "base_uri": "https://localhost:8080/",
          "height": 447
        }
      },
      "execution_count": 46,
      "outputs": [
        {
          "output_type": "execute_result",
          "data": {
            "text/plain": [
              "<matplotlib.collections.PathCollection at 0x789fa6a18cd0>"
            ]
          },
          "metadata": {},
          "execution_count": 46
        },
        {
          "output_type": "display_data",
          "data": {
            "text/plain": [
              "<Figure size 640x480 with 1 Axes>"
            ],
            "image/png": "[encoded data removed]"
          },
          "metadata": {}
        }
      ]
    },
    {
      "cell_type": "code",
      "source": [
        "logit_h2h = np.log(h2h / (1-h2h))\n",
        "logit_h2h = np.nan_to_num(logit_h2h, nan=np.nan, posinf=np.nan, neginf=np.nan)\n",
        "plt.hist(logit_h2h);\n"
      ],
      "metadata": {
        "id": "XRYwF2kkiM7P",
        "outputId": "0782d466-5522-4f54-938c-aa48728bfe33",
        "colab": {
          "base_uri": "https://localhost:8080/",
          "height": 430
        }
      },
      "execution_count": 47,
      "outputs": [
        {
          "output_type": "display_data",
          "data": {
            "text/plain": [
              "<Figure size 640x480 with 1 Axes>"
            ],
            "image/png": "[encoded data removed]"
          },
          "metadata": {}
        }
      ]
    },
    {
      "cell_type": "markdown",
      "source": [
        "$\\hat{y}=\\frac{1}{1+\\exp{(-x)}}$\n",
        "\n",
        "$\\hat{y}^{(0)}=\\frac{1}{1+\\exp{(-\\Delta S)}}$, $\\Delta S\\equiv S_1 - S_2$\n",
        "\n",
        "$\\hat{x}^{(1)}=\\Delta S + \\epsilon_{\\rm H}\\Delta H$\n",
        "\n",
        "Fir the residual:\n",
        "\n",
        "$R\\equiv x - \\Delta S = \\epsilon_{\\rm H}\\Delta H$.\n",
        "\n",
        "After fitting the $\\hat{\\epsilon}_{\\rm H}$, then do $\\hat{x}^{(1)} = \\Delta S + \\hat{\\epsilon}_{\\rm H}\\Delta H$"
      ],
      "metadata": {
        "id": "hbAuEXDv_ctO"
      }
    },
    {
      "cell_type": "code",
      "source": [],
      "metadata": {
        "id": "S54iINXyx7Dc"
      },
      "execution_count": 47,
      "outputs": []
    },
    {
      "cell_type": "code",
      "source": [
        "\n",
        "comb = np.array([logit_h2h, residul])\n",
        "\n",
        "comb = comb[:, ~(abs(comb)<=1e-10).any(axis=0)]\n",
        "comb = comb[:, ~(abs(comb)>=1e10).any(axis=0)]\n",
        "comb = comb[:, ~np.any(np.isnan(comb), axis=0)]"
      ],
      "metadata": {
        "id": "XTkKowYgx6hK"
      },
      "execution_count": 48,
      "outputs": []
    },
    {
      "cell_type": "code",
      "source": [
        "plt.scatter(comb[0], comb[1], alpha=0.05)\n",
        "plt.xlabel(\"$\\Delta H$\")\n",
        "plt.ylabel(\"$R$\")\n"
      ],
      "metadata": {
        "id": "5qE_Ucb83niU",
        "colab": {
          "base_uri": "https://localhost:8080/",
          "height": 466
        },
        "outputId": "acc729fb-f72f-4642-ec04-e6dc1d3cb680"
      },
      "execution_count": 49,
      "outputs": [
        {
          "output_type": "execute_result",
          "data": {
            "text/plain": [
              "Text(0, 0.5, '$R$')"
            ]
          },
          "metadata": {},
          "execution_count": 49
        },
        {
          "output_type": "display_data",
          "data": {
            "text/plain": [
              "<Figure size 640x480 with 1 Axes>"
            ],
            "image/png": "[encoded data removed]"
          },
          "metadata": {}
        }
      ]
    },
    {
      "cell_type": "code",
      "source": [
        "import statsmodels.api as sm\n",
        "x = comb[0]    # Delta H\n",
        "y = comb[1].reshape(-1, 1)    # Residual\n",
        "ols = sm.OLS(y, x)\n",
        "ols_result = ols.fit()\n",
        "print(ols_result.summary())\n",
        "eps = ols_result.params[0]\n",
        "eps"
      ],
      "metadata": {
        "id": "Yd35Z_JkmF3l",
        "colab": {
          "base_uri": "https://localhost:8080/",
          "height": 356
        },
        "outputId": "99454d78-70fc-4f02-bce9-cd13a8ac1575"
      },
      "execution_count": 50,
      "outputs": [
        {
          "output_type": "error",
          "ename": "ValueError",
          "evalue": "zero-size array to reduction operation maximum which has no identity",
          "traceback": [
            "\u001b[0;31m---------------------------------------------------------------------------\u001b[0m",
            "\u001b[0;31mValueError\u001b[0m                                Traceback (most recent call last)",
            "\u001b[0;32m<ipython-input-50-0424028e07fc>\u001b[0m in \u001b[0;36m<cell line: 0>\u001b[0;34m()\u001b[0m\n\u001b[1;32m      2\u001b[0m \u001b[0mx\u001b[0m \u001b[0;34m=\u001b[0m \u001b[0mcomb\u001b[0m\u001b[0;34m[\u001b[0m\u001b[0;36m0\u001b[0m\u001b[0;34m]\u001b[0m    \u001b[0;31m# Delta H\u001b[0m\u001b[0;34m\u001b[0m\u001b[0;34m\u001b[0m\u001b[0m\n\u001b[1;32m      3\u001b[0m \u001b[0my\u001b[0m \u001b[0;34m=\u001b[0m \u001b[0mcomb\u001b[0m\u001b[0;34m[\u001b[0m\u001b[0;36m1\u001b[0m\u001b[0;34m]\u001b[0m\u001b[0;34m.\u001b[0m\u001b[0mreshape\u001b[0m\u001b[0;34m(\u001b[0m\u001b[0;34m-\u001b[0m\u001b[0;36m1\u001b[0m\u001b[0;34m,\u001b[0m \u001b[0;36m1\u001b[0m\u001b[0;34m)\u001b[0m    \u001b[0;31m# Residual\u001b[0m\u001b[0;34m\u001b[0m\u001b[0;34m\u001b[0m\u001b[0m\n\u001b[0;32m----> 4\u001b[0;31m \u001b[0mols\u001b[0m \u001b[0;34m=\u001b[0m \u001b[0msm\u001b[0m\u001b[0;34m.\u001b[0m\u001b[0mOLS\u001b[0m\u001b[0;34m(\u001b[0m\u001b[0my\u001b[0m\u001b[0;34m,\u001b[0m \u001b[0mx\u001b[0m\u001b[0;34m)\u001b[0m\u001b[0;34m\u001b[0m\u001b[0;34m\u001b[0m\u001b[0m\n\u001b[0m\u001b[1;32m      5\u001b[0m \u001b[0mols_result\u001b[0m \u001b[0;34m=\u001b[0m \u001b[0mols\u001b[0m\u001b[0;34m.\u001b[0m\u001b[0mfit\u001b[0m\u001b[0;34m(\u001b[0m\u001b[0;34m)\u001b[0m\u001b[0;34m\u001b[0m\u001b[0;34m\u001b[0m\u001b[0m\n\u001b[1;32m      6\u001b[0m \u001b[0mprint\u001b[0m\u001b[0;34m(\u001b[0m\u001b[0mols_result\u001b[0m\u001b[0;34m.\u001b[0m\u001b[0msummary\u001b[0m\u001b[0;34m(\u001b[0m\u001b[0;34m)\u001b[0m\u001b[0;34m)\u001b[0m\u001b[0;34m\u001b[0m\u001b[0;34m\u001b[0m\u001b[0m\n",
            "\u001b[0;32m/usr/local/lib/python3.11/dist-packages/statsmodels/regression/linear_model.py\u001b[0m in \u001b[0;36m__init__\u001b[0;34m(self, endog, exog, missing, hasconst, **kwargs)\u001b[0m\n\u001b[1;32m    919\u001b[0m                    \"An exception will be raised in the next version.\")\n\u001b[1;32m    920\u001b[0m             \u001b[0mwarnings\u001b[0m\u001b[0;34m.\u001b[0m\u001b[0mwarn\u001b[0m\u001b[0;34m(\u001b[0m\u001b[0mmsg\u001b[0m\u001b[0;34m,\u001b[0m \u001b[0mValueWarning\u001b[0m\u001b[0;34m)\u001b[0m\u001b[0;34m\u001b[0m\u001b[0;34m\u001b[0m\u001b[0m\n\u001b[0;32m--> 921\u001b[0;31m         super().__init__(endog, exog, missing=missing,\n\u001b[0m\u001b[1;32m    922\u001b[0m                                   hasconst=hasconst, **kwargs)\n\u001b[1;32m    923\u001b[0m         \u001b[0;32mif\u001b[0m \u001b[0;34m\"weights\"\u001b[0m \u001b[0;32min\u001b[0m \u001b[0mself\u001b[0m\u001b[0;34m.\u001b[0m\u001b[0m_init_keys\u001b[0m\u001b[0;34m:\u001b[0m\u001b[0;34m\u001b[0m\u001b[0;34m\u001b[0m\u001b[0m\n",
            "\u001b[0;32m/usr/local/lib/python3.11/dist-packages/statsmodels/regression/linear_model.py\u001b[0m in \u001b[0;36m__init__\u001b[0;34m(self, endog, exog, weights, missing, hasconst, **kwargs)\u001b[0m\n\u001b[1;32m    744\u001b[0m         \u001b[0;32melse\u001b[0m\u001b[0;34m:\u001b[0m\u001b[0;34m\u001b[0m\u001b[0;34m\u001b[0m\u001b[0m\n\u001b[1;32m    745\u001b[0m             \u001b[0mweights\u001b[0m \u001b[0;34m=\u001b[0m \u001b[0mweights\u001b[0m\u001b[0;34m.\u001b[0m\u001b[0msqueeze\u001b[0m\u001b[0;34m(\u001b[0m\u001b[0;34m)\u001b[0m\u001b[0;34m\u001b[0m\u001b[0;34m\u001b[0m\u001b[0m\n\u001b[0;32m--> 746\u001b[0;31m         super().__init__(endog, exog, missing=missing,\n\u001b[0m\u001b[1;32m    747\u001b[0m                                   weights=weights, hasconst=hasconst, **kwargs)\n\u001b[1;32m    748\u001b[0m         \u001b[0mnobs\u001b[0m \u001b[0;34m=\u001b[0m \u001b[0mself\u001b[0m\u001b[0;34m.\u001b[0m\u001b[0mexog\u001b[0m\u001b[0;34m.\u001b[0m\u001b[0mshape\u001b[0m\u001b[0;34m[\u001b[0m\u001b[0;36m0\u001b[0m\u001b[0;34m]\u001b[0m\u001b[0;34m\u001b[0m\u001b[0;34m\u001b[0m\u001b[0m\n",
            "\u001b[0;32m/usr/local/lib/python3.11/dist-packages/statsmodels/regression/linear_model.py\u001b[0m in \u001b[0;36m__init__\u001b[0;34m(self, endog, exog, **kwargs)\u001b[0m\n\u001b[1;32m    198\u001b[0m     \"\"\"\n\u001b[1;32m    199\u001b[0m     \u001b[0;32mdef\u001b[0m \u001b[0m__init__\u001b[0m\u001b[0;34m(\u001b[0m\u001b[0mself\u001b[0m\u001b[0;34m,\u001b[0m \u001b[0mendog\u001b[0m\u001b[0;34m,\u001b[0m \u001b[0mexog\u001b[0m\u001b[0;34m,\u001b[0m \u001b[0;34m**\u001b[0m\u001b[0mkwargs\u001b[0m\u001b[0;34m)\u001b[0m\u001b[0;34m:\u001b[0m\u001b[0;34m\u001b[0m\u001b[0;34m\u001b[0m\u001b[0m\n\u001b[0;32m--> 200\u001b[0;31m         \u001b[0msuper\u001b[0m\u001b[0;34m(\u001b[0m\u001b[0;34m)\u001b[0m\u001b[0;34m.\u001b[0m\u001b[0m__init__\u001b[0m\u001b[0;34m(\u001b[0m\u001b[0mendog\u001b[0m\u001b[0;34m,\u001b[0m \u001b[0mexog\u001b[0m\u001b[0;34m,\u001b[0m \u001b[0;34m**\u001b[0m\u001b[0mkwargs\u001b[0m\u001b[0;34m)\u001b[0m\u001b[0;34m\u001b[0m\u001b[0;34m\u001b[0m\u001b[0m\n\u001b[0m\u001b[1;32m    201\u001b[0m         \u001b[0mself\u001b[0m\u001b[0;34m.\u001b[0m\u001b[0mpinv_wexog\u001b[0m\u001b[0;34m:\u001b[0m \u001b[0mFloat64Array\u001b[0m \u001b[0;34m|\u001b[0m \u001b[0;32mNone\u001b[0m \u001b[0;34m=\u001b[0m \u001b[0;32mNone\u001b[0m\u001b[0;34m\u001b[0m\u001b[0;34m\u001b[0m\u001b[0m\n\u001b[1;32m    202\u001b[0m         \u001b[0mself\u001b[0m\u001b[0;34m.\u001b[0m\u001b[0m_data_attr\u001b[0m\u001b[0;34m.\u001b[0m\u001b[0mextend\u001b[0m\u001b[0;34m(\u001b[0m\u001b[0;34m[\u001b[0m\u001b[0;34m'pinv_wexog'\u001b[0m\u001b[0;34m,\u001b[0m \u001b[0;34m'wendog'\u001b[0m\u001b[0;34m,\u001b[0m \u001b[0;34m'wexog'\u001b[0m\u001b[0;34m,\u001b[0m \u001b[0;34m'weights'\u001b[0m\u001b[0;34m]\u001b[0m\u001b[0;34m)\u001b[0m\u001b[0;34m\u001b[0m\u001b[0;34m\u001b[0m\u001b[0m\n",
            "\u001b[0;32m/usr/local/lib/python3.11/dist-packages/statsmodels/base/model.py\u001b[0m in \u001b[0;36m__init__\u001b[0;34m(self, endog, exog, **kwargs)\u001b[0m\n\u001b[1;32m    268\u001b[0m \u001b[0;34m\u001b[0m\u001b[0m\n\u001b[1;32m    269\u001b[0m     \u001b[0;32mdef\u001b[0m \u001b[0m__init__\u001b[0m\u001b[0;34m(\u001b[0m\u001b[0mself\u001b[0m\u001b[0;34m,\u001b[0m \u001b[0mendog\u001b[0m\u001b[0;34m,\u001b[0m \u001b[0mexog\u001b[0m\u001b[0;34m=\u001b[0m\u001b[0;32mNone\u001b[0m\u001b[0;34m,\u001b[0m \u001b[0;34m**\u001b[0m\u001b[0mkwargs\u001b[0m\u001b[0;34m)\u001b[0m\u001b[0;34m:\u001b[0m\u001b[0;34m\u001b[0m\u001b[0;34m\u001b[0m\u001b[0m\n\u001b[0;32m--> 270\u001b[0;31m         \u001b[0msuper\u001b[0m\u001b[0;34m(\u001b[0m\u001b[0;34m)\u001b[0m\u001b[0;34m.\u001b[0m\u001b[0m__init__\u001b[0m\u001b[0;34m(\u001b[0m\u001b[0mendog\u001b[0m\u001b[0;34m,\u001b[0m \u001b[0mexog\u001b[0m\u001b[0;34m,\u001b[0m \u001b[0;34m**\u001b[0m\u001b[0mkwargs\u001b[0m\u001b[0;34m)\u001b[0m\u001b[0;34m\u001b[0m\u001b[0;34m\u001b[0m\u001b[0m\n\u001b[0m\u001b[1;32m    271\u001b[0m         \u001b[0mself\u001b[0m\u001b[0;34m.\u001b[0m\u001b[0minitialize\u001b[0m\u001b[0;34m(\u001b[0m\u001b[0;34m)\u001b[0m\u001b[0;34m\u001b[0m\u001b[0;34m\u001b[0m\u001b[0m\n\u001b[1;32m    272\u001b[0m \u001b[0;34m\u001b[0m\u001b[0m\n",
            "\u001b[0;32m/usr/local/lib/python3.11/dist-packages/statsmodels/base/model.py\u001b[0m in \u001b[0;36m__init__\u001b[0;34m(self, endog, exog, **kwargs)\u001b[0m\n\u001b[1;32m     93\u001b[0m         \u001b[0mmissing\u001b[0m \u001b[0;34m=\u001b[0m \u001b[0mkwargs\u001b[0m\u001b[0;34m.\u001b[0m\u001b[0mpop\u001b[0m\u001b[0;34m(\u001b[0m\u001b[0;34m'missing'\u001b[0m\u001b[0;34m,\u001b[0m \u001b[0;34m'none'\u001b[0m\u001b[0;34m)\u001b[0m\u001b[0;34m\u001b[0m\u001b[0;34m\u001b[0m\u001b[0m\n\u001b[1;32m     94\u001b[0m         \u001b[0mhasconst\u001b[0m \u001b[0;34m=\u001b[0m \u001b[0mkwargs\u001b[0m\u001b[0;34m.\u001b[0m\u001b[0mpop\u001b[0m\u001b[0;34m(\u001b[0m\u001b[0;34m'hasconst'\u001b[0m\u001b[0;34m,\u001b[0m \u001b[0;32mNone\u001b[0m\u001b[0;34m)\u001b[0m\u001b[0;34m\u001b[0m\u001b[0;34m\u001b[0m\u001b[0m\n\u001b[0;32m---> 95\u001b[0;31m         self.data = self._handle_data(endog, exog, missing, hasconst,\n\u001b[0m\u001b[1;32m     96\u001b[0m                                       **kwargs)\n\u001b[1;32m     97\u001b[0m         \u001b[0mself\u001b[0m\u001b[0;34m.\u001b[0m\u001b[0mk_constant\u001b[0m \u001b[0;34m=\u001b[0m \u001b[0mself\u001b[0m\u001b[0;34m.\u001b[0m\u001b[0mdata\u001b[0m\u001b[0;34m.\u001b[0m\u001b[0mk_constant\u001b[0m\u001b[0;34m\u001b[0m\u001b[0;34m\u001b[0m\u001b[0m\n",
            "\u001b[0;32m/usr/local/lib/python3.11/dist-packages/statsmodels/base/model.py\u001b[0m in \u001b[0;36m_handle_data\u001b[0;34m(self, endog, exog, missing, hasconst, **kwargs)\u001b[0m\n\u001b[1;32m    133\u001b[0m \u001b[0;34m\u001b[0m\u001b[0m\n\u001b[1;32m    134\u001b[0m     \u001b[0;32mdef\u001b[0m \u001b[0m_handle_data\u001b[0m\u001b[0;34m(\u001b[0m\u001b[0mself\u001b[0m\u001b[0;34m,\u001b[0m \u001b[0mendog\u001b[0m\u001b[0;34m,\u001b[0m \u001b[0mexog\u001b[0m\u001b[0;34m,\u001b[0m \u001b[0mmissing\u001b[0m\u001b[0;34m,\u001b[0m \u001b[0mhasconst\u001b[0m\u001b[0;34m,\u001b[0m \u001b[0;34m**\u001b[0m\u001b[0mkwargs\u001b[0m\u001b[0;34m)\u001b[0m\u001b[0;34m:\u001b[0m\u001b[0;34m\u001b[0m\u001b[0;34m\u001b[0m\u001b[0m\n\u001b[0;32m--> 135\u001b[0;31m         \u001b[0mdata\u001b[0m \u001b[0;34m=\u001b[0m \u001b[0mhandle_data\u001b[0m\u001b[0;34m(\u001b[0m\u001b[0mendog\u001b[0m\u001b[0;34m,\u001b[0m \u001b[0mexog\u001b[0m\u001b[0;34m,\u001b[0m \u001b[0mmissing\u001b[0m\u001b[0;34m,\u001b[0m \u001b[0mhasconst\u001b[0m\u001b[0;34m,\u001b[0m \u001b[0;34m**\u001b[0m\u001b[0mkwargs\u001b[0m\u001b[0;34m)\u001b[0m\u001b[0;34m\u001b[0m\u001b[0;34m\u001b[0m\u001b[0m\n\u001b[0m\u001b[1;32m    136\u001b[0m         \u001b[0;31m# kwargs arrays could have changed, easier to just attach here\u001b[0m\u001b[0;34m\u001b[0m\u001b[0;34m\u001b[0m\u001b[0m\n\u001b[1;32m    137\u001b[0m         \u001b[0;32mfor\u001b[0m \u001b[0mkey\u001b[0m \u001b[0;32min\u001b[0m \u001b[0mkwargs\u001b[0m\u001b[0;34m:\u001b[0m\u001b[0;34m\u001b[0m\u001b[0;34m\u001b[0m\u001b[0m\n",
            "\u001b[0;32m/usr/local/lib/python3.11/dist-packages/statsmodels/base/data.py\u001b[0m in \u001b[0;36mhandle_data\u001b[0;34m(endog, exog, missing, hasconst, **kwargs)\u001b[0m\n\u001b[1;32m    673\u001b[0m \u001b[0;34m\u001b[0m\u001b[0m\n\u001b[1;32m    674\u001b[0m     \u001b[0mklass\u001b[0m \u001b[0;34m=\u001b[0m \u001b[0mhandle_data_class_factory\u001b[0m\u001b[0;34m(\u001b[0m\u001b[0mendog\u001b[0m\u001b[0;34m,\u001b[0m \u001b[0mexog\u001b[0m\u001b[0;34m)\u001b[0m\u001b[0;34m\u001b[0m\u001b[0;34m\u001b[0m\u001b[0m\n\u001b[0;32m--> 675\u001b[0;31m     return klass(endog, exog=exog, missing=missing, hasconst=hasconst,\n\u001b[0m\u001b[1;32m    676\u001b[0m                  **kwargs)\n",
            "\u001b[0;32m/usr/local/lib/python3.11/dist-packages/statsmodels/base/data.py\u001b[0m in \u001b[0;36m__init__\u001b[0;34m(self, endog, exog, missing, hasconst, **kwargs)\u001b[0m\n\u001b[1;32m     86\u001b[0m         \u001b[0mself\u001b[0m\u001b[0;34m.\u001b[0m\u001b[0mconst_idx\u001b[0m \u001b[0;34m=\u001b[0m \u001b[0;32mNone\u001b[0m\u001b[0;34m\u001b[0m\u001b[0;34m\u001b[0m\u001b[0m\n\u001b[1;32m     87\u001b[0m         \u001b[0mself\u001b[0m\u001b[0;34m.\u001b[0m\u001b[0mk_constant\u001b[0m \u001b[0;34m=\u001b[0m \u001b[0;36m0\u001b[0m\u001b[0;34m\u001b[0m\u001b[0;34m\u001b[0m\u001b[0m\n\u001b[0;32m---> 88\u001b[0;31m         \u001b[0mself\u001b[0m\u001b[0;34m.\u001b[0m\u001b[0m_handle_constant\u001b[0m\u001b[0;34m(\u001b[0m\u001b[0mhasconst\u001b[0m\u001b[0;34m)\u001b[0m\u001b[0;34m\u001b[0m\u001b[0;34m\u001b[0m\u001b[0m\n\u001b[0m\u001b[1;32m     89\u001b[0m         \u001b[0mself\u001b[0m\u001b[0;34m.\u001b[0m\u001b[0m_check_integrity\u001b[0m\u001b[0;34m(\u001b[0m\u001b[0;34m)\u001b[0m\u001b[0;34m\u001b[0m\u001b[0;34m\u001b[0m\u001b[0m\n\u001b[1;32m     90\u001b[0m         \u001b[0mself\u001b[0m\u001b[0;34m.\u001b[0m\u001b[0m_cache\u001b[0m \u001b[0;34m=\u001b[0m \u001b[0;34m{\u001b[0m\u001b[0;34m}\u001b[0m\u001b[0;34m\u001b[0m\u001b[0;34m\u001b[0m\u001b[0m\n",
            "\u001b[0;32m/usr/local/lib/python3.11/dist-packages/statsmodels/base/data.py\u001b[0m in \u001b[0;36m_handle_constant\u001b[0;34m(self, hasconst)\u001b[0m\n\u001b[1;32m    130\u001b[0m             \u001b[0;31m# detect where the constant is\u001b[0m\u001b[0;34m\u001b[0m\u001b[0;34m\u001b[0m\u001b[0m\n\u001b[1;32m    131\u001b[0m             \u001b[0mcheck_implicit\u001b[0m \u001b[0;34m=\u001b[0m \u001b[0;32mFalse\u001b[0m\u001b[0;34m\u001b[0m\u001b[0;34m\u001b[0m\u001b[0m\n\u001b[0;32m--> 132\u001b[0;31m             \u001b[0mexog_max\u001b[0m \u001b[0;34m=\u001b[0m \u001b[0mnp\u001b[0m\u001b[0;34m.\u001b[0m\u001b[0mmax\u001b[0m\u001b[0;34m(\u001b[0m\u001b[0mself\u001b[0m\u001b[0;34m.\u001b[0m\u001b[0mexog\u001b[0m\u001b[0;34m,\u001b[0m \u001b[0maxis\u001b[0m\u001b[0;34m=\u001b[0m\u001b[0;36m0\u001b[0m\u001b[0;34m)\u001b[0m\u001b[0;34m\u001b[0m\u001b[0;34m\u001b[0m\u001b[0m\n\u001b[0m\u001b[1;32m    133\u001b[0m             \u001b[0;32mif\u001b[0m \u001b[0;32mnot\u001b[0m \u001b[0mnp\u001b[0m\u001b[0;34m.\u001b[0m\u001b[0misfinite\u001b[0m\u001b[0;34m(\u001b[0m\u001b[0mexog_max\u001b[0m\u001b[0;34m)\u001b[0m\u001b[0;34m.\u001b[0m\u001b[0mall\u001b[0m\u001b[0;34m(\u001b[0m\u001b[0;34m)\u001b[0m\u001b[0;34m:\u001b[0m\u001b[0;34m\u001b[0m\u001b[0;34m\u001b[0m\u001b[0m\n\u001b[1;32m    134\u001b[0m                 \u001b[0;32mraise\u001b[0m \u001b[0mMissingDataError\u001b[0m\u001b[0;34m(\u001b[0m\u001b[0;34m'exog contains inf or nans'\u001b[0m\u001b[0;34m)\u001b[0m\u001b[0;34m\u001b[0m\u001b[0;34m\u001b[0m\u001b[0m\n",
            "\u001b[0;32m/usr/local/lib/python3.11/dist-packages/numpy/core/fromnumeric.py\u001b[0m in \u001b[0;36mmax\u001b[0;34m(a, axis, out, keepdims, initial, where)\u001b[0m\n\u001b[1;32m   2808\u001b[0m     \u001b[0;36m5\u001b[0m\u001b[0;34m\u001b[0m\u001b[0;34m\u001b[0m\u001b[0m\n\u001b[1;32m   2809\u001b[0m     \"\"\"\n\u001b[0;32m-> 2810\u001b[0;31m     return _wrapreduction(a, np.maximum, 'max', axis, None, out,\n\u001b[0m\u001b[1;32m   2811\u001b[0m                           keepdims=keepdims, initial=initial, where=where)\n\u001b[1;32m   2812\u001b[0m \u001b[0;34m\u001b[0m\u001b[0m\n",
            "\u001b[0;32m/usr/local/lib/python3.11/dist-packages/numpy/core/fromnumeric.py\u001b[0m in \u001b[0;36m_wrapreduction\u001b[0;34m(obj, ufunc, method, axis, dtype, out, **kwargs)\u001b[0m\n\u001b[1;32m     86\u001b[0m                 \u001b[0;32mreturn\u001b[0m \u001b[0mreduction\u001b[0m\u001b[0;34m(\u001b[0m\u001b[0maxis\u001b[0m\u001b[0;34m=\u001b[0m\u001b[0maxis\u001b[0m\u001b[0;34m,\u001b[0m \u001b[0mout\u001b[0m\u001b[0;34m=\u001b[0m\u001b[0mout\u001b[0m\u001b[0;34m,\u001b[0m \u001b[0;34m**\u001b[0m\u001b[0mpasskwargs\u001b[0m\u001b[0;34m)\u001b[0m\u001b[0;34m\u001b[0m\u001b[0;34m\u001b[0m\u001b[0m\n\u001b[1;32m     87\u001b[0m \u001b[0;34m\u001b[0m\u001b[0m\n\u001b[0;32m---> 88\u001b[0;31m     \u001b[0;32mreturn\u001b[0m \u001b[0mufunc\u001b[0m\u001b[0;34m.\u001b[0m\u001b[0mreduce\u001b[0m\u001b[0;34m(\u001b[0m\u001b[0mobj\u001b[0m\u001b[0;34m,\u001b[0m \u001b[0maxis\u001b[0m\u001b[0;34m,\u001b[0m \u001b[0mdtype\u001b[0m\u001b[0;34m,\u001b[0m \u001b[0mout\u001b[0m\u001b[0;34m,\u001b[0m \u001b[0;34m**\u001b[0m\u001b[0mpasskwargs\u001b[0m\u001b[0;34m)\u001b[0m\u001b[0;34m\u001b[0m\u001b[0;34m\u001b[0m\u001b[0m\n\u001b[0m\u001b[1;32m     89\u001b[0m \u001b[0;34m\u001b[0m\u001b[0m\n\u001b[1;32m     90\u001b[0m \u001b[0;34m\u001b[0m\u001b[0m\n",
            "\u001b[0;31mValueError\u001b[0m: zero-size array to reduction operation maximum which has no identity"
          ]
        }
      ]
    },
    {
      "cell_type": "code",
      "source": [
        "from sklearn.linear_model import LinearRegression\n",
        "reg = LinearRegression().fit(x.reshape(-1, 1), y)\n",
        "reg.coef_\n"
      ],
      "metadata": {
        "id": "WztrjNbtKtTV"
      },
      "execution_count": null,
      "outputs": []
    },
    {
      "cell_type": "code",
      "source": [
        "\n",
        "plt.scatter(reg.predict(x.reshape(-1, 1)), y, alpha=0.05)\n",
        "# plt.scatter(x, y, alpha=0.05)"
      ],
      "metadata": {
        "id": "NUXBCR4VLGpu"
      },
      "execution_count": null,
      "outputs": []
    },
    {
      "cell_type": "code",
      "source": [
        "import matplotlib.cm as cm\n",
        "from scipy.ndimage.filters import gaussian_filter\n",
        "\n",
        "\n",
        "def myplot(x, y, s, bins=1000):\n",
        "    heatmap, xedges, yedges = np.histogram2d(x, y, bins=bins)\n",
        "    heatmap = gaussian_filter(heatmap, sigma=s)\n",
        "\n",
        "    extent = [xedges[0], xedges[-1], yedges[0], yedges[-1]]\n",
        "    return heatmap.T, extent\n",
        "\n",
        "\n",
        "fig, axs = plt.subplots(2, 2)\n",
        "\n",
        "# Generate some test data\n",
        "x, y = comb[0], comb[1]\n",
        "\n",
        "sigmas = [0, 16, 32, 64]\n",
        "\n",
        "for ax, s in zip(axs.flatten(), sigmas):\n",
        "    if s == 0:\n",
        "        ax.plot(x, y, 'k.', markersize=5)\n",
        "        ax.set_title(\"Scatter plot\")\n",
        "    else:\n",
        "        img, extent = myplot(x, y, s)\n",
        "        ax.imshow(img, origin='lower', cmap=cm.jet)\n",
        "        ax.set_title(\"Smoothing with  $\\sigma$ = %d\" % s)\n",
        "\n",
        "plt.tight_layout()\n",
        "plt.show()"
      ],
      "metadata": {
        "id": "91PJbu4chHJo"
      },
      "execution_count": null,
      "outputs": []
    },
    {
      "cell_type": "code",
      "source": [
        "heatmap, xedges, yedges = np.histogram2d(x, y, bins=50)\n",
        "extent = [xedges[0], xedges[-1], yedges[0], yedges[-1]]\n",
        "\n",
        "plt.clf()\n",
        "plt.imshow(heatmap.T, extent=extent, origin='lower')\n",
        "plt.show()"
      ],
      "metadata": {
        "id": "TkoKPhWdmF63"
      },
      "execution_count": null,
      "outputs": []
    },
    {
      "cell_type": "code",
      "source": [
        "eps = 0.23\n",
        "y_rot = logit_pred + eps*logit_h2h\n",
        "comb_rot = np.array([y_rot, logit_hist])\n",
        "\n",
        "y_rot = eps*logit_h2h\n",
        "comb_rot = np.array([y_rot, residul])\n",
        "\n",
        "comb_rot = comb_rot[:, ~(abs(comb_rot)<=1e-10).any(axis=0)]\n",
        "comb_rot = comb_rot[:, ~(abs(comb_rot)>=1e10).any(axis=0)]\n",
        "comb_rot = comb_rot[:, ~np.any(np.isnan(comb_rot), axis=0)]\n",
        "\n",
        "\n",
        "heatmap, xedges, yedges = np.histogram2d(comb_rot[0], comb_rot[1], bins=50)\n",
        "extent = [xedges[0], xedges[-1], yedges[0], yedges[-1]]\n",
        "\n",
        "plt.clf()\n",
        "plt.imshow(heatmap.T, extent=extent, origin='lower')\n",
        "plt.show()"
      ],
      "metadata": {
        "id": "0GkCbSo4mF-j"
      },
      "execution_count": null,
      "outputs": []
    },
    {
      "cell_type": "code",
      "source": [
        "y_rot = reg.predict(np.nan_to_num(logit_h2h.reshape(-1, 1), 0)).reshape(1, -1)[0] + logit_pred\n",
        "pred_1 = 1 / (1 + np.exp(-y_rot))\n"
      ],
      "metadata": {
        "id": "YXhEKYGNhHD7"
      },
      "execution_count": null,
      "outputs": []
    },
    {
      "cell_type": "code",
      "source": [
        "plt.scatter(pred_1, pred, alpha=0.05)"
      ],
      "metadata": {
        "id": "dETcWK2BMHm1"
      },
      "execution_count": null,
      "outputs": []
    },
    {
      "cell_type": "code",
      "source": [],
      "metadata": {
        "id": "GFANnD_YO8FA"
      },
      "execution_count": null,
      "outputs": []
    },
    {
      "cell_type": "code",
      "source": [
        "logit_hist = np.log(hist / (1-hist))\n",
        "\n",
        "residul = logit_hist - y_rot\n",
        "residul = np.nan_to_num(residul, nan=np.nan, posinf=np.nan, neginf=np.nan)\n",
        "plt.hist(residul, histtype='step', range=[-3.5, 3.5], bins=10);\n",
        "\n",
        "logit_hist = np.log(hist / (1-hist))\n",
        "logit_pred = np.log(pred / (1-pred))\n",
        "residul = logit_hist - logit_pred\n",
        "residul = np.nan_to_num(residul, nan=np.nan, posinf=np.nan, neginf=np.nan)\n",
        "plt.hist(residul, histtype='step', range=[-3.5, 3.5], bins=10);\n"
      ],
      "metadata": {
        "id": "8Z9qMBfCO7Yq"
      },
      "execution_count": null,
      "outputs": []
    },
    {
      "cell_type": "code",
      "source": [
        "sum(np.round(hist) == np.round(pred)) / len(hist)"
      ],
      "metadata": {
        "id": "_1m7AnaiLT9n"
      },
      "execution_count": null,
      "outputs": []
    },
    {
      "cell_type": "code",
      "source": [
        "sum(np.round(hist) == np.round(y_rot.reshape(1, -1)[0])) / len(hist)"
      ],
      "metadata": {
        "id": "oWEAssb8LUAx"
      },
      "execution_count": null,
      "outputs": []
    },
    {
      "cell_type": "code",
      "source": [],
      "metadata": {
        "id": "E9Tk5zURLUHU"
      },
      "execution_count": null,
      "outputs": []
    },
    {
      "cell_type": "code",
      "source": [],
      "metadata": {
        "id": "p-5XSM4KLUKv"
      },
      "execution_count": null,
      "outputs": []
    },
    {
      "cell_type": "markdown",
      "source": [
        "# New Model with H2H"
      ],
      "metadata": {
        "id": "7Ik8UoXE_uo3"
      }
    },
    {
      "cell_type": "code",
      "source": [
        "import numpy as np\n",
        "from tqdm import tqdm\n",
        "from math import comb\n",
        "\n",
        "\n",
        "\n",
        "class RatingSystem2:\n",
        "\n",
        "    def __init__(self, learning_rate=32, binary=False, verbose=False):\n",
        "\n",
        "        if not isinstance(learning_rate, (float, int)):\n",
        "            raise TypeError(f\"Expected 'learning_rate' to be an float/int, but got {type(learning_rate).__name__}\")\n",
        "        if learning_rate <= 0:\n",
        "            raise ValueError(f\"Expected 'learning_rate' to be positive, but got {learning_rate}\")\n",
        "\n",
        "        if not isinstance(verbose, bool):\n",
        "            raise TypeError(f\"Expected 'verbose' to be an bool, but got {type(verbose).__name__}\")\n",
        "\n",
        "        self.params = {}\n",
        "        self.learning_rate = learning_rate\n",
        "        self.binary = binary\n",
        "        self.verbose = verbose\n",
        "\n",
        "        self._found_p1 = None\n",
        "        self._found_p2 = None\n",
        "\n",
        "\n",
        "\n",
        "    @staticmethod\n",
        "    def _add_sigma(sigma1, sigma2):\n",
        "        return np.sqrt(sigma1**2 + sigma2**2)\n",
        "\n",
        "\n",
        "\n",
        "    @staticmethod\n",
        "    def _logit(p):\n",
        "        return np.log(p / (1 - p))\n",
        "\n",
        "\n",
        "\n",
        "    @staticmethod\n",
        "    def predict_set_config_from_p(p):\n",
        "        q = 1 - p\n",
        "        dt = {}\n",
        "        # Calculate probabilities for the first 10+ points won by player 1\n",
        "        for i in range(10):\n",
        "            prob = comb(10 + i, 10) * p**11 * q**i\n",
        "            dt[10 + i + 1] = prob  # Store probability for player 1 winning 11, 12, ... points\n",
        "        # Calculate probability for the special case of winning exactly 22 points\n",
        "        dt[22] = (1 / (1 - 2 * q * p)) * comb(20, 10) * p**12 * q**10\n",
        "        return dt\n",
        "\n",
        "\n",
        "\n",
        "    @staticmethod\n",
        "    def predict_game_config_from_p(p, n_win_sets=3):\n",
        "        # Ensure n_win_sets is odd\n",
        "        if n_win_sets % 2 == 0:\n",
        "            raise ValueError(\"'n_win_sets' must be an odd number.\")\n",
        "        q = 1 - p\n",
        "        dt = {}\n",
        "        # Calculate probabilities for winning n_win_sets, n_win_sets+1, ...\n",
        "        for i in range(n_win_sets):\n",
        "            prob = comb(n_win_sets - 1 + i, n_win_sets - 1) * p**n_win_sets * q**i\n",
        "            dt[n_win_sets + i] = prob  # Store probability for winning sets\n",
        "        return dt\n",
        "\n",
        "\n",
        "\n",
        "    def get_player_param(self, player):\n",
        "        return self._get_player_param(player)\n",
        "\n",
        "\n",
        "\n",
        "    def _predict_point(self, player1, player2, feature=None):\n",
        "        \"\"\"\n",
        "        Predict the probability of Player 1 winning a point against Player 2.\n",
        "\n",
        "        :param player1: Name of Player 1.\n",
        "        :param player2: Name of Player 2.\n",
        "        :return: Probability of Player 1 winning a point.\n",
        "        \"\"\"\n",
        "        self._prediction_verbose(player1, player1)\n",
        "        self._found_p1, param1 = self._get_player_param(player1)\n",
        "        self._found_p2, param2 = self._get_player_param(player2)\n",
        "        prob = self._expected_prob(param1, param2)\n",
        "        if feature is not None:\n",
        "            prob = self._correction_prob(prob, feature)\n",
        "        return prob\n",
        "\n",
        "\n",
        "\n",
        "    def predict_point(self, player1, player2, feature=None):\n",
        "        p = self._predict_point(player1, player2, feature)\n",
        "        return self._found_p1, self._found_p2, p\n",
        "\n",
        "\n",
        "    def predict_set_config(self, player1, player2, feature=None):\n",
        "        \"\"\"\n",
        "        Predict the probability of Player 1 winning a set against Player 2,\n",
        "        with total points being 'n', in the set.\n",
        "        For each possible 'n', calculate the corresponding prob.\n",
        "\n",
        "        :param player1: Name of Player 1.\n",
        "        :param player2: Name of Player 2.\n",
        "        :return: dict of probabilities of Player 1 winning the set with total 'n' points.\n",
        "        \"\"\"\n",
        "        ps = self.predict_set_config_from_p(self._predict_point(player1, player2, feature))\n",
        "        return self._found_p1, self._found_p2, ps\n",
        "\n",
        "\n",
        "    def predict_set(self, player1, player2, feature=None):\n",
        "        \"\"\"\n",
        "        Predict the probability of Player 1 winning a set against Player 2,\n",
        "\n",
        "        :param player1: Name of Player 1.\n",
        "        :param player2: Name of Player 2.\n",
        "        :return: Probability of Player 1 winning the set\n",
        "        \"\"\"\n",
        "        _, _, ps = self.predict_set_config(player1, player2, feature)\n",
        "        return self._found_p1, self._found_p2, sum(ps.values())\n",
        "\n",
        "\n",
        "    def predict_game_config(self, player1, player2, feature=None, n_win_sets=3):\n",
        "        \"\"\"\n",
        "        Predict the probability of Player 1 winning the game against Player 2,\n",
        "        with total number of sets being 'n', in the game.\n",
        "        For each possible 'n', calculate the corresponding prob.\n",
        "\n",
        "        :param player1: Name of Player 1.\n",
        "        :param player2: Name of Player 2.\n",
        "        :param n_win_sets: Number of winning sets to win the game\n",
        "        :return: dict of probabilities of Player 1 winning the game with total 'n' sets.\n",
        "        \"\"\"\n",
        "        _, _, p_set = self.predict_set(player1, player2, feature)\n",
        "        p = self.predict_game_config_from_p(p_set, n_win_sets)\n",
        "        return self._found_p1, self._found_p2, p\n",
        "\n",
        "\n",
        "    def predict_game(self, player1, player2, feature=None):\n",
        "        \"\"\"\n",
        "        Predict the probability of Player 1 winning the game against Player 2,\n",
        "\n",
        "        :param player1: Name of Player 1.\n",
        "        :param player2: Name of Player 2.\n",
        "        :return: Probability of Player 1 winning the game\n",
        "        \"\"\"\n",
        "        _, _, ps = self.predict_game_config(player1, player2, feature)\n",
        "        return self._found_p1, self._found_p2, sum(ps.values())\n",
        "\n",
        "\n",
        "\n",
        "    def fit(self, dataset, features=None):\n",
        "        \"\"\"\n",
        "        Fit the model to a dataset of matches.\n",
        "\n",
        "        :param dataset: an array with shape (m, 2, s)\n",
        "                        with m = number of matches\n",
        "                             2 = 1v1\n",
        "                             s = max number of sets in the dataset\n",
        "                        Note that it must be sorted with time\n",
        "                        for example:\n",
        "                        array([[['Reitspies D.', 11.0, 11.0, ..., nan, nan, nan],\n",
        "                                ['Gavlas A.', 9.0, 9.0, ..., nan, nan, nan]],\n",
        "\n",
        "                            [['Kleprlik J.', 3.0, 4.0, ..., nan, nan, nan],\n",
        "                                ['Prokopcov D.', 11.0, 11.0, ..., nan, nan, nan]],\n",
        "\n",
        "                            [['Horejsi M.', 11.0, 11.0, ..., 7.0, 9.0, nan],\n",
        "                                ['Tregler T.', 4.0, 8.0, ..., 11.0, 11.0, nan]],\n",
        "        \"\"\"\n",
        "        # loop over matches\n",
        "        for matchi in tqdm(dataset, desc=\"Training model\"):\n",
        "            matchi = matchi.T\n",
        "            # the first row are the players\n",
        "            player1, player2 = matchi[1]\n",
        "            id = matchi[0, 0]\n",
        "            feature = features[id] if features is not None else None\n",
        "\n",
        "            # loop over sets in the match\n",
        "            for seti in matchi[2:]:\n",
        "                points1, points2 = seti\n",
        "                # skip nan entries\n",
        "                if np.isnan(points1) or np.isnan(points2): continue\n",
        "                # skip total points = 0\n",
        "                points_sum = points1 + points2\n",
        "                if points_sum == 0: continue\n",
        "\n",
        "                result1 = points1 / points_sum\n",
        "                if self.binary: result1 = result1 = 1 if result1 > 0.5 else 0\n",
        "\n",
        "                # Add players to the system if they are not already in\n",
        "                self._add_player(player1)\n",
        "                self._add_player(player2)\n",
        "\n",
        "                # Update ratings based on the match result\n",
        "                if feature is not None:\n",
        "\n",
        "                    self._update_params(player1, player2, result1, feature)\n",
        "                else:\n",
        "                    self._update_params(player1, player2, result1)\n",
        "\n",
        "\n",
        "\n"
      ],
      "metadata": {
        "id": "QS29QoCVB27T"
      },
      "execution_count": 51,
      "outputs": []
    },
    {
      "cell_type": "code",
      "source": [
        "\n",
        "\n",
        "\n",
        "class ModifiedEloH2H(RatingSystem2):\n",
        "    def __init__(self, learning_rate=0.1, base_param=(0, 1), eps_h2h=0.1, update_sigma=True, binary=False, verbose=False):\n",
        "        \"\"\"\n",
        "        Initialize the rating system.\n",
        "\n",
        "        :param learning_rate: Learning rate.\n",
        "        :param params: Parameters for the players.\n",
        "        :param update_sigma: Update also sigma during the gradient descent.\n",
        "        \"\"\"\n",
        "        super().__init__(learning_rate=learning_rate, binary=binary, verbose=verbose)\n",
        "\n",
        "        if not isinstance(base_param, tuple):\n",
        "            raise TypeError(f\"Expected 'base_param' to be a tuple, but got {type(base_param).__name__}\")\n",
        "        if len(base_param) != 2:\n",
        "            raise ValueError(f\"Expected 'value' to be a 2-entry tuple, but got {len(base_param)} entries\")\n",
        "        if not all(isinstance(entry, (int, float)) for entry in base_param):\n",
        "            raise TypeError(\"Both entries in 'base_param' must be float/int\")\n",
        "        if base_param[1] <= 0:\n",
        "            raise ValueError(f\"The second entry in 'base_param' must be greater than 0, but got {base_param[1]}\")\n",
        "\n",
        "        if not isinstance(update_sigma, bool):\n",
        "            raise TypeError(f\"Expected 'update_sigma' to be an bool, but got {type(update_sigma).__name__}\")\n",
        "\n",
        "        self.params = {}\n",
        "        self.eps_h2h = eps_h2h\n",
        "        self.base_param = base_param\n",
        "        self.update_sigma = update_sigma\n",
        "\n",
        "\n",
        "\n",
        "    def __repr__(self):\n",
        "        return f\"ModifiedElo(learning_rate={self.learning_rate}, base_param={self.base_param}, update_sigma={self.update_sigma}, verbose={self.verbose})\"\n",
        "\n",
        "\n",
        "\n",
        "\n",
        "\n",
        "\n",
        "    def _get_player_param(self, player):\n",
        "        \"\"\"\n",
        "        Retrieve the current rating of a player. If the player does not exist, use the default.\n",
        "\n",
        "        :param player: The player's name.\n",
        "        :return: Current rating of the player.\n",
        "        \"\"\"\n",
        "        return (player in self.params), self.params.get(player, self.base_param)\n",
        "\n",
        "\n",
        "\n",
        "\n",
        "    def _expected_prob(self, param1, param2):\n",
        "        \"\"\"\n",
        "        Calculate the expected prob. of winning a point.\n",
        "\n",
        "        :param param1: Parameters of Player 1.\n",
        "        :param param2: Parameters of Player 2.\n",
        "        :return: Expected prob for Player 1.\n",
        "        \"\"\"\n",
        "        # Calculate the combined sigma and the difference in mu values\n",
        "        z = (param1[0] - param2[0]) / self._add_sigma(param1[1], param2[1])\n",
        "        # Calculate the predicted probability using the logistic function\n",
        "        return 1 / (1 + np.exp(-z))\n",
        "\n",
        "\n",
        "\n",
        "    def _correction_prob(self, prob, h2h):\n",
        "        logit_prob = self._logit(prob)\n",
        "        logit_h2h = self._logit(h2h)\n",
        "        z = logit_prob + self.eps_h2h * logit_h2h\n",
        "        return 1 / (1 + np.exp(-z))\n",
        "\n",
        "\n",
        "\n",
        "    def _prediction_verbose(self, player1, player2):\n",
        "        if self.verbose:\n",
        "            for player in (player1, player2):\n",
        "                if player not in self.params:\n",
        "                    print(f'Player \"{player}\" not found. Initialize param: {self.base_param}')\n",
        "\n",
        "\n",
        "\n",
        "    def _add_player(self, player, param=None):\n",
        "        \"\"\"\n",
        "        Add a new player with an optional custom param.\n",
        "\n",
        "        :param player: Name of the player.\n",
        "        :param rating: Custom initial rating (defaults to base_rating if not provided).\n",
        "        \"\"\"\n",
        "        if player not in self.params:\n",
        "            self.params[player] = param if param is not None else self.base_param\n",
        "\n",
        "\n",
        "\n",
        "    def display_params(self, round_digits=2, first_n=None):\n",
        "        \"\"\"\n",
        "        Display the current ratings of all players, rounded to the specified number of digits.\n",
        "\n",
        "        :param round_digits: Number of decimal places to round the parameters. Default is 2.\n",
        "        :param first_n: If specified, only display the top `first_n` players based on their ratings.\n",
        "        \"\"\"\n",
        "        # Sort players by the first element of their parameter tuple in descending order\n",
        "        sorted_params = sorted(self.params.items(), key=lambda x: x[1][0], reverse=True)\n",
        "\n",
        "        # Limit the list to the first `first_n` players if specified\n",
        "        if first_n is not None:\n",
        "            sorted_params = sorted_params[:first_n]\n",
        "\n",
        "        # Display the parameters\n",
        "        for player, param in sorted_params:\n",
        "            rounded_param = tuple(round(value, round_digits) for value in param)\n",
        "            print(f\"{player}: {rounded_param}\")\n",
        "\n",
        "\n",
        "\n",
        "    def _update_eps(self, expected1, result1, h2h):\n",
        "        return (expected1 - result1) * self._logit(h2h)\n",
        "\n",
        "\n",
        "\n",
        "\n",
        "    def _update_params(self, player1, player2, result1, h2h):\n",
        "        \"\"\"\n",
        "        Update ratings for two players after a match.\n",
        "\n",
        "        :param player1: Name or identifier of Player 1.\n",
        "        :param player2: Name or identifier of Player 2.\n",
        "        :param result1: Result for Player 1 (points1 / points_tot).\n",
        "        \"\"\"\n",
        "        found_p1, param1 = self.get_player_param(player1)\n",
        "        found_p2, param2 = self.get_player_param(player2)\n",
        "\n",
        "        expected1 = self._expected_prob(param1, param2)\n",
        "        expected1 = self._correction_prob(expected1, h2h)\n",
        "        mu_diff = param1[0] - param2[0]\n",
        "        sigma_tot = self._add_sigma(param1[1], param2[1])\n",
        "\n",
        "        # Calculate updates\n",
        "        mu1_update = (expected1 - result1) / sigma_tot\n",
        "        mu2_update = - (expected1 - result1) / sigma_tot\n",
        "        sigma1_update = sigma2_update = 0\n",
        "        if self.update_sigma:\n",
        "            sigma1_update = (-mu_diff * param1[1]) / sigma_tot**3 * (expected1 - result1)\n",
        "            sigma2_update = (-mu_diff * param2[1]) / sigma_tot**3 * (expected1 - result1)\n",
        "\n",
        "        # Update ratings and assign new tuples\n",
        "        self.params[player1] = (\n",
        "            param1[0] - self.learning_rate * mu1_update,\n",
        "            param1[1] - self.learning_rate * sigma1_update\n",
        "        )\n",
        "        self.params[player2] = (\n",
        "            param2[0] - self.learning_rate * mu2_update,\n",
        "            param2[1] - self.learning_rate * sigma2_update\n",
        "        )\n",
        "        self.eps_h2h = self.eps_h2h - self.learning_rate * self._update_eps(expected1, result1, h2h)\n",
        "\n",
        "\n",
        "\n",
        "\n",
        "\n"
      ],
      "metadata": {
        "id": "pT6ThYQELUOH"
      },
      "execution_count": 52,
      "outputs": []
    },
    {
      "cell_type": "code",
      "source": [
        "\n",
        "class ModifiedEloH2H_none(RatingSystem2):\n",
        "    def __init__(self, learning_rate=0.1, base_param=(0, 1), update_sigma=True, binary=False, verbose=False):\n",
        "        \"\"\"\n",
        "        Initialize the rating system.\n",
        "\n",
        "        :param learning_rate: Learning rate.\n",
        "        :param params: Parameters for the players.\n",
        "        :param update_sigma: Update also sigma during the gradient descent.\n",
        "        \"\"\"\n",
        "        super().__init__(learning_rate=learning_rate, binary=binary, verbose=verbose)\n",
        "\n",
        "        if not isinstance(base_param, tuple):\n",
        "            raise TypeError(f\"Expected 'base_param' to be a tuple, but got {type(base_param).__name__}\")\n",
        "        if len(base_param) != 2:\n",
        "            raise ValueError(f\"Expected 'value' to be a 2-entry tuple, but got {len(base_param)} entries\")\n",
        "        if not all(isinstance(entry, (int, float)) for entry in base_param):\n",
        "            raise TypeError(\"Both entries in 'base_param' must be float/int\")\n",
        "        if base_param[1] <= 0:\n",
        "            raise ValueError(f\"The second entry in 'base_param' must be greater than 0, but got {base_param[1]}\")\n",
        "\n",
        "        if not isinstance(update_sigma, bool):\n",
        "            raise TypeError(f\"Expected 'update_sigma' to be an bool, but got {type(update_sigma).__name__}\")\n",
        "\n",
        "        self.params = {}\n",
        "        self.base_param = base_param\n",
        "        self.update_sigma = update_sigma\n",
        "\n",
        "\n",
        "\n",
        "    def __repr__(self):\n",
        "        return f\"ModifiedElo(learning_rate={self.learning_rate}, base_param={self.base_param}, update_sigma={self.update_sigma}, verbose={self.verbose})\"\n",
        "\n",
        "\n",
        "\n",
        "\n",
        "\n",
        "\n",
        "    def _get_player_param(self, player):\n",
        "        \"\"\"\n",
        "        Retrieve the current rating of a player. If the player does not exist, use the default.\n",
        "\n",
        "        :param player: The player's name.\n",
        "        :return: Current rating of the player.\n",
        "        \"\"\"\n",
        "        return (player in self.params), self.params.get(player, self.base_param)\n",
        "\n",
        "\n",
        "\n",
        "\n",
        "    def _expected_prob(self, param1, param2):\n",
        "        \"\"\"\n",
        "        Calculate the expected prob. of winning a point.\n",
        "\n",
        "        :param param1: Parameters of Player 1.\n",
        "        :param param2: Parameters of Player 2.\n",
        "        :return: Expected prob for Player 1.\n",
        "        \"\"\"\n",
        "        # Calculate the combined sigma and the difference in mu values\n",
        "        z = (param1[0] - param2[0]) / self._add_sigma(param1[1], param2[1])\n",
        "        # Calculate the predicted probability using the logistic function\n",
        "        return 1 / (1 + np.exp(-z))\n",
        "\n",
        "\n",
        "\n",
        "    def _prediction_verbose(self, player1, player2):\n",
        "        if self.verbose:\n",
        "            for player in (player1, player2):\n",
        "                if player not in self.params:\n",
        "                    print(f'Player \"{player}\" not found. Initialize param: {self.base_param}')\n",
        "\n",
        "\n",
        "\n",
        "    def _add_player(self, player, param=None):\n",
        "        \"\"\"\n",
        "        Add a new player with an optional custom param.\n",
        "\n",
        "        :param player: Name of the player.\n",
        "        :param rating: Custom initial rating (defaults to base_rating if not provided).\n",
        "        \"\"\"\n",
        "        if player not in self.params:\n",
        "            self.params[player] = param if param is not None else self.base_param\n",
        "\n",
        "\n",
        "\n",
        "    def display_params(self, round_digits=2, first_n=None):\n",
        "        \"\"\"\n",
        "        Display the current ratings of all players, rounded to the specified number of digits.\n",
        "\n",
        "        :param round_digits: Number of decimal places to round the parameters. Default is 2.\n",
        "        :param first_n: If specified, only display the top `first_n` players based on their ratings.\n",
        "        \"\"\"\n",
        "        # Sort players by the first element of their parameter tuple in descending order\n",
        "        sorted_params = sorted(self.params.items(), key=lambda x: x[1][0], reverse=True)\n",
        "\n",
        "        # Limit the list to the first `first_n` players if specified\n",
        "        if first_n is not None:\n",
        "            sorted_params = sorted_params[:first_n]\n",
        "\n",
        "        # Display the parameters\n",
        "        for player, param in sorted_params:\n",
        "            rounded_param = tuple(round(value, round_digits) for value in param)\n",
        "            print(f\"{player}: {rounded_param}\")\n",
        "\n",
        "\n",
        "\n",
        "    def _update_params(self, player1, player2, result1):\n",
        "        \"\"\"\n",
        "        Update ratings for two players after a match.\n",
        "\n",
        "        :param player1: Name or identifier of Player 1.\n",
        "        :param player2: Name or identifier of Player 2.\n",
        "        :param result1: Result for Player 1 (points1 / points_tot).\n",
        "        \"\"\"\n",
        "        found_p1, param1 = self.get_player_param(player1)\n",
        "        found_p2, param2 = self.get_player_param(player2)\n",
        "\n",
        "        expected1 = self._expected_prob(param1, param2)\n",
        "        mu_diff = param1[0] - param2[0]\n",
        "        sigma_tot = self._add_sigma(param1[1], param2[1])\n",
        "\n",
        "        # Calculate updates\n",
        "        mu1_update = (expected1 - result1) / sigma_tot\n",
        "        mu2_update = - (expected1 - result1) / sigma_tot\n",
        "        sigma1_update = sigma2_update = 0\n",
        "        if self.update_sigma:\n",
        "            sigma1_update = (-mu_diff * param1[1]) / sigma_tot**3 * (expected1 - result1)\n",
        "            sigma2_update = (-mu_diff * param2[1]) / sigma_tot**3 * (expected1 - result1)\n",
        "\n",
        "        # Update ratings and assign new tuples\n",
        "        self.params[player1] = (\n",
        "            param1[0] - self.learning_rate * mu1_update,\n",
        "            param1[1] - self.learning_rate * sigma1_update\n",
        "        )\n",
        "        self.params[player2] = (\n",
        "            param2[0] - self.learning_rate * mu2_update,\n",
        "            param2[1] - self.learning_rate * sigma2_update\n",
        "        )\n",
        "\n",
        "\n",
        "\n",
        "\n",
        "\n"
      ],
      "metadata": {
        "id": "Srl2xluSd3GM"
      },
      "execution_count": 53,
      "outputs": []
    },
    {
      "cell_type": "code",
      "source": [],
      "metadata": {
        "id": "Q1JQFeeCWsot"
      },
      "execution_count": 53,
      "outputs": []
    },
    {
      "cell_type": "code",
      "source": [],
      "metadata": {
        "id": "CBCmreMoWslJ"
      },
      "execution_count": 53,
      "outputs": []
    },
    {
      "cell_type": "code",
      "source": [],
      "metadata": {
        "id": "BhwcSvdfWsiC"
      },
      "execution_count": 53,
      "outputs": []
    },
    {
      "cell_type": "code",
      "source": [
        "h2h_train = {}\n",
        "for id in tqdm(df_train.ID.unique()):\n",
        "    h2h_train[id] = np.nan_to_num(h2h_rate[id], nan=0.5)\n",
        "\n",
        "h2h_val = {}\n",
        "for id in tqdm(df_val.ID.unique()):\n",
        "    h2h_val[id] = np.nan_to_num(h2h_rate[id], nan=0.5)\n",
        "\n",
        "h2h_train_val = {}\n",
        "for id in tqdm(df_train_val.ID.unique()):\n",
        "    h2h_train_val[id] = np.nan_to_num(h2h_rate[id], nan=0.5)\n",
        "\n",
        "h2h_test = {}\n",
        "for id in tqdm(df_test.ID.unique()):\n",
        "    h2h_test[id] = np.nan_to_num(h2h_rate[id], nan=0.5)"
      ],
      "metadata": {
        "colab": {
          "base_uri": "https://localhost:8080/"
        },
        "id": "O9tadYukJKgQ",
        "outputId": "978c8b7f-69b9-41b0-e3a1-6809f8431a21"
      },
      "execution_count": 54,
      "outputs": [
        {
          "output_type": "stream",
          "name": "stderr",
          "text": [
            "100%|██████████| 9867/9867 [00:00<00:00, 66608.19it/s]\n",
            "100%|██████████| 4451/4451 [00:00<00:00, 66269.03it/s]\n",
            "100%|██████████| 14318/14318 [00:00<00:00, 54764.21it/s]\n",
            "100%|██████████| 2939/2939 [00:00<00:00, 66137.62it/s]\n"
          ]
        }
      ]
    },
    {
      "cell_type": "code",
      "source": [
        "modelMEloH2H = ModifiedEloH2H()\n",
        "\n",
        "# traing model with only training set\n",
        "for _ in range(5):\n",
        "    modelMEloH2H.fit(X_train, h2h_train)\n"
      ],
      "metadata": {
        "id": "J6k5cQeBLURI",
        "colab": {
          "base_uri": "https://localhost:8080/"
        },
        "outputId": "785d0ff9-5fa4-4743-db6b-533cdc37b736"
      },
      "execution_count": 55,
      "outputs": [
        {
          "output_type": "stream",
          "name": "stderr",
          "text": [
            "Training model: 100%|██████████| 9867/9867 [00:00<00:00, 14438.12it/s]\n",
            "Training model: 100%|██████████| 9867/9867 [00:00<00:00, 14565.29it/s]\n",
            "Training model: 100%|██████████| 9867/9867 [00:00<00:00, 15256.38it/s]\n",
            "Training model: 100%|██████████| 9867/9867 [00:00<00:00, 14552.76it/s]\n",
            "Training model: 100%|██████████| 9867/9867 [00:00<00:00, 14662.90it/s]\n"
          ]
        }
      ]
    },
    {
      "cell_type": "code",
      "source": [
        "modelMEloH2H_none = ModifiedEloH2H_none()\n",
        "\n",
        "# traing model with only training set\n",
        "for _ in range(5):\n",
        "    modelMEloH2H_none.fit(X_train)\n"
      ],
      "metadata": {
        "colab": {
          "base_uri": "https://localhost:8080/"
        },
        "id": "Z8b09FDsduV0",
        "outputId": "e4f0a2ff-92c4-47c6-8e5f-3686a302c957"
      },
      "execution_count": 56,
      "outputs": [
        {
          "output_type": "stream",
          "name": "stderr",
          "text": [
            "Training model: 100%|██████████| 9867/9867 [00:00<00:00, 22350.52it/s]\n",
            "Training model: 100%|██████████| 9867/9867 [00:00<00:00, 20219.89it/s]\n",
            "Training model: 100%|██████████| 9867/9867 [00:00<00:00, 22613.12it/s]\n",
            "Training model: 100%|██████████| 9867/9867 [00:00<00:00, 20891.19it/s]\n",
            "Training model: 100%|██████████| 9867/9867 [00:00<00:00, 21575.91it/s]\n"
          ]
        }
      ]
    },
    {
      "cell_type": "code",
      "source": [
        "modelMElo = ModifiedElo()\n",
        "\n",
        "# traing model with only training set\n",
        "for _ in range(5):\n",
        "    modelMElo.fit(X_train)\n"
      ],
      "metadata": {
        "id": "pE6gAsF8jBjL",
        "colab": {
          "base_uri": "https://localhost:8080/"
        },
        "outputId": "568f09d8-6cc8-4893-9984-4c4d84bfb3d0"
      },
      "execution_count": 57,
      "outputs": [
        {
          "output_type": "stream",
          "name": "stderr",
          "text": [
            "Training model: 100%|██████████| 9867/9867 [00:00<00:00, 17170.66it/s]\n",
            "Training model: 100%|██████████| 9867/9867 [00:00<00:00, 12533.23it/s]\n",
            "Training model: 100%|██████████| 9867/9867 [00:00<00:00, 12503.37it/s]\n",
            "Training model: 100%|██████████| 9867/9867 [00:00<00:00, 12148.01it/s]\n",
            "Training model: 100%|██████████| 9867/9867 [00:00<00:00, 21013.39it/s]\n"
          ]
        }
      ]
    },
    {
      "cell_type": "code",
      "source": [
        "modelMEloH2H.eps_h2h"
      ],
      "metadata": {
        "id": "4r29uF0mjBb1",
        "colab": {
          "base_uri": "https://localhost:8080/"
        },
        "outputId": "53c36624-347d-4ff4-e2f4-30ff4936bec8"
      },
      "execution_count": 58,
      "outputs": [
        {
          "output_type": "execute_result",
          "data": {
            "text/plain": [
              "-0.016885520124688955"
            ]
          },
          "metadata": {},
          "execution_count": 58
        }
      ]
    },
    {
      "cell_type": "code",
      "source": [
        "def evaluate(model, dataset):\n",
        "    print(f\"Evaluate model: {repr(model)}\")\n",
        "    _model = copy.deepcopy(model)\n",
        "    _model.verbose = False\n",
        "    correct = 0\n",
        "    n_matches = 0\n",
        "\n",
        "    history = []\n",
        "    predictions = []\n",
        "    for matchi in tqdm(dataset, desc=\"Evaluating matches\"):\n",
        "        matchi = matchi.T\n",
        "        player1, player2 = matchi[1]\n",
        "\n",
        "        found_p1, found_p2, p = _model.predict_point(player1, player2)\n",
        "        if not (found_p1 and found_p2): continue\n",
        "        if p == 0.5: continue\n",
        "        whowillwin = 0 if p > 0.5 else 1\n",
        "\n",
        "        win1 = sum(matchi[2:, 0]>matchi[2:, 1])\n",
        "        win2 = sum(matchi[2:, 0]<matchi[2:, 1])\n",
        "        whowon = 0 if win1 > win2 else 1\n",
        "\n",
        "        history.append(win1/(win1 + win2))\n",
        "        predictions.append(p)\n",
        "\n",
        "        n_matches += 1\n",
        "        if (whowon == whowillwin): correct += 1\n",
        "\n",
        "    acc = correct / n_matches\n",
        "    print(f'\\n === Accuracy: {acc} === \\n\\n')\n",
        "    return acc, np.array(history), np.array(predictions)\n"
      ],
      "metadata": {
        "id": "__lwyVLBJEPY"
      },
      "execution_count": 59,
      "outputs": []
    },
    {
      "cell_type": "code",
      "source": [
        "def evaluateH2H(model, dataset, h2h):\n",
        "    print(f\"Evaluate model: {repr(model)}\")\n",
        "    _model = copy.deepcopy(model)\n",
        "    _model.verbose = False\n",
        "    correct = 0\n",
        "    n_matches = 0\n",
        "\n",
        "    history = []\n",
        "    predictions = []\n",
        "    for matchi in tqdm(dataset, desc=\"Evaluating matches\"):\n",
        "        matchi = matchi.T\n",
        "        h2hi = h2h[matchi[0, 0]]\n",
        "        player1, player2 = matchi[1]\n",
        "\n",
        "        found_p1, found_p2, p = _model.predict_point(player1, player2, h2hi)\n",
        "        if not (found_p1 and found_p2): continue\n",
        "        if p == 0.5: continue\n",
        "        whowillwin = 0 if p > 0.5 else 1\n",
        "\n",
        "        win1 = sum(matchi[2:, 0]>matchi[2:, 1])\n",
        "        win2 = sum(matchi[2:, 0]<matchi[2:, 1])\n",
        "        whowon = 0 if win1 > win2 else 1\n",
        "\n",
        "\n",
        "        history.append(win1/(win1 + win2))\n",
        "        predictions.append(p)\n",
        "\n",
        "        n_matches += 1\n",
        "        if (whowon == whowillwin): correct += 1\n",
        "\n",
        "    acc = correct / n_matches\n",
        "    print(f'\\n === Accuracy: {acc} === \\n\\n')\n",
        "    return acc, np.array(history), np.array(predictions)\n"
      ],
      "metadata": {
        "id": "Fm0aGo6gjBYZ"
      },
      "execution_count": 60,
      "outputs": []
    },
    {
      "cell_type": "code",
      "source": [
        "acc_h2h, hist_h2h, pred_h2h = evaluateH2H(modelMEloH2H, X_train, h2h_train);\n",
        "acc, hist, pred = evaluate(modelMElo, X_train);\n",
        "acc, hist, pred = evaluate(modelMEloH2H_none, X_train);\n",
        "(acc_h2h - acc) * 100"
      ],
      "metadata": {
        "id": "1Cm_LWGEjBVF",
        "colab": {
          "base_uri": "https://localhost:8080/"
        },
        "outputId": "516e3a53-4ef1-4cdb-ff10-60f278528c81"
      },
      "execution_count": 61,
      "outputs": [
        {
          "output_type": "stream",
          "name": "stdout",
          "text": [
            "Evaluate model: ModifiedElo(learning_rate=0.1, base_param=(0, 1), update_sigma=True, verbose=False)\n"
          ]
        },
        {
          "output_type": "stream",
          "name": "stderr",
          "text": [
            "Evaluating matches: 100%|██████████| 9867/9867 [00:00<00:00, 38942.56it/s]\n"
          ]
        },
        {
          "output_type": "stream",
          "name": "stdout",
          "text": [
            "\n",
            " === Accuracy: 0.7496706192358367 === \n",
            "\n",
            "\n",
            "Evaluate model: ModifiedElo(learning_rate=0.1, base_param=(0, 1), update_sigma=True, verbose=False)\n"
          ]
        },
        {
          "output_type": "stream",
          "name": "stderr",
          "text": [
            "Evaluating matches: 100%|██████████| 9867/9867 [00:00<00:00, 48270.90it/s]\n"
          ]
        },
        {
          "output_type": "stream",
          "name": "stdout",
          "text": [
            "\n",
            " === Accuracy: 0.7514948819296645 === \n",
            "\n",
            "\n",
            "Evaluate model: ModifiedElo(learning_rate=0.1, base_param=(0, 1), update_sigma=True, verbose=False)\n"
          ]
        },
        {
          "output_type": "stream",
          "name": "stderr",
          "text": [
            "Evaluating matches: 100%|██████████| 9867/9867 [00:00<00:00, 44019.73it/s]"
          ]
        },
        {
          "output_type": "stream",
          "name": "stdout",
          "text": [
            "\n",
            " === Accuracy: 0.7514948819296645 === \n",
            "\n",
            "\n"
          ]
        },
        {
          "output_type": "stream",
          "name": "stderr",
          "text": [
            "\n"
          ]
        },
        {
          "output_type": "execute_result",
          "data": {
            "text/plain": [
              "-0.18242626938278494"
            ]
          },
          "metadata": {},
          "execution_count": 61
        }
      ]
    },
    {
      "cell_type": "code",
      "source": [
        "acc_h2h, hist_h2h, pred_h2h = evaluateH2H(modelMEloH2H, X_val, h2h_val);\n",
        "acc, hist, pred = evaluate(modelMElo, X_val);\n",
        "acc, hist, pred = evaluate(modelMEloH2H_none, X_val);\n",
        "(acc_h2h - acc) * 100"
      ],
      "metadata": {
        "colab": {
          "base_uri": "https://localhost:8080/"
        },
        "id": "J856eQO3JmLn",
        "outputId": "9544ad5a-f671-432a-d015-9762d7c0ebb5"
      },
      "execution_count": 62,
      "outputs": [
        {
          "output_type": "stream",
          "name": "stdout",
          "text": [
            "Evaluate model: ModifiedElo(learning_rate=0.1, base_param=(0, 1), update_sigma=True, verbose=False)\n"
          ]
        },
        {
          "output_type": "stream",
          "name": "stderr",
          "text": [
            "Evaluating matches: 100%|██████████| 4451/4451 [00:00<00:00, 48988.28it/s]\n"
          ]
        },
        {
          "output_type": "stream",
          "name": "stdout",
          "text": [
            "\n",
            " === Accuracy: 0.6942028985507246 === \n",
            "\n",
            "\n",
            "Evaluate model: ModifiedElo(learning_rate=0.1, base_param=(0, 1), update_sigma=True, verbose=False)\n"
          ]
        },
        {
          "output_type": "stream",
          "name": "stderr",
          "text": [
            "Evaluating matches: 100%|██████████| 4451/4451 [00:00<00:00, 70971.53it/s]\n"
          ]
        },
        {
          "output_type": "stream",
          "name": "stdout",
          "text": [
            "\n",
            " === Accuracy: 0.6931159420289855 === \n",
            "\n",
            "\n",
            "Evaluate model: ModifiedElo(learning_rate=0.1, base_param=(0, 1), update_sigma=True, verbose=False)\n"
          ]
        },
        {
          "output_type": "stream",
          "name": "stderr",
          "text": [
            "Evaluating matches: 100%|██████████| 4451/4451 [00:00<00:00, 67532.11it/s]"
          ]
        },
        {
          "output_type": "stream",
          "name": "stdout",
          "text": [
            "\n",
            " === Accuracy: 0.6931159420289855 === \n",
            "\n",
            "\n"
          ]
        },
        {
          "output_type": "stream",
          "name": "stderr",
          "text": [
            "\n"
          ]
        },
        {
          "output_type": "execute_result",
          "data": {
            "text/plain": [
              "0.10869565217390686"
            ]
          },
          "metadata": {},
          "execution_count": 62
        }
      ]
    },
    {
      "cell_type": "code",
      "source": [
        "modelMEloH2H = ModifiedEloH2H()\n",
        "\n",
        "# traing model with only training set\n",
        "for _ in range(5):\n",
        "    modelMEloH2H.fit(X_train_val, h2h_train_val)\n"
      ],
      "metadata": {
        "id": "I8ETye_ULeXR",
        "outputId": "63863b51-0ff4-4748-e7e4-4dd627328619",
        "colab": {
          "base_uri": "https://localhost:8080/"
        }
      },
      "execution_count": 63,
      "outputs": [
        {
          "output_type": "stream",
          "name": "stderr",
          "text": [
            "Training model: 100%|██████████| 14318/14318 [00:00<00:00, 15568.02it/s]\n",
            "Training model: 100%|██████████| 14318/14318 [00:00<00:00, 14910.41it/s]\n",
            "Training model: 100%|██████████| 14318/14318 [00:01<00:00, 9468.97it/s]\n",
            "Training model: 100%|██████████| 14318/14318 [00:01<00:00, 9303.97it/s] \n",
            "Training model: 100%|██████████| 14318/14318 [00:00<00:00, 14780.01it/s]\n"
          ]
        }
      ]
    },
    {
      "cell_type": "code",
      "source": [
        "modelMEloH2H_none = ModifiedEloH2H_none()\n",
        "\n",
        "# traing model with only training set\n",
        "for _ in range(5):\n",
        "    modelMEloH2H_none.fit(X_train_val)\n"
      ],
      "metadata": {
        "colab": {
          "base_uri": "https://localhost:8080/"
        },
        "id": "4qVJ6HE4jnyc",
        "outputId": "17d4a434-123f-404d-da35-ca4e62ebb194"
      },
      "execution_count": 64,
      "outputs": [
        {
          "output_type": "stream",
          "name": "stderr",
          "text": [
            "Training model: 100%|██████████| 14318/14318 [00:00<00:00, 20849.27it/s]\n",
            "Training model: 100%|██████████| 14318/14318 [00:00<00:00, 21958.22it/s]\n",
            "Training model: 100%|██████████| 14318/14318 [00:00<00:00, 21321.00it/s]\n",
            "Training model: 100%|██████████| 14318/14318 [00:00<00:00, 20916.95it/s]\n",
            "Training model: 100%|██████████| 14318/14318 [00:00<00:00, 21976.44it/s]\n"
          ]
        }
      ]
    },
    {
      "cell_type": "code",
      "source": [
        "modelMElo = ModifiedElo()\n",
        "\n",
        "# traing model with only training set\n",
        "for _ in range(5):\n",
        "    modelMElo.fit(X_train_val)\n"
      ],
      "metadata": {
        "id": "PyfWmG9dMFt1",
        "outputId": "88b68fc0-8738-46ca-ef1f-6afdd40f6528",
        "colab": {
          "base_uri": "https://localhost:8080/"
        }
      },
      "execution_count": 65,
      "outputs": [
        {
          "output_type": "stream",
          "name": "stderr",
          "text": [
            "Training model: 100%|██████████| 14318/14318 [00:00<00:00, 20898.10it/s]\n",
            "Training model: 100%|██████████| 14318/14318 [00:00<00:00, 21205.05it/s]\n",
            "Training model: 100%|██████████| 14318/14318 [00:00<00:00, 22213.49it/s]\n",
            "Training model: 100%|██████████| 14318/14318 [00:00<00:00, 21474.21it/s]\n",
            "Training model: 100%|██████████| 14318/14318 [00:00<00:00, 21321.26it/s]\n"
          ]
        }
      ]
    },
    {
      "cell_type": "code",
      "source": [
        "acc_h2h, hist_h2h, pred_h2h = evaluateH2H(modelMEloH2H, X_test, h2h_test);\n",
        "acc, hist, pred = evaluate(modelMElo, X_test);\n",
        "acc, hist, pred = evaluate(modelMEloH2H_none, X_test);\n",
        "(acc_h2h - acc) * 100"
      ],
      "metadata": {
        "colab": {
          "base_uri": "https://localhost:8080/"
        },
        "id": "UEwtwWOOJlru",
        "outputId": "e78132c2-c5ee-4174-c0c0-17425057f07c"
      },
      "execution_count": 66,
      "outputs": [
        {
          "output_type": "stream",
          "name": "stdout",
          "text": [
            "Evaluate model: ModifiedElo(learning_rate=0.1, base_param=(0, 1), update_sigma=True, verbose=False)\n"
          ]
        },
        {
          "output_type": "stream",
          "name": "stderr",
          "text": [
            "Evaluating matches: 100%|██████████| 2939/2939 [00:00<00:00, 44441.05it/s]\n"
          ]
        },
        {
          "output_type": "stream",
          "name": "stdout",
          "text": [
            "\n",
            " === Accuracy: 0.6987115956392468 === \n",
            "\n",
            "\n",
            "Evaluate model: ModifiedElo(learning_rate=0.1, base_param=(0, 1), update_sigma=True, verbose=False)\n"
          ]
        },
        {
          "output_type": "stream",
          "name": "stderr",
          "text": [
            "Evaluating matches: 100%|██████████| 2939/2939 [00:00<00:00, 65712.07it/s]\n"
          ]
        },
        {
          "output_type": "stream",
          "name": "stdout",
          "text": [
            "\n",
            " === Accuracy: 0.6947472745292369 === \n",
            "\n",
            "\n",
            "Evaluate model: ModifiedElo(learning_rate=0.1, base_param=(0, 1), update_sigma=True, verbose=False)\n"
          ]
        },
        {
          "output_type": "stream",
          "name": "stderr",
          "text": [
            "Evaluating matches: 100%|██████████| 2939/2939 [00:00<00:00, 56637.60it/s]"
          ]
        },
        {
          "output_type": "stream",
          "name": "stdout",
          "text": [
            "\n",
            " === Accuracy: 0.6947472745292369 === \n",
            "\n",
            "\n"
          ]
        },
        {
          "output_type": "stream",
          "name": "stderr",
          "text": [
            "\n"
          ]
        },
        {
          "output_type": "execute_result",
          "data": {
            "text/plain": [
              "0.3964321110009883"
            ]
          },
          "metadata": {},
          "execution_count": 66
        }
      ]
    },
    {
      "cell_type": "code",
      "source": [],
      "metadata": {
        "id": "w8N0UOpEJ7up"
      },
      "execution_count": 66,
      "outputs": []
    },
    {
      "cell_type": "code",
      "source": [],
      "metadata": {
        "id": "N9v5WgiRJ9CM"
      },
      "execution_count": 66,
      "outputs": []
    }
  ]
}